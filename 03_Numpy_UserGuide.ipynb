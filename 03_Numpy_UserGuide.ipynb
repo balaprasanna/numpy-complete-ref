{
 "cells": [
  {
   "cell_type": "code",
   "execution_count": 1,
   "metadata": {},
   "outputs": [],
   "source": [
    "#Importing some util packages\n",
    "from fastai.core import *"
   ]
  },
  {
   "cell_type": "markdown",
   "metadata": {},
   "source": [
    "# Section 1: Why Numpy"
   ]
  },
  {
   "cell_type": "markdown",
   "metadata": {},
   "source": [
    "#### What is Numpy\n",
    "\n",
    "-[https://www.numpy.org/devdocs/user/whatisnumpy.html](https://www.numpy.org/devdocs/user/whatisnumpy.html)\n",
    "\n",
    "\n",
    "```\n",
    "NumPy is the fundamental package for scientific computing in Python. It is a Python library that provides a multidimensional array object, various derived objects (such as masked arrays and matrices), and an assortment of routines for fast operations on arrays, including mathematical, logical, shape manipulation, sorting, selecting, I/O, discrete Fourier transforms, basic linear algebra, basic statistical operations, random simulation and much more.\n",
    "```"
   ]
  },
  {
   "cell_type": "markdown",
   "metadata": {},
   "source": [
    "1. At the core of the NumPy package, is the ndarray object.\n",
    "2. This encapsulates n-dimensional arrays of homogeneous data types, with many operations being performed in compiled code for performance"
   ]
  },
  {
   "cell_type": "markdown",
   "metadata": {},
   "source": [
    "#### Differences between NumPy arrays and the standard Python sequences"
   ]
  },
  {
   "cell_type": "markdown",
   "metadata": {},
   "source": [
    "1. NumPy arrays have a fixed size at creation, unlike Python lists (which can grow dynamically). Changing the size of an ndarray will create a new array and delete the original.\n",
    "\n",
    "2. The elements in a NumPy array are all required to be of the same data type, and thus will be the same size in memory. The exception: one can have arrays of (Python, including NumPy) objects, thereby allowing for arrays of different sized elements.\n",
    "\n",
    "3. NumPy arrays facilitate advanced mathematical and other types of operations on large numbers of data. Typically, such operations are executed more efficiently and with less code than is possible using Python’s built-in sequences.\n",
    "\n",
    "4. A growing plethora of scientific and mathematical Python-based packages are using NumPy arrays; though these typically support Python-sequence input, they convert such input to NumPy arrays prior to processing, and they often output NumPy arrays. In other words, in order to efficiently use much (perhaps even most) of today’s scientific/mathematical Python-based software, just knowing how to use Python’s built-in sequence types is insufficient - one also needs to know how to use NumPy arrays."
   ]
  },
  {
   "cell_type": "code",
   "execution_count": 4,
   "metadata": {},
   "outputs": [
    {
     "data": {
      "text/plain": [
       "[1, 2, 3, 0]"
      ]
     },
     "execution_count": 4,
     "metadata": {},
     "output_type": "execute_result"
    }
   ],
   "source": [
    "a= [1,2,3,4]\n",
    "b= [1,1,1,0]\n",
    "c = []\n",
    "for i in range(len(a)):\n",
    "    c.append(a[i]*b[i])\n",
    "c"
   ]
  },
  {
   "cell_type": "markdown",
   "metadata": {},
   "source": [
    "##### Even more work for - 2D"
   ]
  },
  {
   "cell_type": "raw",
   "metadata": {},
   "source": [
    "for (i = 0; i < rows; i++): {\n",
    "  for (j = 0; j < columns; j++): {\n",
    "    c[i][j] = a[i][j]*b[i][j];\n",
    "  }\n",
    "}"
   ]
  },
  {
   "cell_type": "markdown",
   "metadata": {},
   "source": [
    "##### Numpy's  \n",
    "- element-by-element operations are the “default mode\""
   ]
  },
  {
   "cell_type": "code",
   "execution_count": 8,
   "metadata": {},
   "outputs": [
    {
     "data": {
      "text/plain": [
       "array([1, 2, 3, 0])"
      ]
     },
     "execution_count": 8,
     "metadata": {},
     "output_type": "execute_result"
    }
   ],
   "source": [
    "import numpy as np\n",
    "a= np.array([1,2,3,4])\n",
    "b= np.array([1,1,1,0])\n",
    "\n",
    "c = a * b\n",
    "c"
   ]
  },
  {
   "cell_type": "markdown",
   "metadata": {},
   "source": [
    "# Section 2: The Basics"
   ]
  },
  {
   "cell_type": "code",
   "execution_count": 10,
   "metadata": {},
   "outputs": [],
   "source": [
    "#NumPy’s main object is the homogeneous multidimensional array.\n",
    "#In NumPy dimensions are called axes."
   ]
  },
  {
   "cell_type": "code",
   "execution_count": 11,
   "metadata": {},
   "outputs": [],
   "source": [
    "x = np.array([\n",
    "    [ 1., 0., 0.],\n",
    "    [ 0., 1., 2.]\n",
    "])"
   ]
  },
  {
   "cell_type": "code",
   "execution_count": 13,
   "metadata": {},
   "outputs": [
    {
     "data": {
      "text/plain": [
       "(2, 3)"
      ]
     },
     "execution_count": 13,
     "metadata": {},
     "output_type": "execute_result"
    }
   ],
   "source": [
    "x.shape"
   ]
  },
  {
   "cell_type": "code",
   "execution_count": 14,
   "metadata": {},
   "outputs": [
    {
     "data": {
      "text/plain": [
       "array([1., 1., 2.])"
      ]
     },
     "execution_count": 14,
     "metadata": {},
     "output_type": "execute_result"
    }
   ],
   "source": [
    "x.sum(axis=0)"
   ]
  },
  {
   "cell_type": "code",
   "execution_count": 15,
   "metadata": {},
   "outputs": [
    {
     "data": {
      "text/plain": [
       "array([1., 3.])"
      ]
     },
     "execution_count": 15,
     "metadata": {},
     "output_type": "execute_result"
    }
   ],
   "source": [
    "x.sum(axis=1)"
   ]
  },
  {
   "cell_type": "code",
   "execution_count": 16,
   "metadata": {},
   "outputs": [
    {
     "data": {
      "text/plain": [
       "(2, 3)"
      ]
     },
     "execution_count": 16,
     "metadata": {},
     "output_type": "execute_result"
    }
   ],
   "source": [
    "x.shape"
   ]
  },
  {
   "cell_type": "code",
   "execution_count": 17,
   "metadata": {},
   "outputs": [
    {
     "data": {
      "text/plain": [
       "2"
      ]
     },
     "execution_count": 17,
     "metadata": {},
     "output_type": "execute_result"
    }
   ],
   "source": [
    "x.ndim"
   ]
  },
  {
   "cell_type": "code",
   "execution_count": 24,
   "metadata": {},
   "outputs": [
    {
     "data": {
      "text/plain": [
       "('x1.shape = ', (4, 3), 'x1.ndim = ', 2)"
      ]
     },
     "execution_count": 24,
     "metadata": {},
     "output_type": "execute_result"
    }
   ],
   "source": [
    "x1 = np.vstack([x,x])\n",
    "\"x1.shape = \", x1.shape, \"x1.ndim = \", x1.ndim"
   ]
  },
  {
   "cell_type": "code",
   "execution_count": 37,
   "metadata": {},
   "outputs": [
    {
     "data": {
      "text/plain": [
       "array([[[1., 0.],\n",
       "        [0., 1.]],\n",
       "\n",
       "       [[0., 0.],\n",
       "        [1., 0.]],\n",
       "\n",
       "       [[0., 1.],\n",
       "        [0., 0.]],\n",
       "\n",
       "       [[0., 1.],\n",
       "        [2., 0.]],\n",
       "\n",
       "       [[1., 2.],\n",
       "        [0., 1.]],\n",
       "\n",
       "       [[2., 0.],\n",
       "        [1., 2.]]])"
      ]
     },
     "execution_count": 37,
     "metadata": {},
     "output_type": "execute_result"
    }
   ],
   "source": [
    "x2 = np.hstack([x,x,x,x])\n",
    "x3 = x2.reshape((6,2,-1))\n",
    "x3"
   ]
  },
  {
   "cell_type": "code",
   "execution_count": 38,
   "metadata": {},
   "outputs": [
    {
     "data": {
      "text/plain": [
       "3"
      ]
     },
     "execution_count": 38,
     "metadata": {},
     "output_type": "execute_result"
    }
   ],
   "source": [
    "x3.ndim"
   ]
  },
  {
   "cell_type": "code",
   "execution_count": 39,
   "metadata": {},
   "outputs": [
    {
     "data": {
      "text/plain": [
       "(6, 2, 2)"
      ]
     },
     "execution_count": 39,
     "metadata": {},
     "output_type": "execute_result"
    }
   ],
   "source": [
    "x3.shape"
   ]
  },
  {
   "cell_type": "code",
   "execution_count": 48,
   "metadata": {},
   "outputs": [
    {
     "data": {
      "text/plain": [
       "(32, 16, 8)"
      ]
     },
     "execution_count": 48,
     "metadata": {},
     "output_type": "execute_result"
    }
   ],
   "source": [
    "x3.data.strides"
   ]
  },
  {
   "cell_type": "code",
   "execution_count": 50,
   "metadata": {},
   "outputs": [
    {
     "data": {
      "text/plain": [
       "(6, 2, 2)"
      ]
     },
     "execution_count": 50,
     "metadata": {},
     "output_type": "execute_result"
    }
   ],
   "source": [
    "x3.shape"
   ]
  },
  {
   "cell_type": "code",
   "execution_count": 51,
   "metadata": {},
   "outputs": [
    {
     "data": {
      "text/plain": [
       "array([[4., 4.],\n",
       "       [4., 4.]])"
      ]
     },
     "execution_count": 51,
     "metadata": {},
     "output_type": "execute_result"
    }
   ],
   "source": [
    "x3.sum(axis=0)"
   ]
  },
  {
   "cell_type": "code",
   "execution_count": 52,
   "metadata": {},
   "outputs": [
    {
     "data": {
      "text/plain": [
       "array([[1., 1.],\n",
       "       [1., 0.],\n",
       "       [0., 1.],\n",
       "       [2., 1.],\n",
       "       [1., 3.],\n",
       "       [3., 2.]])"
      ]
     },
     "execution_count": 52,
     "metadata": {},
     "output_type": "execute_result"
    }
   ],
   "source": [
    "x3.sum(axis=1)"
   ]
  },
  {
   "cell_type": "code",
   "execution_count": 53,
   "metadata": {},
   "outputs": [
    {
     "data": {
      "text/plain": [
       "array([[1., 1.],\n",
       "       [0., 1.],\n",
       "       [1., 0.],\n",
       "       [1., 2.],\n",
       "       [3., 1.],\n",
       "       [2., 3.]])"
      ]
     },
     "execution_count": 53,
     "metadata": {},
     "output_type": "execute_result"
    }
   ],
   "source": [
    "x3.sum(axis=2)"
   ]
  },
  {
   "cell_type": "code",
   "execution_count": 54,
   "metadata": {},
   "outputs": [
    {
     "data": {
      "text/plain": [
       "(6, 2, 2)"
      ]
     },
     "execution_count": 54,
     "metadata": {},
     "output_type": "execute_result"
    }
   ],
   "source": [
    "x3.shape"
   ]
  },
  {
   "cell_type": "code",
   "execution_count": 62,
   "metadata": {},
   "outputs": [
    {
     "data": {
      "text/plain": [
       "2.0"
      ]
     },
     "execution_count": 62,
     "metadata": {},
     "output_type": "execute_result"
    }
   ],
   "source": [
    "x3.item(-1)"
   ]
  },
  {
   "cell_type": "code",
   "execution_count": null,
   "metadata": {},
   "outputs": [],
   "source": [
    "x3.itemset()"
   ]
  },
  {
   "cell_type": "code",
   "execution_count": 64,
   "metadata": {},
   "outputs": [
    {
     "data": {
      "text/plain": [
       "8"
      ]
     },
     "execution_count": 64,
     "metadata": {},
     "output_type": "execute_result"
    }
   ],
   "source": [
    "x3.itemsize"
   ]
  },
  {
   "cell_type": "code",
   "execution_count": 66,
   "metadata": {},
   "outputs": [
    {
     "data": {
      "text/plain": [
       "24"
      ]
     },
     "execution_count": 66,
     "metadata": {},
     "output_type": "execute_result"
    }
   ],
   "source": [
    "x2.size"
   ]
  },
  {
   "cell_type": "code",
   "execution_count": 71,
   "metadata": {},
   "outputs": [
    {
     "data": {
      "text/plain": [
       "'float64'"
      ]
     },
     "execution_count": 71,
     "metadata": {},
     "output_type": "execute_result"
    }
   ],
   "source": [
    "x3.dtype.name"
   ]
  },
  {
   "cell_type": "code",
   "execution_count": 74,
   "metadata": {},
   "outputs": [
    {
     "data": {
      "text/plain": [
       "array([1, 2, 3, 4])"
      ]
     },
     "execution_count": 74,
     "metadata": {},
     "output_type": "execute_result"
    }
   ],
   "source": [
    "a"
   ]
  },
  {
   "cell_type": "code",
   "execution_count": 78,
   "metadata": {},
   "outputs": [
    {
     "data": {
      "text/plain": [
       "(1, 10, (4,))"
      ]
     },
     "execution_count": 78,
     "metadata": {},
     "output_type": "execute_result"
    }
   ],
   "source": [
    "a.ndim, a.sum(axis=0), a.shape"
   ]
  },
  {
   "cell_type": "code",
   "execution_count": 90,
   "metadata": {},
   "outputs": [],
   "source": [
    "c1= np.array([\n",
    "    [2,0,1,1],\n",
    "    [1,2,3,1],\n",
    "    [1,0,1,1]\n",
    "])\n",
    "c_3d = np.stack((c1,c1))"
   ]
  },
  {
   "cell_type": "code",
   "execution_count": 91,
   "metadata": {},
   "outputs": [
    {
     "data": {
      "text/plain": [
       "array([[[2, 0, 1, 1],\n",
       "        [1, 2, 3, 1],\n",
       "        [1, 0, 1, 1]],\n",
       "\n",
       "       [[2, 0, 1, 1],\n",
       "        [1, 2, 3, 1],\n",
       "        [1, 0, 1, 1]]])"
      ]
     },
     "execution_count": 91,
     "metadata": {},
     "output_type": "execute_result"
    }
   ],
   "source": [
    "c_3d"
   ]
  },
  {
   "cell_type": "code",
   "execution_count": 92,
   "metadata": {},
   "outputs": [
    {
     "data": {
      "text/plain": [
       "(2, 3, 4)"
      ]
     },
     "execution_count": 92,
     "metadata": {},
     "output_type": "execute_result"
    }
   ],
   "source": [
    "c_3d.shape"
   ]
  },
  {
   "cell_type": "code",
   "execution_count": 93,
   "metadata": {},
   "outputs": [
    {
     "data": {
      "text/plain": [
       "3"
      ]
     },
     "execution_count": 93,
     "metadata": {},
     "output_type": "execute_result"
    }
   ],
   "source": [
    "c_3d.ndim"
   ]
  },
  {
   "cell_type": "code",
   "execution_count": 97,
   "metadata": {},
   "outputs": [
    {
     "data": {
      "text/plain": [
       "array([[4, 0, 2, 2],\n",
       "       [2, 4, 6, 2],\n",
       "       [2, 0, 2, 2]])"
      ]
     },
     "execution_count": 97,
     "metadata": {},
     "output_type": "execute_result"
    }
   ],
   "source": [
    "c_3d.sum(axis=0)"
   ]
  },
  {
   "cell_type": "code",
   "execution_count": 98,
   "metadata": {},
   "outputs": [
    {
     "data": {
      "text/plain": [
       "array([[4, 2, 5, 3],\n",
       "       [4, 2, 5, 3]])"
      ]
     },
     "execution_count": 98,
     "metadata": {},
     "output_type": "execute_result"
    }
   ],
   "source": [
    "c_3d.sum(axis=1)"
   ]
  },
  {
   "cell_type": "code",
   "execution_count": 99,
   "metadata": {},
   "outputs": [
    {
     "data": {
      "text/plain": [
       "array([[4, 7, 3],\n",
       "       [4, 7, 3]])"
      ]
     },
     "execution_count": 99,
     "metadata": {},
     "output_type": "execute_result"
    }
   ],
   "source": [
    "c_3d.sum(axis=2)"
   ]
  },
  {
   "cell_type": "markdown",
   "metadata": {},
   "source": [
    "# Array Creation"
   ]
  },
  {
   "cell_type": "code",
   "execution_count": 100,
   "metadata": {},
   "outputs": [],
   "source": [
    "a = np.array([2,3,4])"
   ]
  },
  {
   "cell_type": "code",
   "execution_count": 101,
   "metadata": {},
   "outputs": [
    {
     "data": {
      "text/plain": [
       "array([2, 3, 4])"
      ]
     },
     "execution_count": 101,
     "metadata": {},
     "output_type": "execute_result"
    }
   ],
   "source": [
    "a"
   ]
  },
  {
   "cell_type": "code",
   "execution_count": 102,
   "metadata": {},
   "outputs": [
    {
     "data": {
      "text/plain": [
       "dtype('int64')"
      ]
     },
     "execution_count": 102,
     "metadata": {},
     "output_type": "execute_result"
    }
   ],
   "source": [
    "a.dtype"
   ]
  },
  {
   "cell_type": "code",
   "execution_count": 103,
   "metadata": {},
   "outputs": [
    {
     "data": {
      "text/plain": [
       "dtype('float64')"
      ]
     },
     "execution_count": 103,
     "metadata": {},
     "output_type": "execute_result"
    }
   ],
   "source": [
    "b = np.array([1.2, 3.5, 5.1])\n",
    "b.dtype"
   ]
  },
  {
   "cell_type": "code",
   "execution_count": 106,
   "metadata": {},
   "outputs": [
    {
     "name": "stdout",
     "output_type": "stream",
     "text": [
      "float64\n",
      "2\n",
      "(2, 3)\n"
     ]
    }
   ],
   "source": [
    "b = np.array([(1.5,2,3), (4,5,6)])\n",
    "print(b.dtype)\n",
    "print(b.ndim)\n",
    "print(b.shape)"
   ]
  },
  {
   "cell_type": "code",
   "execution_count": 111,
   "metadata": {},
   "outputs": [
    {
     "name": "stdout",
     "output_type": "stream",
     "text": [
      "int64\n",
      "2\n",
      "(2, 3)\n"
     ]
    }
   ],
   "source": [
    "# Controll the dtype\n",
    "b = np.array([(1.5,2,3), (4,5,6)], dtype=np.int64)\n",
    "print(b.dtype)\n",
    "print(b.ndim)\n",
    "print(b.shape)"
   ]
  },
  {
   "cell_type": "markdown",
   "metadata": {},
   "source": [
    "# np.arange vs range"
   ]
  },
  {
   "cell_type": "code",
   "execution_count": 112,
   "metadata": {},
   "outputs": [
    {
     "name": "stdout",
     "output_type": "stream",
     "text": [
      "Help on built-in function arange in module numpy.core.multiarray:\n",
      "\n",
      "arange(...)\n",
      "    arange([start,] stop[, step,], dtype=None)\n",
      "    \n",
      "    Return evenly spaced values within a given interval.\n",
      "    \n",
      "    Values are generated within the half-open interval ``[start, stop)``\n",
      "    (in other words, the interval including `start` but excluding `stop`).\n",
      "    For integer arguments the function is equivalent to the Python built-in\n",
      "    `range <http://docs.python.org/lib/built-in-funcs.html>`_ function,\n",
      "    but returns an ndarray rather than a list.\n",
      "    \n",
      "    When using a non-integer step, such as 0.1, the results will often not\n",
      "    be consistent.  It is better to use ``linspace`` for these cases.\n",
      "    \n",
      "    Parameters\n",
      "    ----------\n",
      "    start : number, optional\n",
      "        Start of interval.  The interval includes this value.  The default\n",
      "        start value is 0.\n",
      "    stop : number\n",
      "        End of interval.  The interval does not include this value, except\n",
      "        in some cases where `step` is not an integer and floating point\n",
      "        round-off affects the length of `out`.\n",
      "    step : number, optional\n",
      "        Spacing between values.  For any output `out`, this is the distance\n",
      "        between two adjacent values, ``out[i+1] - out[i]``.  The default\n",
      "        step size is 1.  If `step` is specified as a position argument,\n",
      "        `start` must also be given.\n",
      "    dtype : dtype\n",
      "        The type of the output array.  If `dtype` is not given, infer the data\n",
      "        type from the other input arguments.\n",
      "    \n",
      "    Returns\n",
      "    -------\n",
      "    arange : ndarray\n",
      "        Array of evenly spaced values.\n",
      "    \n",
      "        For floating point arguments, the length of the result is\n",
      "        ``ceil((stop - start)/step)``.  Because of floating point overflow,\n",
      "        this rule may result in the last element of `out` being greater\n",
      "        than `stop`.\n",
      "    \n",
      "    See Also\n",
      "    --------\n",
      "    linspace : Evenly spaced numbers with careful handling of endpoints.\n",
      "    ogrid: Arrays of evenly spaced numbers in N-dimensions.\n",
      "    mgrid: Grid-shaped arrays of evenly spaced numbers in N-dimensions.\n",
      "    \n",
      "    Examples\n",
      "    --------\n",
      "    >>> np.arange(3)\n",
      "    array([0, 1, 2])\n",
      "    >>> np.arange(3.0)\n",
      "    array([ 0.,  1.,  2.])\n",
      "    >>> np.arange(3,7)\n",
      "    array([3, 4, 5, 6])\n",
      "    >>> np.arange(3,7,2)\n",
      "    array([3, 5])\n",
      "\n"
     ]
    }
   ],
   "source": [
    "help(np.arange)"
   ]
  },
  {
   "cell_type": "code",
   "execution_count": 113,
   "metadata": {},
   "outputs": [
    {
     "data": {
      "text/plain": [
       "array([0, 1, 2])"
      ]
     },
     "execution_count": 113,
     "metadata": {},
     "output_type": "execute_result"
    }
   ],
   "source": [
    "np.arange(3)"
   ]
  },
  {
   "cell_type": "code",
   "execution_count": 114,
   "metadata": {},
   "outputs": [
    {
     "data": {
      "text/plain": [
       "array([0., 1., 2.])"
      ]
     },
     "execution_count": 114,
     "metadata": {},
     "output_type": "execute_result"
    }
   ],
   "source": [
    "np.arange(3.0)"
   ]
  },
  {
   "cell_type": "code",
   "execution_count": 116,
   "metadata": {},
   "outputs": [
    {
     "data": {
      "text/plain": [
       "array([3. , 3.5, 4. , 4.5, 5. , 5.5, 6. , 6.5, 7. , 7.5, 8. , 8.5, 9. ,\n",
       "       9.5])"
      ]
     },
     "execution_count": 116,
     "metadata": {},
     "output_type": "execute_result"
    }
   ],
   "source": [
    "np.arange(3,10, 0.5)"
   ]
  },
  {
   "cell_type": "code",
   "execution_count": 118,
   "metadata": {},
   "outputs": [
    {
     "data": {
      "text/plain": [
       "<function numpy.lib.function_base.piecewise(x, condlist, funclist, *args, **kw)>"
      ]
     },
     "execution_count": 118,
     "metadata": {},
     "output_type": "execute_result"
    }
   ],
   "source": [
    "# np.piecewise()"
   ]
  },
  {
   "cell_type": "code",
   "execution_count": 119,
   "metadata": {},
   "outputs": [
    {
     "data": {
      "text/plain": [
       "array([0.  , 0.25, 0.5 , 0.75, 1.  , 1.25, 1.5 , 1.75, 2.  ])"
      ]
     },
     "execution_count": 119,
     "metadata": {},
     "output_type": "execute_result"
    }
   ],
   "source": [
    "np.linspace( 0, 2, 9 )"
   ]
  },
  {
   "cell_type": "code",
   "execution_count": 125,
   "metadata": {},
   "outputs": [
    {
     "data": {
      "text/plain": [
       "array([0.        , 0.22222222, 0.44444444, 0.66666667, 0.88888889,\n",
       "       1.11111111, 1.33333333, 1.55555556, 1.77777778])"
      ]
     },
     "execution_count": 125,
     "metadata": {},
     "output_type": "execute_result"
    }
   ],
   "source": [
    "np.arange( 0, 2, (2-0)/9 )"
   ]
  },
  {
   "cell_type": "code",
   "execution_count": 132,
   "metadata": {},
   "outputs": [
    {
     "data": {
      "text/plain": [
       "array([[1.41529402e+161, 9.16651763e-072, 3.88664251e+097],\n",
       "       [3.21142670e-322, 4.68078024e-310, 6.92222927e-310]])"
      ]
     },
     "execution_count": 132,
     "metadata": {},
     "output_type": "execute_result"
    }
   ],
   "source": [
    "np.empty( (2,3) )"
   ]
  },
  {
   "cell_type": "code",
   "execution_count": 133,
   "metadata": {},
   "outputs": [
    {
     "data": {
      "text/plain": [
       "array([[[1, 1, 1, 1],\n",
       "        [1, 1, 1, 1],\n",
       "        [1, 1, 1, 1]],\n",
       "\n",
       "       [[1, 1, 1, 1],\n",
       "        [1, 1, 1, 1],\n",
       "        [1, 1, 1, 1]]], dtype=int16)"
      ]
     },
     "execution_count": 133,
     "metadata": {},
     "output_type": "execute_result"
    }
   ],
   "source": [
    "np.ones( (2,3,4), dtype=np.int16 )      "
   ]
  },
  {
   "cell_type": "code",
   "execution_count": 134,
   "metadata": {},
   "outputs": [
    {
     "data": {
      "text/plain": [
       "array([[[0, 0, 0, 0],\n",
       "        [0, 0, 0, 0],\n",
       "        [0, 0, 0, 0]],\n",
       "\n",
       "       [[0, 0, 0, 0],\n",
       "        [0, 0, 0, 0],\n",
       "        [0, 0, 0, 0]]], dtype=int16)"
      ]
     },
     "execution_count": 134,
     "metadata": {},
     "output_type": "execute_result"
    }
   ],
   "source": [
    "np.zeros( (2,3,4), dtype=np.int16 )      "
   ]
  },
  {
   "cell_type": "code",
   "execution_count": 135,
   "metadata": {},
   "outputs": [
    {
     "data": {
      "text/plain": [
       "array([[[3, 3, 3, 3],\n",
       "        [3, 3, 3, 3],\n",
       "        [3, 3, 3, 3]],\n",
       "\n",
       "       [[3, 3, 3, 3],\n",
       "        [3, 3, 3, 3],\n",
       "        [3, 3, 3, 3]]], dtype=int16)"
      ]
     },
     "execution_count": 135,
     "metadata": {},
     "output_type": "execute_result"
    }
   ],
   "source": [
    "np.full( (2,3,4), 3, dtype=np.int16 )      "
   ]
  },
  {
   "cell_type": "code",
   "execution_count": 155,
   "metadata": {},
   "outputs": [],
   "source": [
    "x = np.linspace( 0, 2*np.pi, 100 )"
   ]
  },
  {
   "cell_type": "code",
   "execution_count": 156,
   "metadata": {},
   "outputs": [],
   "source": [
    "y = np.sin(x)"
   ]
  },
  {
   "cell_type": "code",
   "execution_count": 157,
   "metadata": {},
   "outputs": [
    {
     "data": {
      "text/plain": [
       "[<matplotlib.lines.Line2D at 0x7f6cd09fce48>]"
      ]
     },
     "execution_count": 157,
     "metadata": {},
     "output_type": "execute_result"
    },
    {
     "data": {
      "image/png": "[encoded data removed]",
      "text/plain": [
       "<Figure size 432x288 with 1 Axes>"
      ]
     },
     "metadata": {},
     "output_type": "display_data"
    }
   ],
   "source": [
    "plt.plot(y, \"-or\")"
   ]
  },
  {
   "cell_type": "code",
   "execution_count": 166,
   "metadata": {
    "scrolled": true
   },
   "outputs": [
    {
     "data": {
      "text/plain": [
       "{'__name__': '__main__',\n",
       " '__doc__': 'Automatically created module for IPython interactive environment',\n",
       " '__package__': None,\n",
       " '__loader__': None,\n",
       " '__spec__': None,\n",
       " '__builtin__': <module 'builtins' (built-in)>,\n",
       " '__builtins__': <module 'builtins' (built-in)>,\n",
       " '_ih': ['',\n",
       "  'c = []\\nfor i in range(len(a)):\\n    c.append(a[i]*b[i])',\n",
       "  'a= [1,2,3,4]\\nb= [1,1,1,1]\\nc = []\\nfor i in range(len(a)):\\n    c.append(a[i]*b[i])',\n",
       "  'a= [1,2,3,4]\\nb= [1,1,1,1]\\nc = []\\nfor i in range(len(a)):\\n    c.append(a[i]*b[i])\\nc',\n",
       "  'a= [1,2,3,4]\\nb= [1,1,1,0]\\nc = []\\nfor i in range(len(a)):\\n    c.append(a[i]*b[i])\\nc',\n",
       "  'a= [[1,2,3,4]]\\nb= [[1,1,1,0]]\\n\\nrows = 1\\ncolumns = 4\\n\\nfor (i = 0; i < rows; i++): {\\n  for (j = 0; j < columns; j++): {\\n    c[i][j] = a[i][j]*b[i][j];\\n  }\\n}',\n",
       "  'a= np.array([1,2,3,4])\\nb= np.array([1,1,1,0])\\n\\nc = a * b\\nc',\n",
       "  'import numpy as np',\n",
       "  'import numpy as np\\na= np.array([1,2,3,4])\\nb= np.array([1,1,1,0])\\n\\nc = a * b\\nc',\n",
       "  '#In NumPy dimensions are called axes.',\n",
       "  '#NumPy’s main object is the homogeneous multidimensional array.\\n#In NumPy dimensions are called axes.',\n",
       "  'x = np.array([\\n    [ 1., 0., 0.],\\n    [ 0., 1., 2.]\\n])',\n",
       "  'x',\n",
       "  'x.shape',\n",
       "  'x.sum(axis=0)',\n",
       "  'x.sum(axis=1)',\n",
       "  'x.shape',\n",
       "  'x.ndim',\n",
       "  'np.vstack([x,x])\\n# np.hstack',\n",
       "  'np.hstack([x,x])',\n",
       "  'x1 = np.vstack([x,x])\\nx1.shape',\n",
       "  'x1 = np.vstack([x,x])\\nx1.shape\\nx1.ndim',\n",
       "  'x1 = np.vstack([x,x])\\nx1.shape, x1.ndim',\n",
       "  'x1 = np.vstack([x,x])\\n\"x1.shape\", x1.shape, x1.ndim',\n",
       "  'x1 = np.vstack([x,x])\\n\"x1.shape = \", x1.shape, \"x1.ndim = \", x1.ndim',\n",
       "  'np.hstack([x,x,x,x])',\n",
       "  'x2 = np.hstack([x,x,x,x])\\nx2',\n",
       "  'x2 = np.hstack([x,x,x,x])\\nx2.reshape(shape=(2,-1))',\n",
       "  'x2 = np.hstack([x,x,x,x])\\nx2.reshape(shape=(2,None))',\n",
       "  'x2 = np.hstack([x,x,x,x])\\nx2.reshape((2,-1))',\n",
       "  'x2 = np.hstack([x,x,x,x])\\nx2.reshape(shape=(2,-1))',\n",
       "  'x2 = np.hstack([x,x,x,x])\\nx2.reshape((2,-1))',\n",
       "  'x2 = np.hstack([x,x,x,x])\\nx2.reshape((3,-1))',\n",
       "  'x2 = np.hstack([x,x,x,x])\\nx2.reshape((4,-1))',\n",
       "  'x2 = np.hstack([x,x,x,x])\\nx2.reshape((5,-1))',\n",
       "  'x2 = np.hstack([x,x,x,x])\\nx2.reshape((6,-1))',\n",
       "  'x2 = np.hstack([x,x,x,x])\\nx2.reshape((6,2,-1))',\n",
       "  'x2 = np.hstack([x,x,x,x])\\nx3 = x2.reshape((6,2,-1))\\nx3',\n",
       "  'x3.ndim',\n",
       "  'x3.shape',\n",
       "  'x3.data',\n",
       "  'x3.data()',\n",
       "  'x3.data.c_contiguous',\n",
       "  'x3.data.itemsize',\n",
       "  'x3.data.ndim',\n",
       "  'x3.data.obj',\n",
       "  'x3.data.tobytes',\n",
       "  'x3.data.tobytes()',\n",
       "  'x3.data.strides',\n",
       "  'x3',\n",
       "  'x3.shape',\n",
       "  'x3.sum(axis=0)',\n",
       "  'x3.sum(axis=1)',\n",
       "  'x3.sum(axis=2)',\n",
       "  'x3.shape',\n",
       "  'x3.item',\n",
       "  'x3.item()',\n",
       "  'x3.item(1)',\n",
       "  'x3.item(2)',\n",
       "  'x3.item(10)',\n",
       "  'x3.item(3)',\n",
       "  'x3',\n",
       "  'x3.item(-1)',\n",
       "  'x3.itemsize()',\n",
       "  'x3.itemsize',\n",
       "  'x2.size()',\n",
       "  'x2.size',\n",
       "  'x3.dtype.names',\n",
       "  'x3.dtype.names',\n",
       "  'x3.dtype.name',\n",
       "  'x3.dtype.shape',\n",
       "  'x3.dtype.name',\n",
       "  'a',\n",
       "  'a.ndim',\n",
       "  'a',\n",
       "  'a.ndim',\n",
       "  'a.ndim, a.sum(axis=0)',\n",
       "  'a.ndim, a.sum(axis=0)\\na.shape',\n",
       "  'a.ndim, a.sum(axis=0), a.shape',\n",
       "  'c1= np.array([\\n    [2,0,1],\\n    [1,2,3],\\n    [1,0,1]\\n])',\n",
       "  'c1= np.array([\\n    [2,0,1],\\n    [1,2,3],\\n    [1,0,1]\\n])\\nnp.stack((c1,c1,c1))',\n",
       "  'c1= np.array([\\n    [2,0,1],\\n    [1,2,3],\\n    [1,0,1]\\n])\\nc_3d = np.stack((c1,c1,c1))',\n",
       "  'c_3d',\n",
       "  'c_3d.shape',\n",
       "  'c_3d.ndim',\n",
       "  'c_3d.sum(axis=0)',\n",
       "  'c_3d.sum(axis=1)',\n",
       "  'c_3d.sum(axis=2)',\n",
       "  'c1= np.array([\\n    [2,0,1,1],\\n    [1,2,3,1],\\n    [1,0,1,1]\\n])\\nc_3d = np.stack((c1,c1,c1))',\n",
       "  'c_3d',\n",
       "  'c1= np.array([\\n    [2,0,1,1],\\n    [1,2,3,1],\\n    [1,0,1,1]\\n])\\nc_3d = np.stack((c1,c1))',\n",
       "  'c_3d',\n",
       "  'c_3d.shape',\n",
       "  'c_3d.ndim',\n",
       "  'c_3d.sum(axis=0)',\n",
       "  'c_3d.sum(axis=0)',\n",
       "  'c_3d.sum(axis=1)',\n",
       "  'c_3d.sum(axis=0)',\n",
       "  'c_3d.sum(axis=1)',\n",
       "  'c_3d.sum(axis=2)',\n",
       "  'a = np.array([2,3,4])',\n",
       "  'a',\n",
       "  'a.dtype',\n",
       "  'b = np.array([1.2, 3.5, 5.1])\\nb.dtype',\n",
       "  'b = np.array([(1.5,2,3), (4,5,6)])\\nb.dtype',\n",
       "  'b = np.array([(1.5,2,3), (4,5,6)])\\nprint(b.dtype)\\nprint(b.ndim)',\n",
       "  'b = np.array([(1.5,2,3), (4,5,6)])\\nprint(b.dtype)\\nprint(b.ndim)\\nprint(b.shape)',\n",
       "  '# Controll the dtype\\nb = np.array([(1.5,2,3), (4,5,6)], dtype=int)\\nprint(b.dtype)\\nprint(b.ndim)\\nprint(b.shape)',\n",
       "  '# Controll the dtype\\nb = np.array([(1.5,2,3), (4,5,6)], dtype=int64)\\nprint(b.dtype)\\nprint(b.ndim)\\nprint(b.shape)',\n",
       "  '# Controll the dtype\\nb = np.array([(1.5,2,3), (4,5,6)], dtype=OBJECT)\\nprint(b.dtype)\\nprint(b.ndim)\\nprint(b.shape)',\n",
       "  '# Controll the dtype\\nb = np.array([(1.5,2,3), (4,5,6)], dtype=object)\\nprint(b.dtype)\\nprint(b.ndim)\\nprint(b.shape)',\n",
       "  '# Controll the dtype\\nb = np.array([(1.5,2,3), (4,5,6)], dtype=np.int64)\\nprint(b.dtype)\\nprint(b.ndim)\\nprint(b.shape)',\n",
       "  'help(np.arange)',\n",
       "  'np.arange(3)',\n",
       "  'np.arange(3.0)',\n",
       "  'np.arange(3,10, 0.03)',\n",
       "  'np.arange(3,10, 0.5)',\n",
       "  'np.pi',\n",
       "  'np.piecewise',\n",
       "  'np.linspace( 0, 2, 9 )',\n",
       "  'np.arange( 0, 2, 9 )',\n",
       "  'np.arange( 0, 2, (2-0)/9 )',\n",
       "  'np.arange( 0, 2, (2-0)//9 )',\n",
       "  'np.arange( 0, 2, (2-0)/9 )',\n",
       "  'np.arange( 0, 2, (2+1-0)/9 )',\n",
       "  'np.arange( 0, 2, (2-0)/9 )',\n",
       "  'np.empty( (2,3) )',\n",
       "  'np.empty( (2,3) )',\n",
       "  'np.empty( (2,3) )',\n",
       "  'np.empty( (2,3) )',\n",
       "  'np.empty( (2,3) , int)',\n",
       "  'np.empty( (2,3))',\n",
       "  'np.empty( (2,3) )',\n",
       "  'np.ones( (2,3,4), dtype=np.int16 )      ',\n",
       "  'np.zeros( (2,3,4), dtype=np.int16 )      ',\n",
       "  'np.full( (2,3,4), 3, dtype=np.int16 )      ',\n",
       "  'x = np.linspace( 0, 2*np.pi, 100 )',\n",
       "  'x',\n",
       "  'x = np.linspace( 0, 2*np.pi, 10 )',\n",
       "  'x',\n",
       "  'y = np.sin(x)',\n",
       "  'from fastai import *',\n",
       "  'from fastai.core import *',\n",
       "  'plt.show(x,y)',\n",
       "  'plt.plt(x,y)',\n",
       "  'plt.plot(x,y)',\n",
       "  'plt.plot(x)',\n",
       "  'plt.plot(y)',\n",
       "  'plt.plot(y, linestyle=\"o\")',\n",
       "  'plt.plot(y, \"-ok\")',\n",
       "  'plt.plot(y, \"-or\")',\n",
       "  'plt.plot(y, \"-r\")',\n",
       "  'plt.plot(y, \"-or\")',\n",
       "  'plt.plot(y, \"or\")',\n",
       "  'plt.plot(y, \"-or\")',\n",
       "  'x = np.linspace( 0, 2*np.pi, 100 )',\n",
       "  'y = np.sin(x)',\n",
       "  'plt.plot(y, \"-or\")',\n",
       "  'import sys\\nsys.modules.keys()',\n",
       "  'import sys\\nfor k in sys.modules.keys():\\n    print(k)',\n",
       "  'os',\n",
       "  'Path',\n",
       "  \"a = Path('.')\",\n",
       "  'a.ls()',\n",
       "  'google',\n",
       "  'shutil',\n",
       "  'locals()'],\n",
       " '_oh': {3: [1, 2, 3, 4],\n",
       "  4: [1, 2, 3, 0],\n",
       "  8: array([1, 2, 3, 0]),\n",
       "  12: array([[1., 0., 0.],\n",
       "         [0., 1., 2.]]),\n",
       "  13: (2, 3),\n",
       "  14: array([1., 1., 2.]),\n",
       "  15: array([1., 3.]),\n",
       "  16: (2, 3),\n",
       "  17: 2,\n",
       "  18: array([[1., 0., 0.],\n",
       "         [0., 1., 2.],\n",
       "         [1., 0., 0.],\n",
       "         [0., 1., 2.]]),\n",
       "  19: array([[1., 0., 0., 1., 0., 0.],\n",
       "         [0., 1., 2., 0., 1., 2.]]),\n",
       "  20: (4, 3),\n",
       "  21: 2,\n",
       "  22: ((4, 3), 2),\n",
       "  23: ('x1.shape', (4, 3), 2),\n",
       "  24: ('x1.shape = ', (4, 3), 'x1.ndim = ', 2),\n",
       "  25: array([[1., 0., 0., 1., 0., 0., 1., 0., 0., 1., 0., 0.],\n",
       "         [0., 1., 2., 0., 1., 2., 0., 1., 2., 0., 1., 2.]]),\n",
       "  26: array([[1., 0., 0., 1., 0., 0., 1., 0., 0., 1., 0., 0.],\n",
       "         [0., 1., 2., 0., 1., 2., 0., 1., 2., 0., 1., 2.]]),\n",
       "  29: array([[1., 0., 0., 1., 0., 0., 1., 0., 0., 1., 0., 0.],\n",
       "         [0., 1., 2., 0., 1., 2., 0., 1., 2., 0., 1., 2.]]),\n",
       "  31: array([[1., 0., 0., 1., 0., 0., 1., 0., 0., 1., 0., 0.],\n",
       "         [0., 1., 2., 0., 1., 2., 0., 1., 2., 0., 1., 2.]]),\n",
       "  32: array([[1., 0., 0., 1., 0., 0., 1., 0.],\n",
       "         [0., 1., 0., 0., 0., 1., 2., 0.],\n",
       "         [1., 2., 0., 1., 2., 0., 1., 2.]]),\n",
       "  33: array([[1., 0., 0., 1., 0., 0.],\n",
       "         [1., 0., 0., 1., 0., 0.],\n",
       "         [0., 1., 2., 0., 1., 2.],\n",
       "         [0., 1., 2., 0., 1., 2.]]),\n",
       "  35: array([[1., 0., 0., 1.],\n",
       "         [0., 0., 1., 0.],\n",
       "         [0., 1., 0., 0.],\n",
       "         [0., 1., 2., 0.],\n",
       "         [1., 2., 0., 1.],\n",
       "         [2., 0., 1., 2.]]),\n",
       "  36: array([[[1., 0.],\n",
       "          [0., 1.]],\n",
       "  \n",
       "         [[0., 0.],\n",
       "          [1., 0.]],\n",
       "  \n",
       "         [[0., 1.],\n",
       "          [0., 0.]],\n",
       "  \n",
       "         [[0., 1.],\n",
       "          [2., 0.]],\n",
       "  \n",
       "         [[1., 2.],\n",
       "          [0., 1.]],\n",
       "  \n",
       "         [[2., 0.],\n",
       "          [1., 2.]]]),\n",
       "  37: array([[[1., 0.],\n",
       "          [0., 1.]],\n",
       "  \n",
       "         [[0., 0.],\n",
       "          [1., 0.]],\n",
       "  \n",
       "         [[0., 1.],\n",
       "          [0., 0.]],\n",
       "  \n",
       "         [[0., 1.],\n",
       "          [2., 0.]],\n",
       "  \n",
       "         [[1., 2.],\n",
       "          [0., 1.]],\n",
       "  \n",
       "         [[2., 0.],\n",
       "          [1., 2.]]]),\n",
       "  38: 3,\n",
       "  39: (6, 2, 2),\n",
       "  40: <memory at 0x7f6d3a3786d8>,\n",
       "  42: True,\n",
       "  43: 8,\n",
       "  44: 3,\n",
       "  45: array([[[1., 0.],\n",
       "          [0., 1.]],\n",
       "  \n",
       "         [[0., 0.],\n",
       "          [1., 0.]],\n",
       "  \n",
       "         [[0., 1.],\n",
       "          [0., 0.]],\n",
       "  \n",
       "         [[0., 1.],\n",
       "          [2., 0.]],\n",
       "  \n",
       "         [[1., 2.],\n",
       "          [0., 1.]],\n",
       "  \n",
       "         [[2., 0.],\n",
       "          [1., 2.]]]),\n",
       "  46: <function memoryview.tobytes()>,\n",
       "  47: b'\\x00\\x00\\x00\\x00\\x00\\x00\\xf0?\\x00\\x00\\x00\\x00\\x00\\x00\\x00\\x00\\x00\\x00\\x00\\x00\\x00\\x00\\x00\\x00\\x00\\x00\\x00\\x00\\x00\\x00\\xf0?\\x00\\x00\\x00\\x00\\x00\\x00\\x00\\x00\\x00\\x00\\x00\\x00\\x00\\x00\\x00\\x00\\x00\\x00\\x00\\x00\\x00\\x00\\xf0?\\x00\\x00\\x00\\x00\\x00\\x00\\x00\\x00\\x00\\x00\\x00\\x00\\x00\\x00\\x00\\x00\\x00\\x00\\x00\\x00\\x00\\x00\\xf0?\\x00\\x00\\x00\\x00\\x00\\x00\\x00\\x00\\x00\\x00\\x00\\x00\\x00\\x00\\x00\\x00\\x00\\x00\\x00\\x00\\x00\\x00\\x00\\x00\\x00\\x00\\x00\\x00\\x00\\x00\\xf0?\\x00\\x00\\x00\\x00\\x00\\x00\\x00@\\x00\\x00\\x00\\x00\\x00\\x00\\x00\\x00\\x00\\x00\\x00\\x00\\x00\\x00\\xf0?\\x00\\x00\\x00\\x00\\x00\\x00\\x00@\\x00\\x00\\x00\\x00\\x00\\x00\\x00\\x00\\x00\\x00\\x00\\x00\\x00\\x00\\xf0?\\x00\\x00\\x00\\x00\\x00\\x00\\x00@\\x00\\x00\\x00\\x00\\x00\\x00\\x00\\x00\\x00\\x00\\x00\\x00\\x00\\x00\\xf0?\\x00\\x00\\x00\\x00\\x00\\x00\\x00@',\n",
       "  48: (32, 16, 8),\n",
       "  49: array([[[1., 0.],\n",
       "          [0., 1.]],\n",
       "  \n",
       "         [[0., 0.],\n",
       "          [1., 0.]],\n",
       "  \n",
       "         [[0., 1.],\n",
       "          [0., 0.]],\n",
       "  \n",
       "         [[0., 1.],\n",
       "          [2., 0.]],\n",
       "  \n",
       "         [[1., 2.],\n",
       "          [0., 1.]],\n",
       "  \n",
       "         [[2., 0.],\n",
       "          [1., 2.]]]),\n",
       "  50: (6, 2, 2),\n",
       "  51: array([[4., 4.],\n",
       "         [4., 4.]]),\n",
       "  52: array([[1., 1.],\n",
       "         [1., 0.],\n",
       "         [0., 1.],\n",
       "         [2., 1.],\n",
       "         [1., 3.],\n",
       "         [3., 2.]]),\n",
       "  53: array([[1., 1.],\n",
       "         [0., 1.],\n",
       "         [1., 0.],\n",
       "         [1., 2.],\n",
       "         [3., 1.],\n",
       "         [2., 3.]]),\n",
       "  54: (6, 2, 2),\n",
       "  55: <function ndarray.item>,\n",
       "  57: 0.0,\n",
       "  58: 0.0,\n",
       "  59: 0.0,\n",
       "  60: 1.0,\n",
       "  61: array([[[1., 0.],\n",
       "          [0., 1.]],\n",
       "  \n",
       "         [[0., 0.],\n",
       "          [1., 0.]],\n",
       "  \n",
       "         [[0., 1.],\n",
       "          [0., 0.]],\n",
       "  \n",
       "         [[0., 1.],\n",
       "          [2., 0.]],\n",
       "  \n",
       "         [[1., 2.],\n",
       "          [0., 1.]],\n",
       "  \n",
       "         [[2., 0.],\n",
       "          [1., 2.]]]),\n",
       "  62: 2.0,\n",
       "  64: 8,\n",
       "  66: 24,\n",
       "  69: 'float64',\n",
       "  70: (),\n",
       "  71: 'float64',\n",
       "  72: array([1, 2, 3, 4]),\n",
       "  73: 1,\n",
       "  74: array([1, 2, 3, 4]),\n",
       "  75: 1,\n",
       "  76: (1, 10),\n",
       "  77: (4,),\n",
       "  78: (1, 10, (4,)),\n",
       "  80: array([[[2, 0, 1],\n",
       "          [1, 2, 3],\n",
       "          [1, 0, 1]],\n",
       "  \n",
       "         [[2, 0, 1],\n",
       "          [1, 2, 3],\n",
       "          [1, 0, 1]],\n",
       "  \n",
       "         [[2, 0, 1],\n",
       "          [1, 2, 3],\n",
       "          [1, 0, 1]]]),\n",
       "  82: array([[[2, 0, 1],\n",
       "          [1, 2, 3],\n",
       "          [1, 0, 1]],\n",
       "  \n",
       "         [[2, 0, 1],\n",
       "          [1, 2, 3],\n",
       "          [1, 0, 1]],\n",
       "  \n",
       "         [[2, 0, 1],\n",
       "          [1, 2, 3],\n",
       "          [1, 0, 1]]]),\n",
       "  83: (3, 3, 3),\n",
       "  84: 3,\n",
       "  85: array([[6, 0, 3],\n",
       "         [3, 6, 9],\n",
       "         [3, 0, 3]]),\n",
       "  86: array([[4, 2, 5],\n",
       "         [4, 2, 5],\n",
       "         [4, 2, 5]]),\n",
       "  87: array([[3, 6, 2],\n",
       "         [3, 6, 2],\n",
       "         [3, 6, 2]]),\n",
       "  89: array([[[2, 0, 1, 1],\n",
       "          [1, 2, 3, 1],\n",
       "          [1, 0, 1, 1]],\n",
       "  \n",
       "         [[2, 0, 1, 1],\n",
       "          [1, 2, 3, 1],\n",
       "          [1, 0, 1, 1]],\n",
       "  \n",
       "         [[2, 0, 1, 1],\n",
       "          [1, 2, 3, 1],\n",
       "          [1, 0, 1, 1]]]),\n",
       "  91: array([[[2, 0, 1, 1],\n",
       "          [1, 2, 3, 1],\n",
       "          [1, 0, 1, 1]],\n",
       "  \n",
       "         [[2, 0, 1, 1],\n",
       "          [1, 2, 3, 1],\n",
       "          [1, 0, 1, 1]]]),\n",
       "  92: (2, 3, 4),\n",
       "  93: 3,\n",
       "  94: array([[4, 0, 2, 2],\n",
       "         [2, 4, 6, 2],\n",
       "         [2, 0, 2, 2]]),\n",
       "  95: array([[4, 0, 2, 2],\n",
       "         [2, 4, 6, 2],\n",
       "         [2, 0, 2, 2]]),\n",
       "  96: array([[4, 2, 5, 3],\n",
       "         [4, 2, 5, 3]]),\n",
       "  97: array([[4, 0, 2, 2],\n",
       "         [2, 4, 6, 2],\n",
       "         [2, 0, 2, 2]]),\n",
       "  98: array([[4, 2, 5, 3],\n",
       "         [4, 2, 5, 3]]),\n",
       "  99: array([[4, 7, 3],\n",
       "         [4, 7, 3]]),\n",
       "  101: array([2, 3, 4]),\n",
       "  102: dtype('int64'),\n",
       "  103: dtype('float64'),\n",
       "  104: dtype('float64'),\n",
       "  113: array([0, 1, 2]),\n",
       "  114: array([0., 1., 2.]),\n",
       "  115: array([3.  , 3.03, 3.06, 3.09, ..., 9.9 , 9.93, 9.96, 9.99]),\n",
       "  116: array([3. , 3.5, 4. , 4.5, 5. , 5.5, 6. , 6.5, 7. , 7.5, 8. , 8.5, 9. , 9.5]),\n",
       "  117: 3.141592653589793,\n",
       "  118: <function numpy.lib.function_base.piecewise(x, condlist, funclist, *args, **kw)>,\n",
       "  119: array([0.  , 0.25, 0.5 , 0.75, 1.  , 1.25, 1.5 , 1.75, 2.  ]),\n",
       "  120: array([0]),\n",
       "  121: array([0.      , 0.222222, 0.444444, 0.666667, 0.888889, 1.111111, 1.333333, 1.555556, 1.777778]),\n",
       "  123: array([0.      , 0.222222, 0.444444, 0.666667, 0.888889, 1.111111, 1.333333, 1.555556, 1.777778]),\n",
       "  124: array([0.      , 0.333333, 0.666667, 1.      , 1.333333, 1.666667]),\n",
       "  125: array([0.      , 0.222222, 0.444444, 0.666667, 0.888889, 1.111111, 1.333333, 1.555556, 1.777778]),\n",
       "  126: array([[0.      , 0.333333, 0.666667],\n",
       "         [1.      , 1.333333, 1.666667]]),\n",
       "  127: array([[0.      , 0.333333, 0.666667],\n",
       "         [1.      , 1.333333, 1.666667]]),\n",
       "  128: array([[0.      , 0.333333, 0.666667],\n",
       "         [1.      , 1.333333, 1.666667]]),\n",
       "  129: array([[0.      , 0.333333, 0.666667],\n",
       "         [1.      , 1.333333, 1.666667]]),\n",
       "  130: array([[                  0, 4599676419421066581, 4604180019048437077],\n",
       "         [4607182418800017408, 4608683618675807573, 4610184818551597738]]),\n",
       "  131: array([[1.415294e+161, 9.166518e-072, 3.886643e+097],\n",
       "         [3.211427e-322, 4.680780e-310, 6.922229e-310]]),\n",
       "  132: array([[1.415294e+161, 9.166518e-072, 3.886643e+097],\n",
       "         [3.211427e-322, 4.680780e-310, 6.922229e-310]]),\n",
       "  133: array([[[1, 1, 1, 1],\n",
       "          [1, 1, 1, 1],\n",
       "          [1, 1, 1, 1]],\n",
       "  \n",
       "         [[1, 1, 1, 1],\n",
       "          [1, 1, 1, 1],\n",
       "          [1, 1, 1, 1]]], dtype=int16),\n",
       "  134: array([[[0, 0, 0, 0],\n",
       "          [0, 0, 0, 0],\n",
       "          [0, 0, 0, 0]],\n",
       "  \n",
       "         [[0, 0, 0, 0],\n",
       "          [0, 0, 0, 0],\n",
       "          [0, 0, 0, 0]]], dtype=int16),\n",
       "  135: array([[[3, 3, 3, 3],\n",
       "          [3, 3, 3, 3],\n",
       "          [3, 3, 3, 3]],\n",
       "  \n",
       "         [[3, 3, 3, 3],\n",
       "          [3, 3, 3, 3],\n",
       "          [3, 3, 3, 3]]], dtype=int16),\n",
       "  137: array([0.      , 0.063467, 0.126933, 0.1904  , ..., 6.092786, 6.156252, 6.219719, 6.283185]),\n",
       "  139: array([0.      , 0.698132, 1.396263, 2.094395, 2.792527, 3.490659, 4.18879 , 4.886922, 5.585054, 6.283185]),\n",
       "  145: [<matplotlib.lines.Line2D at 0x7f6cd0f4cda0>],\n",
       "  146: [<matplotlib.lines.Line2D at 0x7f6cd0eb6080>],\n",
       "  147: [<matplotlib.lines.Line2D at 0x7f6cd0e44f60>],\n",
       "  149: [<matplotlib.lines.Line2D at 0x7f6cd0c38a20>],\n",
       "  150: [<matplotlib.lines.Line2D at 0x7f6cd0ba2128>],\n",
       "  151: [<matplotlib.lines.Line2D at 0x7f6cd0b7d6d8>],\n",
       "  152: [<matplotlib.lines.Line2D at 0x7f6cd0adac88>],\n",
       "  153: [<matplotlib.lines.Line2D at 0x7f6cd0ac4278>],\n",
       "  154: [<matplotlib.lines.Line2D at 0x7f6cd0a1e828>],\n",
       "  157: [<matplotlib.lines.Line2D at 0x7f6cd09fce48>],\n",
       "  158: dict_keys(['builtins', 'sys', '_frozen_importlib', '_imp', '_warnings', '_thread', '_weakref', '_frozen_importlib_external', '_io', 'marshal', 'posix', 'zipimport', 'encodings', 'codecs', '_codecs', 'encodings.aliases', 'encodings.utf_8', '_signal', '__main__', 'encodings.latin_1', 'io', 'abc', '_weakrefset', '_bootlocale', '_locale', 'site', 'os', 'errno', 'stat', '_stat', 'posixpath', 'genericpath', 'os.path', '_collections_abc', '_sitebuiltins', 'sysconfig', '_sysconfigdata_m_linux_x86_64-linux-gnu', 'types', 'functools', '_functools', 'collections', 'operator', '_operator', 'keyword', 'heapq', '_heapq', 'itertools', 'reprlib', '_collections', 'weakref', 'collections.abc', 'importlib', 'importlib._bootstrap', 'importlib._bootstrap_external', 'warnings', 'importlib.util', 'importlib.abc', 'importlib.machinery', 'contextlib', 'backports', 'google', 'mpl_toolkits', 'sphinxcontrib', 'runpy', 'pkgutil', 'ipykernel', 'ipykernel._version', 'ipykernel.connect', '__future__', 'json', 'json.decoder', 're', 'enum', 'sre_compile', '_sre', 'sre_parse', 'sre_constants', 'copyreg', 'json.scanner', '_json', 'json.encoder', 'subprocess', 'time', 'signal', '_posixsubprocess', 'select', 'selectors', 'math', 'threading', 'traceback', 'linecache', 'tokenize', 'token', 'IPython', 'IPython.core', 'IPython.core.getipython', 'IPython.core.release', 'IPython.core.application', 'atexit', 'copy', 'glob', 'fnmatch', 'logging', 'string', '_string', 'shutil', 'zlib', 'bz2', '_compression', '_bz2', 'lzma', '_lzma', 'pwd', 'grp', 'traitlets', 'traitlets.traitlets', 'inspect', 'ast', '_ast', 'dis', 'opcode', '_opcode', 'six', 'struct', '_struct', 'traitlets.utils', 'traitlets.utils.getargspec', 'traitlets.utils.importstring', 'ipython_genutils', 'ipython_genutils._version', 'ipython_genutils.py3compat', 'ipython_genutils.encoding', 'locale', 'platform', 'traitlets.utils.sentinel', 'traitlets.utils.bunch', 'traitlets._version', 'traitlets.config', 'traitlets.config.application', 'decorator', 'traitlets.config.configurable', 'traitlets.config.loader', 'argparse', 'textwrap', 'gettext', 'ipython_genutils.path', 'random', 'hashlib', '_hashlib', '_blake2', '_sha3', 'bisect', '_bisect', '_random', 'ipython_genutils.text', 'ipython_genutils.importstring', 'IPython.core.crashhandler', 'pprint', 'IPython.core.ultratb', 'pydoc', 'urllib', 'urllib.parse', 'IPython.core.debugger', 'bdb', 'IPython.utils', 'IPython.utils.PyColorize', 'IPython.utils.coloransi', 'IPython.utils.ipstruct', 'IPython.utils.colorable', 'pygments', 'pygments.util', 'IPython.utils.py3compat', 'IPython.utils.encoding', 'IPython.core.excolors', 'IPython.testing', 'IPython.testing.skipdoctest', 'pdb', 'cmd', 'code', 'codeop', 'IPython.core.display_trap', 'IPython.utils.openpy', 'IPython.utils.path', 'IPython.utils.process', 'IPython.utils._process_posix', 'pexpect', 'pexpect.exceptions', 'pexpect.utils', 'pexpect.expect', 'pexpect.pty_spawn', 'pty', 'tty', 'termios', 'ptyprocess', 'ptyprocess.ptyprocess', 'fcntl', 'resource', 'ptyprocess.util', 'pexpect.spawnbase', 'pexpect.run', 'IPython.utils._process_common', 'shlex', 'IPython.utils.decorators', 'IPython.utils.data', 'IPython.utils.terminal', 'IPython.utils.sysinfo', 'IPython.utils._sysinfo', 'IPython.core.profiledir', 'IPython.paths', 'tempfile', 'IPython.utils.importstring', 'IPython.terminal', 'IPython.terminal.embed', 'IPython.core.compilerop', 'IPython.core.magic_arguments', 'IPython.core.error', 'IPython.utils.text', 'pathlib', 'ntpath', 'IPython.core.magic', 'getopt', 'IPython.core.oinspect', 'IPython.core.page', 'IPython.core.display', 'binascii', 'mimetypes', 'IPython.lib', 'IPython.lib.security', 'getpass', 'IPython.lib.pretty', 'datetime', '_datetime', 'IPython.utils.signatures', 'IPython.utils.dir2', 'IPython.utils.wildcard', 'pygments.lexers', 'pygments.lexers._mapping', 'pygments.modeline', 'pygments.plugin', 'pygments.lexers.python', 'pygments.lexer', 'pygments.filter', 'pygments.filters', 'pygments.token', 'pygments.regexopt', 'pygments.unistring', 'pygments.formatters', 'pygments.formatters._mapping', 'pygments.formatters.html', 'pygments.formatter', 'pygments.styles', 'IPython.core.inputsplitter', 'IPython.core.inputtransformer', 'IPython.core.splitinput', 'IPython.utils.tokenize2', 'IPython.core.interactiveshell', 'pickleshare', 'pickle', '_compat_pickle', '_pickle', 'IPython.core.prefilter', 'IPython.core.autocall', 'IPython.core.macro', 'IPython.core.alias', 'IPython.core.builtin_trap', 'IPython.core.events', 'backcall', 'backcall.backcall', 'IPython.core.displayhook', 'IPython.core.displaypub', 'IPython.core.extensions', 'IPython.core.formatters', 'IPython.utils.sentinel', 'IPython.core.history', 'sqlite3', 'sqlite3.dbapi2', '_sqlite3', 'IPython.core.logger', 'IPython.core.payload', 'IPython.core.usage', 'IPython.display', 'IPython.lib.display', 'html', 'html.entities', 'IPython.utils.io', 'IPython.utils.capture', 'IPython.utils.strdispatch', 'IPython.core.hooks', 'IPython.utils.syspathcontext', 'IPython.utils.tempdir', 'typing', 'typing.io', 'typing.re', 'IPython.utils.contexts', 'IPython.terminal.interactiveshell', 'prompt_toolkit', 'prompt_toolkit.interface', 'prompt_toolkit.application', 'prompt_toolkit.buffer', 'prompt_toolkit.auto_suggest', 'prompt_toolkit.filters', 'prompt_toolkit.filters.base', 'prompt_toolkit.utils', 'wcwidth', 'wcwidth.wcwidth', 'wcwidth.table_wide', 'wcwidth.table_zero', 'six.moves', 'prompt_toolkit.filters.cli', 'prompt_toolkit.enums', 'prompt_toolkit.key_binding', 'prompt_toolkit.key_binding.vi_state', 'prompt_toolkit.cache', 'prompt_toolkit.filters.types', 'prompt_toolkit.filters.utils', 'prompt_toolkit.clipboard', 'prompt_toolkit.clipboard.base', 'prompt_toolkit.selection', 'prompt_toolkit.clipboard.in_memory', 'prompt_toolkit.completion', 'prompt_toolkit.document', 'prompt_toolkit.history', 'prompt_toolkit.search_state', 'prompt_toolkit.validation', 'prompt_toolkit.buffer_mapping', 'prompt_toolkit.key_binding.bindings', 'prompt_toolkit.key_binding.bindings.basic', 'prompt_toolkit.keys', 'prompt_toolkit.layout', 'prompt_toolkit.layout.containers', 'prompt_toolkit.layout.controls', 'prompt_toolkit.mouse_events', 'prompt_toolkit.token', 'prompt_toolkit.layout.lexers', 'prompt_toolkit.layout.utils', 'prompt_toolkit.layout.processors', 'prompt_toolkit.reactive', 'prompt_toolkit.layout.screen', 'prompt_toolkit.layout.dimension', 'prompt_toolkit.layout.margins', 'prompt_toolkit.renderer', 'prompt_toolkit.layout.mouse_handlers', 'prompt_toolkit.output', 'prompt_toolkit.styles', 'prompt_toolkit.styles.base', 'prompt_toolkit.styles.defaults', 'prompt_toolkit.styles.from_dict', 'prompt_toolkit.styles.utils', 'prompt_toolkit.styles.from_pygments', 'pygments.style', 'pygments.styles.default', 'prompt_toolkit.key_binding.bindings.named_commands', 'prompt_toolkit.key_binding.bindings.completion', 'prompt_toolkit.key_binding.registry', 'prompt_toolkit.key_binding.input_processor', 'prompt_toolkit.key_binding.bindings.emacs', 'prompt_toolkit.key_binding.bindings.scroll', 'prompt_toolkit.key_binding.bindings.vi', 'prompt_toolkit.key_binding.digraphs', 'prompt_toolkit.key_binding.defaults', 'prompt_toolkit.eventloop', 'prompt_toolkit.eventloop.base', 'prompt_toolkit.eventloop.callbacks', 'prompt_toolkit.input', 'prompt_toolkit.terminal', 'prompt_toolkit.terminal.vt100_input', 'prompt_toolkit.shortcuts', 'prompt_toolkit.layout.menus', 'prompt_toolkit.layout.prompt', 'prompt_toolkit.layout.toolbars', 'prompt_toolkit.terminal.vt100_output', 'array', 'prompt_toolkit.key_binding.manager', 'IPython.terminal.debugger', 'IPython.core.completer', 'unicodedata', 'IPython.core.latex_symbols', 'IPython.utils.generics', 'simplegeneric', 'jedi', 'jedi.api', 'parso', 'parso.parser', 'parso.tree', 'parso._compatibility', 'parso.pgen2', 'parso.pgen2.parse', 'parso.python', 'parso.python.tokenize', 'parso.python.token', 'parso.utils', 'parso.grammar', 'parso.pgen2.pgen', 'parso.pgen2.grammar', 'parso.python.diff', 'difflib', 'parso.python.parser', 'parso.python.tree', 'parso.python.prefix', 'parso.cache', 'gc', 'parso.python.errors', 'parso.normalizer', 'parso.python.pep8', 'jedi._compatibility', 'queue', 'jedi.parser_utils', 'jedi.debug', 'colorama', 'colorama.initialise', 'colorama.ansitowin32', 'colorama.ansi', 'colorama.winterm', 'colorama.win32', 'ctypes', '_ctypes', 'ctypes._endian', 'jedi.settings', 'jedi.cache', 'jedi.api.classes', 'jedi.evaluate', 'jedi.evaluate.utils', 'jedi.evaluate.imports', 'jedi.evaluate.sys_path', 'jedi.evaluate.cache', 'jedi.evaluate.base_context', 'jedi.common', 'jedi.common.context', 'jedi.evaluate.helpers', 'jedi.evaluate.compiled', 'jedi.evaluate.compiled.context', 'jedi.evaluate.filters', 'jedi.evaluate.flow_analysis', 'jedi.evaluate.recursion', 'jedi.evaluate.lazy_context', 'jedi.evaluate.compiled.access', 'jedi.evaluate.compiled.getattr_static', 'jedi.evaluate.compiled.fake', 'jedi.common.utils', 'jedi.evaluate.analysis', 'jedi.evaluate.context', 'jedi.evaluate.context.module', 'jedi.evaluate.context.klass', 'jedi.evaluate.context.function', 'jedi.evaluate.docstrings', 'jedi.evaluate.pep0484', 'jedi.evaluate.arguments', 'jedi.evaluate.context.iterable', 'jedi.evaluate.param', 'jedi.evaluate.context.asynchronous', 'jedi.evaluate.parser_cache', 'jedi.evaluate.context.instance', 'jedi.evaluate.syntax_tree', 'jedi.evaluate.finder', 'jedi.api.keywords', 'pydoc_data', 'pydoc_data.topics', 'jedi.api.interpreter', 'jedi.evaluate.compiled.mixed', 'jedi.api.helpers', 'jedi.api.completion', 'jedi.api.environment', 'filecmp', 'distutils', 'distutils.spawn', 'distutils.errors', 'distutils.debug', 'distutils.log', 'jedi.evaluate.compiled.subprocess', 'socket', '_socket', 'jedi.evaluate.compiled.subprocess.functions', 'jedi.api.exceptions', 'jedi.api.project', 'jedi.evaluate.usages', 'IPython.terminal.ptutils', 'IPython.terminal.shortcuts', 'IPython.terminal.magics', 'IPython.lib.clipboard', 'IPython.terminal.pt_inputhooks', 'IPython.terminal.prompts', 'IPython.terminal.ipapp', 'IPython.core.magics', 'IPython.core.magics.auto', 'IPython.core.magics.basic', 'IPython.core.magics.code', 'IPython.core.magics.config', 'IPython.core.magics.display', 'IPython.core.magics.execution', 'timeit', 'cProfile', '_lsprof', 'profile', 'optparse', 'pstats', 'IPython.utils.module_paths', 'imp', 'IPython.utils.timing', 'IPython.core.magics.extension', 'IPython.core.magics.history', 'IPython.core.magics.logging', 'IPython.core.magics.namespace', 'IPython.core.magics.osm', 'IPython.core.magics.pylab', 'IPython.core.pylabtools', 'IPython.core.magics.script', 'IPython.lib.backgroundjobs', 'IPython.core.shellapp', 'IPython.extensions', 'IPython.extensions.storemagic', 'IPython.utils.frame', 'jupyter_client', 'jupyter_client._version', 'jupyter_client.connect', 'zmq', 'zmq.backend', 'zmq.backend.select', 'zmq.backend.cython', 'cython_runtime', 'zmq.backend.cython.constants', '_cython_0_27_3', 'zmq.backend.cython.error', 'zmq.utils', 'zmq.utils.strtypes', 'zmq.backend.cython.message', 'zmq.error', 'zmq.backend.cython.context', 'zmq.backend.cython.socket', 'zmq.backend.cython.utils', 'zmq.backend.cython._poll', 'zmq.backend.cython._version', 'zmq.backend.cython._device', 'zmq.sugar', 'zmq.sugar.constants', 'zmq.utils.constant_names', 'zmq.sugar.context', 'zmq.sugar.attrsettr', 'zmq.sugar.socket', 'zmq.sugar.poll', 'zmq.sugar.frame', 'zmq.sugar.tracker', 'zmq.sugar.version', 'zmq.sugar.stopwatch', 'jupyter_client.localinterfaces', 'jupyter_core', 'jupyter_core.version', 'jupyter_core.paths', 'jupyter_client.launcher', 'traitlets.log', 'jupyter_client.client', 'jupyter_client.channels', 'jupyter_client.channelsabc', 'jupyter_client.clientabc', 'jupyter_client.manager', 'jupyter_client.kernelspec', 'jupyter_client.managerabc', 'jupyter_client.blocking', 'jupyter_client.blocking.client', 'jupyter_client.blocking.channels', 'jupyter_client.multikernelmanager', 'uuid', 'ctypes.util', 'ipykernel.kernelapp', 'tornado', 'tornado.ioloop', 'numbers', 'tornado.concurrent', 'tornado.log', 'logging.handlers', 'tornado.escape', 'tornado.util', 'curses', '_curses', 'tornado.stack_context', 'concurrent', 'concurrent.futures', 'concurrent.futures._base', 'concurrent.futures.process', 'multiprocessing', 'multiprocessing.context', 'multiprocessing.process', 'multiprocessing.reduction', '__mp_main__', 'multiprocessing.connection', '_multiprocessing', 'multiprocessing.util', 'concurrent.futures.thread', 'asyncio', 'asyncio.base_events', 'asyncio.compat', 'asyncio.coroutines', 'asyncio.constants', 'asyncio.events', 'asyncio.base_futures', 'asyncio.log', 'asyncio.futures', 'asyncio.base_tasks', '_asyncio', 'asyncio.tasks', 'asyncio.locks', 'asyncio.protocols', 'asyncio.queues', 'asyncio.streams', 'asyncio.subprocess', 'asyncio.transports', 'asyncio.unix_events', 'asyncio.base_subprocess', 'asyncio.selector_events', 'ssl', 'ipaddress', '_ssl', 'base64', 'asyncio.sslproto', 'tornado.platform', 'tornado.platform.auto', 'tornado.platform.posix', 'tornado.platform.common', 'tornado.platform.interface', 'zmq.eventloop', 'zmq.eventloop.ioloop', 'tornado.platform.asyncio', 'tornado.gen', 'zmq.eventloop.zmqstream', 'zmq.utils.jsonapi', 'ipykernel.iostream', 'jupyter_client.session', 'hmac', 'jupyter_client.jsonutil', 'dateutil', 'dateutil._version', 'dateutil.parser', 'dateutil.parser._parser', 'calendar', 'decimal', '_decimal', 'dateutil.relativedelta', 'dateutil._common', 'dateutil.tz', 'dateutil.tz.tz', 'dateutil.tz._common', 'dateutil.tz._factories', 'dateutil.parser.isoparser', '_strptime', 'jupyter_client.adapter', 'ipykernel.heartbeat', 'ipykernel.ipkernel', 'IPython.utils.tokenutil', 'ipykernel.comm', 'ipykernel.comm.manager', 'ipykernel.comm.comm', 'ipykernel.kernelbase', 'ipykernel.jsonutil', 'ipykernel.zmqshell', 'IPython.core.payloadpage', 'ipykernel.displayhook', 'ipykernel.parentpoller', 'faulthandler', 'ipykernel.datapub', 'ipykernel.serialize', 'ipykernel.pickleutil', 'ipyparallel', 'ipyparallel._version', 'ipyparallel.serialize', 'ipyparallel.serialize.canning', 'ipyparallel.serialize.codeutil', 'ipyparallel.serialize.serialize', 'ipyparallel.client', 'ipyparallel.client.asyncresult', 'ipyparallel.error', 'ipyparallel.util', 'zmq.log', 'zmq.log.handlers', 'distutils.version', 'ipyparallel.client.futures', 'ipyparallel.client.client', 'ipyparallel.client.view', 'ipyparallel.controller', 'ipyparallel.controller.dependency', 'ipyparallel.client.map', 'ipyparallel.client.remotefunction', 'IPython.core.completerlib', 'storemagic', 'ipywidgets', 'ipywidgets._version', 'ipywidgets.widgets', 'ipywidgets.widgets.widget', 'ipywidgets.widgets.domwidget', 'ipywidgets.widgets.trait_types', 'ipywidgets.widgets.widget_layout', 'ipywidgets.widgets.widget_style', 'ipywidgets.widgets.valuewidget', 'ipywidgets.widgets.widget_core', 'ipywidgets.widgets.widget_bool', 'ipywidgets.widgets.widget_description', 'ipywidgets.widgets.widget_button', 'ipywidgets.widgets.widget_box', 'ipywidgets.widgets.docutils', 'ipywidgets.widgets.widget_float', 'ipywidgets.widgets.widget_int', 'ipywidgets.widgets.widget_image', 'ipywidgets.widgets.widget_color', 'ipywidgets.widgets.widget_date', 'ipywidgets.widgets.widget_output', 'ipywidgets.widgets.widget_selection', 'ipywidgets.widgets.widget_selectioncontainer', 'ipywidgets.widgets.widget_string', 'ipywidgets.widgets.widget_controller', 'ipywidgets.widgets.interaction', 'ipywidgets.widgets.widget_link', 'numpy', 'numpy._globals', 'numpy.__config__', 'numpy.version', 'numpy._import_tools', 'numpy.add_newdocs', 'numpy.lib', 'numpy.lib.info', 'numpy.lib.type_check', 'numpy.core', 'numpy.core.info', 'numpy.core.multiarray', 'numpy.core.umath', 'numpy.core._internal', 'numpy.compat', 'numpy.compat._inspect', 'numpy.compat.py3k', 'numpy.core.numerictypes', 'numpy.core.numeric', 'numpy.core.fromnumeric', 'numpy.core._methods', 'numpy.core.arrayprint', 'numpy.core.defchararray', 'numpy.core.records', 'numpy.core.memmap', 'numpy.core.function_base', 'numpy.core.machar', 'numpy.core.getlimits', 'numpy.core.shape_base', 'numpy.core.einsumfunc', 'numpy.testing', 'unittest', 'unittest.result', 'unittest.util', 'unittest.case', 'unittest.suite', 'unittest.loader', 'unittest.main', 'unittest.runner', 'unittest.signals', 'numpy.testing._private', 'numpy.testing._private.utils', 'numpy.lib.utils', 'numpy.testing._private.decorators', 'numpy.testing._private.nosetester', 'numpy.testing._private.pytesttester', 'numpy.lib.ufunclike', 'numpy.lib.index_tricks', 'numpy.lib.function_base', 'numpy.lib.twodim_base', 'numpy.lib.histograms', 'numpy.matrixlib', 'numpy.matrixlib.defmatrix', 'numpy.linalg', 'numpy.linalg.info', 'numpy.linalg.linalg', 'numpy.linalg.lapack_lite', 'numpy.linalg._umath_linalg', 'numpy.lib.stride_tricks', 'numpy.lib.mixins', 'numpy.lib.nanfunctions', 'numpy.lib.shape_base', 'numpy.lib.scimath', 'numpy.lib.polynomial', 'numpy.lib.arraysetops', 'numpy.lib.npyio', 'numpy.lib.format', 'numpy.lib._datasource', 'numpy.lib._iotools', 'numpy.lib.financial', 'numpy.lib.arrayterator', 'numpy.lib.arraypad', 'numpy.lib._version', 'numpy.core._multiarray_tests', 'numpy._distributor_init', 'numpy._mklinit', 'numpy.fft', 'numpy.fft.info', 'numpy.fft.fftpack', 'numpy.fft.fftpack_lite', 'numpy.fft.helper', 'mkl_fft', '_cython_0_28_5', 'mkl_fft._pydfti', 'mkl_fft._version', 'mkl_fft._numpy_fft', 'numpy.polynomial', 'numpy.polynomial.polynomial', 'numpy.polynomial.polyutils', 'numpy.polynomial._polybase', 'numpy.polynomial.chebyshev', 'numpy.polynomial.legendre', 'numpy.polynomial.hermite', 'numpy.polynomial.hermite_e', 'numpy.polynomial.laguerre', 'numpy.random', 'numpy.random.info', 'numpy.random.mtrand', 'mtrand', 'numpy.ctypeslib', 'numpy.ma', 'numpy.ma.core', 'numpy.ma.extras', 'fastai', 'fastai.version', 'fastai.core', 'fastai.imports', 'fastai.imports.core', 'csv', '_csv', 'gzip', 'yaml', 'yaml.error', 'yaml.tokens', 'yaml.events', 'yaml.nodes', 'yaml.loader', 'yaml.reader', 'yaml.scanner', 'yaml.parser', 'yaml.composer', 'yaml.constructor', 'yaml.resolver', 'yaml.dumper', 'yaml.emitter', 'yaml.serializer', 'yaml.representer', 'yaml.cyaml', '_yaml', 'matplotlib', 'urllib.request', 'email', 'http', 'http.client', 'email.parser', 'email.feedparser', 'email.errors', 'email._policybase', 'email.header', 'email.quoprimime', 'email.base64mime', 'email.charset', 'email.encoders', 'quopri', 'email.utils', 'email._parseaddr', 'email.message', 'uu', 'email._encoded_words', 'email.iterators', 'urllib.error', 'urllib.response', 'matplotlib.cbook', 'matplotlib.cbook.deprecation', 'matplotlib.rcsetup', 'matplotlib.fontconfig_pattern', 'pyparsing', 'matplotlib.colors', 'matplotlib._color_data', 'cycler', 'matplotlib._version', 'matplotlib.pyplot', 'matplotlib.colorbar', 'matplotlib.artist', 'matplotlib.docstring', 'matplotlib.path', 'matplotlib._path', 'matplotlib.transforms', 'matplotlib.collections', 'matplotlib.cm', 'matplotlib._cm', 'matplotlib._cm_listed', 'matplotlib.lines', 'matplotlib.markers', 'matplotlib.contour', 'matplotlib._contour', 'matplotlib.ticker', 'matplotlib.font_manager', 'matplotlib.afm', 'matplotlib._mathtext_data', 'matplotlib.ft2font', 'matplotlib.text', 'matplotlib.patches', 'matplotlib.bezier', 'matplotlib.textpath', 'matplotlib.dviread', 'matplotlib.mathtext', 'matplotlib._png', 'matplotlib.texmanager', 'matplotlib.blocking_input', 'matplotlib.gridspec', 'matplotlib._pylab_helpers', 'matplotlib.tight_layout', 'matplotlib._layoutbox', 'kiwisolver', 'matplotlib._constrained_layout', 'matplotlib.legend', 'matplotlib.offsetbox', 'matplotlib.image', 'matplotlib.backend_bases', 'matplotlib.backend_tools', 'matplotlib.tight_bbox', 'matplotlib.widgets', 'PIL', 'PIL._version', 'PIL.Image', 'PIL._util', 'PIL.ImageMode', 'PIL._binary', 'PIL._imaging', 'cffi', 'cffi.api', 'cffi.lock', 'cffi.error', 'cffi.model', 'matplotlib._image', 'matplotlib.container', 'matplotlib.legend_handler', 'matplotlib.style', 'matplotlib.style.core', 'matplotlib.figure', 'matplotlib.backends', 'matplotlib.axes', 'matplotlib.axes._subplots', 'matplotlib.axes._axes', 'matplotlib.category', 'matplotlib.units', 'matplotlib.dates', 'dateutil.rrule', 'matplotlib.mlab', 'matplotlib.quiver', 'matplotlib.stackplot', 'matplotlib.streamplot', 'matplotlib.table', 'matplotlib.tri', 'matplotlib.tri.triangulation', 'matplotlib._tri', 'matplotlib._qhull', 'matplotlib.tri.tricontour', 'matplotlib.tri.tritools', 'matplotlib.tri.trifinder', 'matplotlib.tri.triinterpolate', 'matplotlib.tri.trirefine', 'matplotlib.tri.tripcolor', 'matplotlib.tri.triplot', 'matplotlib.axes._base', 'matplotlib.axis', 'matplotlib.scale', 'matplotlib.spines', 'matplotlib.projections', 'matplotlib.projections.geo', 'matplotlib.projections.polar', 'ipykernel.pylab', 'ipykernel.pylab.backend_inline', 'matplotlib.backends.backend_agg', 'matplotlib.backends._backend_agg', 'ipykernel.pylab.config', 'pandas', 'pytz', 'pytz.exceptions', 'pytz.lazy', 'pytz.tzinfo', 'pytz.tzfile', 'pandas.compat', 'pandas.compat.chainmap', 'pandas.compat.numpy', 'pandas._libs', 'pandas._libs.tslibs', 'pandas._libs.tslibs.conversion', '_cython_0_28_2', 'pandas._libs.tslibs.nattype', 'pandas._libs.tslibs.np_datetime', 'pandas._libs.tslibs.timedeltas', 'pandas._libs.tslibs.offsets', 'pandas._libs.tslibs.ccalendar', 'pandas._libs.tslibs.strptime', 'pandas._libs.tslibs.timezones', 'pandas._libs.tslibs.parsing', 'pandas._libs.tslibs.period', 'pandas._libs.tslibs.frequencies', 'pandas._libs.tslibs.timestamps', 'pandas._libs.tslibs.fields', 'pandas._libs.tslibs.resolution', 'pandas._libs.hashtable', 'pandas._libs.missing', 'pandas._libs.lib', 'fractions', 'pandas._libs.tslib', 'pandas.core', 'pandas.core.config_init', 'pandas.core.config', 'pandas.io', 'pandas.io.formats', 'pandas.io.formats.printing', 'pandas.core.dtypes', 'pandas.core.dtypes.inference', 'pandas.io.formats.console', 'pandas.io.formats.terminal', 'pandas.core.api', 'pandas.core.arrays', 'pandas.core.arrays.array_', 'pandas.core.dtypes.common', 'pandas._libs.algos', 'pandas.core.dtypes.dtypes', 'pandas._libs.interval', 'pandas.core.dtypes.generic', 'pandas.core.dtypes.base', 'pandas.errors', 'pandas.core.arrays.base', 'pandas.compat.numpy.function', 'pandas.util', 'pandas.util._decorators', 'pandas._libs.properties', 'pandas.core.util', 'pandas.core.util.hashing', 'pandas._libs.hashing', 'pandas.core.dtypes.cast', 'pandas.core.dtypes.missing', 'pandas.util._validators', 'pandas.core.ops', 'pandas._libs.ops', 'pandas.core.common', 'pandas.core.missing', 'pandas.core.arrays.categorical', 'pandas.core.accessor', 'pandas.core.algorithms', 'pandas.core.base', 'pandas.core.nanops', 'bottleneck', 'bottleneck.reduce', 'bottleneck.nonreduce', 'bottleneck.nonreduce_axis', 'bottleneck.move', 'bottleneck.slow', 'bottleneck.slow.reduce', 'bottleneck.slow.nonreduce', 'bottleneck.slow.nonreduce_axis', 'bottleneck.slow.move', 'bottleneck.version', 'bottleneck.benchmark', 'bottleneck.benchmark.bench', 'bottleneck.benchmark.autotimeit', 'bottleneck.benchmark.bench_detailed', 'bottleneck.tests', 'bottleneck.tests.util', 'pandas.tseries', 'pandas.tseries.offsets', 'dateutil.easter', 'pandas.core.tools', 'pandas.core.tools.datetimes', 'pandas.core.sorting', 'pandas.core.arrays.datetimes', 'pandas.core.arrays.datetimelike', 'pandas.tseries.frequencies', 'pandas.core.arrays._ranges', 'pandas.core.arrays.interval', 'pandas.util._doctools', 'pandas.core.indexes', 'pandas.core.indexes.base', 'pandas._libs.index', 'pandas._libs.join', 'pandas.core.dtypes.concat', 'pandas.core.indexes.frozen', 'pandas.core.strings', 'pandas.core.arrays.period', 'pandas.core.arrays.timedeltas', 'pandas.core.arrays.integer', 'pandas.core.tools.numeric', 'pandas.core.arrays.sparse', 'pandas._libs.sparse', 'pandas.core.arrays.numpy_', 'pandas.core.groupby', 'pandas.core.groupby.groupby', 'pandas._libs.groupby', 'pandas.core.frame', 'pandas.core.generic', 'pandas.core.index', 'pandas.core.indexes.api', 'pandas.core.indexes.category', 'pandas.core.indexes.datetimes', 'pandas.core.indexes.datetimelike', 'pandas.core.tools.timedeltas', 'pandas.core.indexes.numeric', 'pandas.core.indexes.interval', 'pandas.util._exceptions', 'pandas.core.indexes.multi', 'pandas.core.indexes.timedeltas', 'pandas.core.indexes.period', 'pandas.core.indexes.range', 'pandas.core.indexing', 'pandas._libs.indexing', 'pandas.core.internals', 'pandas.core.internals.blocks', 'pandas._libs.internals', 'pandas.core.internals.arrays', 'pandas.core.internals.managers', 'pandas.core.internals.concat', 'pandas.io.formats.format', 'pandas.io.common', 'mmap', 'zipfile', 'pandas.core.internals.construction', 'pandas.core.series', 'pandas.core.indexes.accessors', 'pandas.plotting', 'pandas.plotting._misc', 'pandas.plotting._style', 'pandas.plotting._tools', 'pandas.plotting._core', 'pandas.plotting._compat', 'pandas.plotting._converter', 'pandas.core.window', 'pandas._libs.window', 'pandas._libs.skiplist', 'pandas.core.groupby.base', 'pandas.core.groupby.generic', 'pandas.core.panel', 'pandas.core.reshape', 'pandas.core.reshape.util', 'pandas.core.groupby.grouper', 'pandas.core.groupby.ops', 'pandas._libs.reduction', 'pandas.core.reshape.reshape', 'pandas._libs.reshape', 'pandas.core.sparse', 'pandas.core.sparse.api', 'pandas.core.sparse.frame', 'pandas.core.sparse.series', 'pandas.core.sparse.scipy_sparse', 'pandas.tseries.api', 'pandas.core.computation', 'pandas.core.computation.api', 'pandas.core.computation.eval', 'pandas.core.computation.engines', 'pandas.core.computation.align', 'pandas.core.computation.common', 'pandas.core.computation.ops', 'pandas.core.computation.scope', 'pandas.core.reshape.api', 'pandas.core.reshape.concat', 'pandas.core.reshape.melt', 'pandas.core.reshape.merge', 'pandas.core.reshape.pivot', 'pandas.core.reshape.tile', 'pandas.util._print_versions', 'pandas.io.api', 'pandas.io.clipboards', 'pandas.io.excel', 'pandas._libs.json', 'pandas.io.parsers', 'pandas._libs.parsers', 'pandas.io.date_converters', 'pandas.io.feather_format', 'pandas.io.gbq', 'pandas.io.html', 'pandas.io.json', 'pandas.io.json.json', 'pandas.io.json.normalize', 'pandas._libs.writers', 'pandas.io.json.table_schema', 'pandas.api', 'pandas.api.types', 'pandas.core.dtypes.api', 'pandas.api.extensions', 'pandas.io.packers', 'pandas.util._move', 'pandas.io.msgpack', 'pandas.io.msgpack.exceptions', 'pandas.io.msgpack._version', 'pandas.io.msgpack._packer', 'pandas.io.msgpack._unpacker', 'pandas.io.parquet', 'pandas.io.pickle', 'pandas.compat.pickle_compat', 'pandas.io.pytables', 'pandas.core.computation.pytables', 'pandas.core.computation.expr', 'pandas.io.sas', 'pandas.io.sas.sasreader', 'pandas.io.sql', 'pandas.io.stata', 'pandas.util._tester', 'pandas.testing', 'pandas.util.testing', 'pandas._libs.testing', 'pandas.arrays', 'pandas._version', 'scipy', 'scipy._distributor_init', 'scipy.__config__', 'scipy.version', 'scipy._lib', 'scipy._lib._testutils', 'scipy._lib._version', 'scipy._lib.six', 'scipy._lib._ccallback', 'scipy._lib._ccallback_c', 'scipy.stats', 'scipy.stats.stats', 'scipy.special', 'scipy.special.sf_error', 'scipy.special._ufuncs', 'scipy.special._ufuncs_cxx', 'scipy.special.basic', 'scipy.special.specfun', 'scipy.special.orthogonal', 'scipy.linalg', 'scipy.linalg.linalg_version', 'scipy.linalg.misc', 'scipy.linalg.blas', 'scipy.linalg._fblas', 'scipy.linalg.lapack', 'scipy.linalg._flapack', 'scipy._lib._util', 'scipy.linalg.basic', 'scipy.linalg.flinalg', 'scipy.linalg._flinalg', 'scipy.linalg.decomp', 'scipy.linalg.decomp_svd', 'scipy.linalg._solve_toeplitz', 'scipy.linalg.decomp_lu', 'scipy.linalg._decomp_ldl', 'scipy.linalg.decomp_cholesky', 'scipy.linalg.decomp_qr', 'scipy.linalg._decomp_qz', 'scipy.linalg.decomp_schur', 'scipy.linalg._decomp_polar', 'scipy.linalg.matfuncs', 'scipy.linalg.special_matrices', 'scipy.linalg._expm_frechet', 'scipy.linalg._matfuncs_sqrtm', 'scipy.linalg._solvers', 'scipy.linalg._procrustes', 'scipy.linalg._decomp_update', 'scipy.linalg.cython_blas', 'scipy.linalg.cython_lapack', 'scipy.linalg._sketches', 'numpy.dual', 'scipy.special._comb', 'scipy.special._logsumexp', 'scipy.special.spfun_stats', 'scipy.special._ellip_harm', 'scipy.special._ellip_harm_2', 'scipy.special.lambertw', 'scipy.special._spherical_bessel', 'scipy.stats.distributions', 'scipy.stats._distn_infrastructure', 'scipy.misc', 'scipy.misc.doccer', 'scipy.misc.common', 'scipy.interpolate', 'scipy.interpolate.interpolate', 'scipy.interpolate.fitpack', 'scipy.interpolate._fitpack_impl', 'scipy.interpolate._fitpack', 'scipy.interpolate.dfitpack', 'scipy.interpolate._bsplines', 'scipy.interpolate._bspl', 'scipy.interpolate.polyint', 'scipy.interpolate._ppoly', 'scipy.interpolate.fitpack2', 'scipy.interpolate.interpnd', 'scipy.spatial', 'scipy.spatial.kdtree', 'scipy.sparse', 'scipy.sparse.base', 'scipy._lib._numpy_compat', 'scipy.sparse.sputils', 'scipy.sparse.csr', 'scipy.sparse._sparsetools', 'scipy.sparse.compressed', 'scipy.sparse.data', 'scipy.sparse.dia', 'scipy.sparse.csc', 'scipy.sparse.lil', 'scipy.sparse._csparsetools', 'scipy.sparse.dok', 'scipy.sparse.coo', 'scipy.sparse.bsr', 'scipy.sparse.construct', 'scipy.sparse.extract', 'scipy.sparse._matrix_io', 'scipy.sparse.csgraph', 'scipy.sparse.csgraph._laplacian', 'scipy.sparse.csgraph._shortest_path', 'scipy.sparse.csgraph._validation', 'scipy.sparse.csgraph._tools', 'scipy.sparse.csgraph._traversal', 'scipy.sparse.csgraph._min_spanning_tree', 'scipy.sparse.csgraph._reordering', 'scipy.spatial.ckdtree', 'scipy.spatial.qhull', 'scipy._lib.messagestream', 'scipy.spatial._spherical_voronoi', 'numpy.matlib', 'scipy.spatial._voronoi', 'scipy.spatial.distance', 'scipy.spatial._distance_wrap', 'scipy.spatial._hausdorff', 'scipy.spatial._plotutils', 'scipy._lib.decorator', 'scipy.spatial._procrustes', 'scipy.interpolate.rbf', 'scipy.interpolate._cubic', 'scipy.interpolate.ndgriddata', 'scipy.interpolate._pade', 'scipy.misc.pilutil', 'PIL.ImageFilter', 'scipy.stats._distr_params', 'scipy.optimize', 'scipy.optimize.optimize', 'scipy.optimize.linesearch', 'scipy.optimize.minpack2', 'scipy.optimize._minimize', 'scipy.sparse.linalg', 'scipy.sparse.linalg.isolve', 'scipy.sparse.linalg.isolve.iterative', 'scipy.sparse.linalg.isolve._iterative', 'scipy.sparse.linalg.interface', 'scipy.sparse.linalg.isolve.utils', 'scipy._lib._threadsafety', 'scipy.sparse.linalg.isolve.minres', 'scipy.sparse.linalg.isolve.lgmres', 'scipy.sparse.linalg.isolve._gcrotmk', 'scipy.sparse.linalg.isolve.lsqr', 'scipy.sparse.linalg.isolve.lsmr', 'scipy.sparse.linalg.dsolve', 'scipy.sparse.linalg.dsolve.linsolve', 'scipy.sparse.linalg.dsolve._superlu', 'scipy.sparse.linalg.dsolve._add_newdocs', 'scipy.sparse.linalg.eigen', 'scipy.sparse.linalg.eigen.arpack', 'scipy.sparse.linalg.eigen.arpack.arpack', 'scipy.sparse.linalg.eigen.arpack._arpack', 'scipy.sparse.linalg.eigen.lobpcg', 'scipy.sparse.linalg.eigen.lobpcg.lobpcg', 'scipy.sparse.linalg.matfuncs', 'scipy.sparse.linalg._onenormest', 'scipy.sparse.linalg._norm', 'scipy.sparse.linalg._expm_multiply', 'scipy.optimize._trustregion_dogleg', 'scipy.optimize._trustregion', 'scipy.optimize._trustregion_ncg', 'scipy.optimize._trustregion_krylov', 'scipy.optimize._trlib', 'scipy.optimize._trlib._trlib', 'scipy.optimize._trustregion_exact', 'scipy.optimize._trustregion_constr', 'scipy.optimize._trustregion_constr.minimize_trustregion_constr', 'scipy.optimize._differentiable_functions', 'scipy.optimize._numdiff', 'scipy.optimize._group_columns', 'scipy.optimize._hessian_update_strategy', 'scipy.optimize._constraints', 'scipy.optimize._trustregion_constr.equality_constrained_sqp', 'scipy.optimize._trustregion_constr.projections', 'scipy.optimize._trustregion_constr.qp_subproblem', 'scipy.optimize._trustregion_constr.canonical_constraint', 'scipy.optimize._trustregion_constr.tr_interior_point', 'scipy.optimize._trustregion_constr.report', 'scipy.optimize.lbfgsb', 'scipy.optimize._lbfgsb', 'scipy.optimize.tnc', 'scipy.optimize.moduleTNC', 'scipy.optimize.cobyla', 'scipy.optimize._cobyla', 'scipy.optimize.slsqp', 'scipy.optimize._slsqp', 'scipy.optimize._root', 'scipy.optimize.minpack', 'scipy.optimize._minpack', 'scipy.optimize._lsq', 'scipy.optimize._lsq.least_squares', 'scipy.optimize._lsq.trf', 'scipy.optimize._lsq.common', 'scipy.optimize._lsq.dogbox', 'scipy.optimize._lsq.lsq_linear', 'scipy.optimize._lsq.trf_linear', 'scipy.optimize._lsq.givens_elimination', 'scipy.optimize._lsq.bvls', 'scipy.optimize._spectral', 'scipy.optimize.nonlin', 'scipy.optimize.zeros', 'scipy.optimize._zeros', 'scipy.optimize.nnls', 'scipy.optimize._nnls', 'scipy.optimize._basinhopping', 'scipy.optimize._linprog', 'scipy.optimize._linprog_ip', 'scipy.optimize._remove_redundancy', 'scipy.optimize._hungarian', 'scipy.optimize._differentialevolution', 'scipy.integrate', 'scipy.integrate.quadrature', 'scipy.integrate.odepack', 'scipy.integrate._odepack', 'scipy.integrate.quadpack', 'scipy.integrate._quadpack', 'scipy.integrate._ode', 'scipy.integrate.vode', 'scipy.integrate._dop', 'scipy.integrate.lsoda', 'scipy.integrate._bvp', 'scipy.integrate._ivp', 'scipy.integrate._ivp.ivp', 'scipy.integrate._ivp.bdf', 'scipy.integrate._ivp.common', 'scipy.integrate._ivp.base', 'scipy.integrate._ivp.radau', 'scipy.integrate._ivp.rk', 'scipy.integrate._ivp.lsoda', 'scipy.stats._constants', 'scipy.stats._continuous_distns', 'scipy.stats._stats', 'scipy.stats._tukeylambda_stats', 'scipy.stats._discrete_distns', 'scipy.stats.mstats_basic', 'scipy.stats._stats_mstats_common', 'scipy.stats.morestats', 'scipy.stats.statlib', 'scipy.stats.contingency', 'scipy.stats._binned_statistic', 'scipy.stats.kde', 'scipy.stats.mvn', 'scipy.stats.mstats', 'scipy.stats.mstats_extras', 'scipy.stats._multivariate', 'requests', 'urllib3', 'urllib3.connectionpool', 'urllib3.exceptions', 'urllib3.packages', 'urllib3.packages.ssl_match_hostname', 'urllib3.packages.six', 'urllib3.packages.six.moves', 'urllib3.packages.six.moves.http_client', 'urllib3.connection', 'urllib3.util', 'urllib3.util.connection', 'urllib3.util.wait', 'urllib3.util.selectors', 'urllib3.util.request', 'urllib3.util.response', 'urllib3.util.ssl_', 'urllib3.util.timeout', 'urllib3.util.retry', 'urllib3.util.url', 'urllib3._collections', 'urllib3.request', 'urllib3.filepost', 'urllib3.fields', 'urllib3.packages.six.moves.urllib', 'urllib3.packages.six.moves.urllib.parse', 'urllib3.response', 'urllib3.poolmanager', 'chardet', 'chardet.compat', 'chardet.universaldetector', 'chardet.charsetgroupprober', 'chardet.enums', 'chardet.charsetprober', 'chardet.escprober', 'chardet.codingstatemachine', 'chardet.escsm', 'chardet.latin1prober', 'chardet.mbcsgroupprober', 'chardet.utf8prober', 'chardet.mbcssm', 'chardet.sjisprober', 'chardet.mbcharsetprober', 'chardet.chardistribution', 'chardet.euctwfreq', 'chardet.euckrfreq', 'chardet.gb2312freq', 'chardet.big5freq', 'chardet.jisfreq', 'chardet.jpcntx', 'chardet.eucjpprober', 'chardet.gb2312prober', 'chardet.euckrprober', 'chardet.cp949prober', 'chardet.big5prober', 'chardet.euctwprober', 'chardet.sbcsgroupprober', 'chardet.sbcharsetprober', 'chardet.langcyrillicmodel', 'chardet.langgreekmodel', 'chardet.langbulgarianmodel', 'chardet.langthaimodel', 'chardet.langhebrewmodel', 'chardet.hebrewprober', 'chardet.langturkishmodel', 'chardet.version', 'requests.exceptions', 'urllib3.contrib', 'urllib3.contrib.pyopenssl', 'OpenSSL', 'OpenSSL.crypto', 'cryptography', 'cryptography.__about__', 'cryptography.x509', 'cryptography.x509.certificate_transparency', 'cryptography.x509.base', 'cryptography.utils', 'cryptography.hazmat', 'cryptography.hazmat.primitives', 'cryptography.hazmat.primitives.asymmetric', 'cryptography.hazmat.primitives.asymmetric.dsa', 'cryptography.hazmat.primitives.asymmetric.ec', 'cryptography.hazmat._oid', 'cryptography.hazmat.primitives.asymmetric.rsa', 'cryptography.exceptions', 'cryptography.hazmat.backends', 'cryptography.hazmat.backends.interfaces', 'cryptography.x509.extensions', 'asn1crypto', 'asn1crypto.version', 'asn1crypto.keys', 'asn1crypto._elliptic_curve', 'asn1crypto._int', 'asn1crypto.util', 'asn1crypto._errors', 'asn1crypto._iri', 'encodings.idna', 'stringprep', 'asn1crypto._types', 'asn1crypto._ordereddict', 'asn1crypto._ffi', 'asn1crypto._perf', 'asn1crypto._perf._big_num_ctypes', 'asn1crypto.algos', 'asn1crypto.core', 'asn1crypto._teletex_codec', 'asn1crypto.parser', 'cryptography.hazmat.primitives.constant_time', 'cryptography.hazmat.bindings', '_cffi_backend', '_constant_time.lib', '_constant_time', 'cryptography.hazmat.bindings._constant_time', 'cryptography.hazmat.primitives.serialization', 'cryptography.hazmat.primitives.serialization.base', 'cryptography.hazmat.primitives.serialization.ssh', 'cryptography.hazmat.primitives.asymmetric.ed25519', 'cryptography.x509.general_name', 'cryptography.x509.name', 'cryptography.x509.oid', 'cryptography.hazmat.primitives.hashes', 'OpenSSL._util', 'cryptography.hazmat.bindings.openssl', 'cryptography.hazmat.bindings.openssl.binding', '_openssl.lib', '_openssl', 'cryptography.hazmat.bindings._openssl', 'cryptography.hazmat.bindings.openssl._conditional', 'OpenSSL.SSL', 'OpenSSL.version', 'cryptography.hazmat.backends.openssl', 'cryptography.hazmat.backends.openssl.backend', 'cryptography.hazmat.backends.openssl.aead', 'cryptography.hazmat.backends.openssl.ciphers', 'cryptography.hazmat.primitives.ciphers', 'cryptography.hazmat.primitives.ciphers.base', 'cryptography.hazmat.primitives.ciphers.modes', 'cryptography.hazmat.backends.openssl.cmac', 'cryptography.hazmat.primitives.mac', 'cryptography.hazmat.backends.openssl.decode_asn1', 'cryptography.hazmat.backends.openssl.dh', 'cryptography.hazmat.primitives.asymmetric.dh', 'cryptography.hazmat.backends.openssl.dsa', 'cryptography.hazmat.backends.openssl.utils', 'cryptography.hazmat.primitives.asymmetric.utils', 'cryptography.hazmat.backends.openssl.ec', 'cryptography.hazmat.backends.openssl.ed25519', 'cryptography.hazmat.backends.openssl.ed448', 'cryptography.hazmat.primitives.asymmetric.ed448', 'cryptography.hazmat.backends.openssl.encode_asn1', 'cryptography.hazmat.backends.openssl.hashes', 'cryptography.hazmat.backends.openssl.hmac', 'cryptography.hazmat.backends.openssl.ocsp', 'cryptography.hazmat.backends.openssl.x509', 'cryptography.x509.ocsp', 'cryptography.hazmat.backends.openssl.rsa', 'cryptography.hazmat.primitives.asymmetric.padding', 'cryptography.hazmat.backends.openssl.x25519', 'cryptography.hazmat.primitives.asymmetric.x25519', 'cryptography.hazmat.backends.openssl.x448', 'cryptography.hazmat.primitives.asymmetric.x448', 'cryptography.hazmat.primitives.ciphers.algorithms', 'cryptography.hazmat.primitives.kdf', 'cryptography.hazmat.primitives.kdf.scrypt', 'urllib3.packages.backports', 'urllib3.packages.backports.makefile', 'requests.__version__', 'requests.utils', 'cgi', 'requests.certs', 'certifi', 'certifi.core', 'requests._internal_utils', 'requests.compat', 'http.cookiejar', 'http.cookies', 'requests.cookies', 'requests.structures', 'requests.packages', 'requests.packages.urllib3', 'requests.packages.urllib3.connectionpool', 'requests.packages.urllib3.exceptions', 'requests.packages.urllib3.packages', 'requests.packages.urllib3.packages.ssl_match_hostname', 'requests.packages.urllib3.packages.six', 'requests.packages.urllib3.packages.six.moves', 'requests.packages.urllib3.packages.six.moves.http_client', 'requests.packages.urllib3.connection', 'requests.packages.urllib3.util', 'requests.packages.urllib3.util.connection', 'requests.packages.urllib3.util.wait', 'requests.packages.urllib3.util.selectors', 'requests.packages.urllib3.util.request', 'requests.packages.urllib3.util.response', 'requests.packages.urllib3.util.ssl_', 'requests.packages.urllib3.util.timeout', 'requests.packages.urllib3.util.retry', 'requests.packages.urllib3.util.url', 'requests.packages.urllib3._collections', 'requests.packages.urllib3.request', 'requests.packages.urllib3.filepost', 'requests.packages.urllib3.fields', 'requests.packages.urllib3.packages.six.moves.urllib', 'requests.packages.urllib3.packages.six.moves.urllib.parse', 'requests.packages.urllib3.response', 'requests.packages.urllib3.poolmanager', 'requests.packages.urllib3.contrib', 'requests.packages.urllib3.contrib.pyopenssl', 'requests.packages.urllib3.packages.backports', 'requests.packages.urllib3.packages.backports.makefile', 'idna', 'idna.package_data', 'idna.core', 'idna.idnadata', 'idna.intranges', 'requests.packages.idna', 'requests.packages.idna.package_data', 'requests.packages.idna.core', 'requests.packages.idna.idnadata', 'requests.packages.idna.intranges', 'requests.packages.chardet', 'requests.packages.chardet.compat', 'requests.packages.chardet.universaldetector', 'requests.packages.chardet.charsetgroupprober', 'requests.packages.chardet.enums', 'requests.packages.chardet.charsetprober', 'requests.packages.chardet.escprober', 'requests.packages.chardet.codingstatemachine', 'requests.packages.chardet.escsm', 'requests.packages.chardet.latin1prober', 'requests.packages.chardet.mbcsgroupprober', 'requests.packages.chardet.utf8prober', 'requests.packages.chardet.mbcssm', 'requests.packages.chardet.sjisprober', 'requests.packages.chardet.mbcharsetprober', 'requests.packages.chardet.chardistribution', 'requests.packages.chardet.euctwfreq', 'requests.packages.chardet.euckrfreq', 'requests.packages.chardet.gb2312freq', 'requests.packages.chardet.big5freq', 'requests.packages.chardet.jisfreq', 'requests.packages.chardet.jpcntx', 'requests.packages.chardet.eucjpprober', 'requests.packages.chardet.gb2312prober', 'requests.packages.chardet.euckrprober', 'requests.packages.chardet.cp949prober', 'requests.packages.chardet.big5prober', 'requests.packages.chardet.euctwprober', 'requests.packages.chardet.sbcsgroupprober', 'requests.packages.chardet.sbcharsetprober', 'requests.packages.chardet.langcyrillicmodel', 'requests.packages.chardet.langgreekmodel', 'requests.packages.chardet.langbulgarianmodel', 'requests.packages.chardet.langthaimodel', 'requests.packages.chardet.langhebrewmodel', 'requests.packages.chardet.hebrewprober', 'requests.packages.chardet.langturkishmodel', 'requests.packages.chardet.version', 'requests.models', 'requests.hooks', 'requests.auth', 'requests.status_codes', 'requests.api', 'requests.sessions', 'requests.adapters', 'urllib3.contrib.socks', 'socks', 'tarfile', 'dataclasses', 'matplotlib.patheffects', 'fastprogress', 'fastprogress.fastprogress', 'fastprogress.version', 'pkg_resources', 'plistlib', 'xml', 'xml.parsers', 'xml.parsers.expat', 'pyexpat.errors', 'pyexpat.model', 'pyexpat', 'xml.parsers.expat.model', 'xml.parsers.expat.errors', 'pkg_resources.extern', 'pkg_resources._vendor', 'pkg_resources.extern.six', 'pkg_resources._vendor.six', 'pkg_resources.extern.six.moves', 'pkg_resources._vendor.six.moves', 'pkg_resources.py31compat', 'pkg_resources.extern.appdirs', 'pkg_resources._vendor.packaging.__about__', 'pkg_resources.extern.packaging', 'pkg_resources.extern.packaging.version', 'pkg_resources.extern.packaging._structures', 'pkg_resources.extern.packaging.specifiers', 'pkg_resources.extern.packaging._compat', 'pkg_resources.extern.packaging.requirements', 'pkg_resources.extern.pyparsing', 'pkg_resources.extern.six.moves.urllib', 'pkg_resources.extern.packaging.markers', 'fastai.imports.torch', 'torch', 'torch._utils', 'torch._utils_internal', 'torch.version', 'torch._six', 'torch._nvrtc', 'torch._C._onnx', 'torch._C._jit_tree_views', 'torch._C._jit', 'torch._C', 'torch.random', 'torch.serialization', 'torch._tensor_str', 'torch.tensor', 'torch.utils', 'torch.utils.hooks', 'torch.storage', 'torch.cuda', 'torch.cuda._utils', 'torch.cuda.random', 'torch.cuda.sparse', 'torch.cuda.profiler', 'torch.cuda.nvtx', 'torch.cuda.streams', 'torch.sparse', 'torch.functional', 'torch.nn', 'torch.nn.modules', 'torch.nn.modules.module', 'torch.nn.backends', 'torch.nn.backends.thnn', 'torch.nn.backends.backend', 'torch.nn._functions', 'torch.nn._functions.thnn', 'torch.nn._functions.thnn.auto', 'torch._thnn', 'torch._thnn.utils', 'torch.autograd', 'torch.autograd.variable', 'torch.autograd.function', 'torch.autograd.gradcheck', 'torch.testing', 'torch.autograd.grad_mode', 'torch.autograd.anomaly_mode', 'torch.autograd.profiler', 'torch.nn._functions.thnn.auto_double_backwards', 'torch.nn._functions.thnn.auto_symbolic', 'torch.autograd._functions', 'torch.autograd._functions.tensor', 'torch.autograd._functions.utils', 'torch.nn._functions.thnn.normalization', 'torch.nn._functions.thnn.fold', 'torch.nn._functions.thnn.sparse', 'torch.nn.parameter', 'torch.nn.modules.linear', 'torch.nn.functional', 'torch.nn._reduction', 'torch._jit_internal', 'torch.nn.modules.utils', 'torch.nn._functions.vision', 'torch.backends', 'torch.backends.cudnn', 'torch.nn.grad', 'torch.nn._VF', 'torch.nn.init', 'torch.nn.modules.conv', 'torch.nn.modules.activation', 'torch.nn.modules.loss', 'torch.nn.modules.container', 'torch.nn.modules.pooling', 'torch.nn.modules.batchnorm', 'torch.nn.modules.instancenorm', 'torch.nn.modules.normalization', 'torch.nn.modules.dropout', 'torch.nn.modules.padding', 'torch.nn.modules.sparse', 'torch.nn.modules.rnn', 'torch.nn.utils', 'torch.nn.utils.rnn', 'torch.nn.utils.clip_grad', 'torch.nn.utils.weight_norm', 'torch.nn.utils.convert_parameters', 'torch.nn.utils.spectral_norm', 'torch.nn.modules.pixelshuffle', 'torch.nn.modules.upsampling', 'torch.nn.modules.distance', 'torch.nn.modules.fold', 'torch.nn.modules.adaptive', 'torch.nn.parallel', 'torch.nn.parallel.parallel_apply', 'torch.nn.parallel.replicate', 'torch.cuda.comm', 'torch.cuda.nccl', 'torch.nn.parallel.data_parallel', 'torch.nn.parallel.scatter_gather', 'torch.nn.parallel._functions', 'torch.nn.parallel.distributed', 'torch.distributed', 'torch.distributed.distributed_c10d', 'torch.distributed.rendezvous', 'torch.nn.parallel.distributed_cpu', 'torch.nn.parallel.deprecated', 'torch.nn.parallel.deprecated.distributed', 'torch.distributed.deprecated', 'torch.nn.parallel.deprecated.distributed_cpu', 'torch.optim', 'torch.optim.adadelta', 'torch.optim.optimizer', 'torch.optim.adagrad', 'torch.optim.adam', 'torch.optim.sparse_adam', 'torch.optim.adamax', 'torch.optim.asgd', 'torch.optim.sgd', 'torch.optim.rprop', 'torch.optim.rmsprop', 'torch.optim.lbfgs', 'torch.optim.lr_scheduler', 'torch.multiprocessing', 'torch.multiprocessing.reductions', 'multiprocessing.resource_sharer', 'torch.multiprocessing.spawn', 'torch.utils.backcompat', 'torch.onnx', 'torch.jit', 'torch.jit.frontend', 'torch.jit.annotations', 'torch.distributions', 'torch.distributions.bernoulli', 'torch.distributions.constraints', 'torch.distributions.exp_family', 'torch.distributions.distribution', 'torch.distributions.utils', 'torch.distributions.beta', 'torch.distributions.dirichlet', 'torch.distributions.binomial', 'torch.distributions.categorical', 'torch.distributions.cauchy', 'torch.distributions.chi2', 'torch.distributions.gamma', 'torch.distributions.constraint_registry', 'torch.distributions.transforms', 'torch.distributions.exponential', 'torch.distributions.fishersnedecor', 'torch.distributions.geometric', 'torch.distributions.gumbel', 'torch.distributions.uniform', 'torch.distributions.transformed_distribution', 'torch.distributions.half_cauchy', 'torch.distributions.half_normal', 'torch.distributions.normal', 'torch.distributions.independent', 'torch.distributions.kl', 'torch.distributions.laplace', 'torch.distributions.logistic_normal', 'torch.distributions.lowrank_multivariate_normal', 'torch.distributions.multivariate_normal', 'torch.distributions.one_hot_categorical', 'torch.distributions.pareto', 'torch.distributions.poisson', 'torch.distributions.log_normal', 'torch.distributions.multinomial', 'torch.distributions.negative_binomial', 'torch.distributions.relaxed_bernoulli', 'torch.distributions.relaxed_categorical', 'torch.distributions.studentT', 'torch.distributions.weibull', 'torch.backends.cuda', 'torch.backends.mkl', 'torch._torch_docs', 'torch._tensor_docs', 'torch._storage_docs', 'torch._ops', 'torch.utils.data', 'torch.utils.data.sampler', 'torch.utils.data.distributed', 'torch.utils.data.dataset', 'torch.utils.data.dataloader']),\n",
       "  160: <module 'os' from '/home/bala/anaconda3/lib/python3.6/os.py'>,\n",
       "  161: pathlib.Path,\n",
       "  163: [PosixPath('.git'),\n",
       "   PosixPath('.gitignore'),\n",
       "   PosixPath('.ipynb_checkpoints'),\n",
       "   PosixPath('00-Installation.ipynb'),\n",
       "   PosixPath('01_NumpyLecture.ipynb'),\n",
       "   PosixPath('02_Numpy_LiveCoding_Reference.ipynb'),\n",
       "   PosixPath('03_Numpy_UserGuide.ipynb'),\n",
       "   PosixPath('CP01.ipynb'),\n",
       "   PosixPath('README.md'),\n",
       "   PosixPath('tmp')],\n",
       "  165: <module 'shutil' from '/home/bala/anaconda3/lib/python3.6/shutil.py'>},\n",
       " '_dh': ['/mnt/hdd/Projects/bala/pydot-preparations'],\n",
       " 'In': ['',\n",
       "  'c = []\\nfor i in range(len(a)):\\n    c.append(a[i]*b[i])',\n",
       "  'a= [1,2,3,4]\\nb= [1,1,1,1]\\nc = []\\nfor i in range(len(a)):\\n    c.append(a[i]*b[i])',\n",
       "  'a= [1,2,3,4]\\nb= [1,1,1,1]\\nc = []\\nfor i in range(len(a)):\\n    c.append(a[i]*b[i])\\nc',\n",
       "  'a= [1,2,3,4]\\nb= [1,1,1,0]\\nc = []\\nfor i in range(len(a)):\\n    c.append(a[i]*b[i])\\nc',\n",
       "  'a= [[1,2,3,4]]\\nb= [[1,1,1,0]]\\n\\nrows = 1\\ncolumns = 4\\n\\nfor (i = 0; i < rows; i++): {\\n  for (j = 0; j < columns; j++): {\\n    c[i][j] = a[i][j]*b[i][j];\\n  }\\n}',\n",
       "  'a= np.array([1,2,3,4])\\nb= np.array([1,1,1,0])\\n\\nc = a * b\\nc',\n",
       "  'import numpy as np',\n",
       "  'import numpy as np\\na= np.array([1,2,3,4])\\nb= np.array([1,1,1,0])\\n\\nc = a * b\\nc',\n",
       "  '#In NumPy dimensions are called axes.',\n",
       "  '#NumPy’s main object is the homogeneous multidimensional array.\\n#In NumPy dimensions are called axes.',\n",
       "  'x = np.array([\\n    [ 1., 0., 0.],\\n    [ 0., 1., 2.]\\n])',\n",
       "  'x',\n",
       "  'x.shape',\n",
       "  'x.sum(axis=0)',\n",
       "  'x.sum(axis=1)',\n",
       "  'x.shape',\n",
       "  'x.ndim',\n",
       "  'np.vstack([x,x])\\n# np.hstack',\n",
       "  'np.hstack([x,x])',\n",
       "  'x1 = np.vstack([x,x])\\nx1.shape',\n",
       "  'x1 = np.vstack([x,x])\\nx1.shape\\nx1.ndim',\n",
       "  'x1 = np.vstack([x,x])\\nx1.shape, x1.ndim',\n",
       "  'x1 = np.vstack([x,x])\\n\"x1.shape\", x1.shape, x1.ndim',\n",
       "  'x1 = np.vstack([x,x])\\n\"x1.shape = \", x1.shape, \"x1.ndim = \", x1.ndim',\n",
       "  'np.hstack([x,x,x,x])',\n",
       "  'x2 = np.hstack([x,x,x,x])\\nx2',\n",
       "  'x2 = np.hstack([x,x,x,x])\\nx2.reshape(shape=(2,-1))',\n",
       "  'x2 = np.hstack([x,x,x,x])\\nx2.reshape(shape=(2,None))',\n",
       "  'x2 = np.hstack([x,x,x,x])\\nx2.reshape((2,-1))',\n",
       "  'x2 = np.hstack([x,x,x,x])\\nx2.reshape(shape=(2,-1))',\n",
       "  'x2 = np.hstack([x,x,x,x])\\nx2.reshape((2,-1))',\n",
       "  'x2 = np.hstack([x,x,x,x])\\nx2.reshape((3,-1))',\n",
       "  'x2 = np.hstack([x,x,x,x])\\nx2.reshape((4,-1))',\n",
       "  'x2 = np.hstack([x,x,x,x])\\nx2.reshape((5,-1))',\n",
       "  'x2 = np.hstack([x,x,x,x])\\nx2.reshape((6,-1))',\n",
       "  'x2 = np.hstack([x,x,x,x])\\nx2.reshape((6,2,-1))',\n",
       "  'x2 = np.hstack([x,x,x,x])\\nx3 = x2.reshape((6,2,-1))\\nx3',\n",
       "  'x3.ndim',\n",
       "  'x3.shape',\n",
       "  'x3.data',\n",
       "  'x3.data()',\n",
       "  'x3.data.c_contiguous',\n",
       "  'x3.data.itemsize',\n",
       "  'x3.data.ndim',\n",
       "  'x3.data.obj',\n",
       "  'x3.data.tobytes',\n",
       "  'x3.data.tobytes()',\n",
       "  'x3.data.strides',\n",
       "  'x3',\n",
       "  'x3.shape',\n",
       "  'x3.sum(axis=0)',\n",
       "  'x3.sum(axis=1)',\n",
       "  'x3.sum(axis=2)',\n",
       "  'x3.shape',\n",
       "  'x3.item',\n",
       "  'x3.item()',\n",
       "  'x3.item(1)',\n",
       "  'x3.item(2)',\n",
       "  'x3.item(10)',\n",
       "  'x3.item(3)',\n",
       "  'x3',\n",
       "  'x3.item(-1)',\n",
       "  'x3.itemsize()',\n",
       "  'x3.itemsize',\n",
       "  'x2.size()',\n",
       "  'x2.size',\n",
       "  'x3.dtype.names',\n",
       "  'x3.dtype.names',\n",
       "  'x3.dtype.name',\n",
       "  'x3.dtype.shape',\n",
       "  'x3.dtype.name',\n",
       "  'a',\n",
       "  'a.ndim',\n",
       "  'a',\n",
       "  'a.ndim',\n",
       "  'a.ndim, a.sum(axis=0)',\n",
       "  'a.ndim, a.sum(axis=0)\\na.shape',\n",
       "  'a.ndim, a.sum(axis=0), a.shape',\n",
       "  'c1= np.array([\\n    [2,0,1],\\n    [1,2,3],\\n    [1,0,1]\\n])',\n",
       "  'c1= np.array([\\n    [2,0,1],\\n    [1,2,3],\\n    [1,0,1]\\n])\\nnp.stack((c1,c1,c1))',\n",
       "  'c1= np.array([\\n    [2,0,1],\\n    [1,2,3],\\n    [1,0,1]\\n])\\nc_3d = np.stack((c1,c1,c1))',\n",
       "  'c_3d',\n",
       "  'c_3d.shape',\n",
       "  'c_3d.ndim',\n",
       "  'c_3d.sum(axis=0)',\n",
       "  'c_3d.sum(axis=1)',\n",
       "  'c_3d.sum(axis=2)',\n",
       "  'c1= np.array([\\n    [2,0,1,1],\\n    [1,2,3,1],\\n    [1,0,1,1]\\n])\\nc_3d = np.stack((c1,c1,c1))',\n",
       "  'c_3d',\n",
       "  'c1= np.array([\\n    [2,0,1,1],\\n    [1,2,3,1],\\n    [1,0,1,1]\\n])\\nc_3d = np.stack((c1,c1))',\n",
       "  'c_3d',\n",
       "  'c_3d.shape',\n",
       "  'c_3d.ndim',\n",
       "  'c_3d.sum(axis=0)',\n",
       "  'c_3d.sum(axis=0)',\n",
       "  'c_3d.sum(axis=1)',\n",
       "  'c_3d.sum(axis=0)',\n",
       "  'c_3d.sum(axis=1)',\n",
       "  'c_3d.sum(axis=2)',\n",
       "  'a = np.array([2,3,4])',\n",
       "  'a',\n",
       "  'a.dtype',\n",
       "  'b = np.array([1.2, 3.5, 5.1])\\nb.dtype',\n",
       "  'b = np.array([(1.5,2,3), (4,5,6)])\\nb.dtype',\n",
       "  'b = np.array([(1.5,2,3), (4,5,6)])\\nprint(b.dtype)\\nprint(b.ndim)',\n",
       "  'b = np.array([(1.5,2,3), (4,5,6)])\\nprint(b.dtype)\\nprint(b.ndim)\\nprint(b.shape)',\n",
       "  '# Controll the dtype\\nb = np.array([(1.5,2,3), (4,5,6)], dtype=int)\\nprint(b.dtype)\\nprint(b.ndim)\\nprint(b.shape)',\n",
       "  '# Controll the dtype\\nb = np.array([(1.5,2,3), (4,5,6)], dtype=int64)\\nprint(b.dtype)\\nprint(b.ndim)\\nprint(b.shape)',\n",
       "  '# Controll the dtype\\nb = np.array([(1.5,2,3), (4,5,6)], dtype=OBJECT)\\nprint(b.dtype)\\nprint(b.ndim)\\nprint(b.shape)',\n",
       "  '# Controll the dtype\\nb = np.array([(1.5,2,3), (4,5,6)], dtype=object)\\nprint(b.dtype)\\nprint(b.ndim)\\nprint(b.shape)',\n",
       "  '# Controll the dtype\\nb = np.array([(1.5,2,3), (4,5,6)], dtype=np.int64)\\nprint(b.dtype)\\nprint(b.ndim)\\nprint(b.shape)',\n",
       "  'help(np.arange)',\n",
       "  'np.arange(3)',\n",
       "  'np.arange(3.0)',\n",
       "  'np.arange(3,10, 0.03)',\n",
       "  'np.arange(3,10, 0.5)',\n",
       "  'np.pi',\n",
       "  'np.piecewise',\n",
       "  'np.linspace( 0, 2, 9 )',\n",
       "  'np.arange( 0, 2, 9 )',\n",
       "  'np.arange( 0, 2, (2-0)/9 )',\n",
       "  'np.arange( 0, 2, (2-0)//9 )',\n",
       "  'np.arange( 0, 2, (2-0)/9 )',\n",
       "  'np.arange( 0, 2, (2+1-0)/9 )',\n",
       "  'np.arange( 0, 2, (2-0)/9 )',\n",
       "  'np.empty( (2,3) )',\n",
       "  'np.empty( (2,3) )',\n",
       "  'np.empty( (2,3) )',\n",
       "  'np.empty( (2,3) )',\n",
       "  'np.empty( (2,3) , int)',\n",
       "  'np.empty( (2,3))',\n",
       "  'np.empty( (2,3) )',\n",
       "  'np.ones( (2,3,4), dtype=np.int16 )      ',\n",
       "  'np.zeros( (2,3,4), dtype=np.int16 )      ',\n",
       "  'np.full( (2,3,4), 3, dtype=np.int16 )      ',\n",
       "  'x = np.linspace( 0, 2*np.pi, 100 )',\n",
       "  'x',\n",
       "  'x = np.linspace( 0, 2*np.pi, 10 )',\n",
       "  'x',\n",
       "  'y = np.sin(x)',\n",
       "  'from fastai import *',\n",
       "  'from fastai.core import *',\n",
       "  'plt.show(x,y)',\n",
       "  'plt.plt(x,y)',\n",
       "  'plt.plot(x,y)',\n",
       "  'plt.plot(x)',\n",
       "  'plt.plot(y)',\n",
       "  'plt.plot(y, linestyle=\"o\")',\n",
       "  'plt.plot(y, \"-ok\")',\n",
       "  'plt.plot(y, \"-or\")',\n",
       "  'plt.plot(y, \"-r\")',\n",
       "  'plt.plot(y, \"-or\")',\n",
       "  'plt.plot(y, \"or\")',\n",
       "  'plt.plot(y, \"-or\")',\n",
       "  'x = np.linspace( 0, 2*np.pi, 100 )',\n",
       "  'y = np.sin(x)',\n",
       "  'plt.plot(y, \"-or\")',\n",
       "  'import sys\\nsys.modules.keys()',\n",
       "  'import sys\\nfor k in sys.modules.keys():\\n    print(k)',\n",
       "  'os',\n",
       "  'Path',\n",
       "  \"a = Path('.')\",\n",
       "  'a.ls()',\n",
       "  'google',\n",
       "  'shutil',\n",
       "  'locals()'],\n",
       " 'Out': {3: [1, 2, 3, 4],\n",
       "  4: [1, 2, 3, 0],\n",
       "  8: array([1, 2, 3, 0]),\n",
       "  12: array([[1., 0., 0.],\n",
       "         [0., 1., 2.]]),\n",
       "  13: (2, 3),\n",
       "  14: array([1., 1., 2.]),\n",
       "  15: array([1., 3.]),\n",
       "  16: (2, 3),\n",
       "  17: 2,\n",
       "  18: array([[1., 0., 0.],\n",
       "         [0., 1., 2.],\n",
       "         [1., 0., 0.],\n",
       "         [0., 1., 2.]]),\n",
       "  19: array([[1., 0., 0., 1., 0., 0.],\n",
       "         [0., 1., 2., 0., 1., 2.]]),\n",
       "  20: (4, 3),\n",
       "  21: 2,\n",
       "  22: ((4, 3), 2),\n",
       "  23: ('x1.shape', (4, 3), 2),\n",
       "  24: ('x1.shape = ', (4, 3), 'x1.ndim = ', 2),\n",
       "  25: array([[1., 0., 0., 1., 0., 0., 1., 0., 0., 1., 0., 0.],\n",
       "         [0., 1., 2., 0., 1., 2., 0., 1., 2., 0., 1., 2.]]),\n",
       "  26: array([[1., 0., 0., 1., 0., 0., 1., 0., 0., 1., 0., 0.],\n",
       "         [0., 1., 2., 0., 1., 2., 0., 1., 2., 0., 1., 2.]]),\n",
       "  29: array([[1., 0., 0., 1., 0., 0., 1., 0., 0., 1., 0., 0.],\n",
       "         [0., 1., 2., 0., 1., 2., 0., 1., 2., 0., 1., 2.]]),\n",
       "  31: array([[1., 0., 0., 1., 0., 0., 1., 0., 0., 1., 0., 0.],\n",
       "         [0., 1., 2., 0., 1., 2., 0., 1., 2., 0., 1., 2.]]),\n",
       "  32: array([[1., 0., 0., 1., 0., 0., 1., 0.],\n",
       "         [0., 1., 0., 0., 0., 1., 2., 0.],\n",
       "         [1., 2., 0., 1., 2., 0., 1., 2.]]),\n",
       "  33: array([[1., 0., 0., 1., 0., 0.],\n",
       "         [1., 0., 0., 1., 0., 0.],\n",
       "         [0., 1., 2., 0., 1., 2.],\n",
       "         [0., 1., 2., 0., 1., 2.]]),\n",
       "  35: array([[1., 0., 0., 1.],\n",
       "         [0., 0., 1., 0.],\n",
       "         [0., 1., 0., 0.],\n",
       "         [0., 1., 2., 0.],\n",
       "         [1., 2., 0., 1.],\n",
       "         [2., 0., 1., 2.]]),\n",
       "  36: array([[[1., 0.],\n",
       "          [0., 1.]],\n",
       "  \n",
       "         [[0., 0.],\n",
       "          [1., 0.]],\n",
       "  \n",
       "         [[0., 1.],\n",
       "          [0., 0.]],\n",
       "  \n",
       "         [[0., 1.],\n",
       "          [2., 0.]],\n",
       "  \n",
       "         [[1., 2.],\n",
       "          [0., 1.]],\n",
       "  \n",
       "         [[2., 0.],\n",
       "          [1., 2.]]]),\n",
       "  37: array([[[1., 0.],\n",
       "          [0., 1.]],\n",
       "  \n",
       "         [[0., 0.],\n",
       "          [1., 0.]],\n",
       "  \n",
       "         [[0., 1.],\n",
       "          [0., 0.]],\n",
       "  \n",
       "         [[0., 1.],\n",
       "          [2., 0.]],\n",
       "  \n",
       "         [[1., 2.],\n",
       "          [0., 1.]],\n",
       "  \n",
       "         [[2., 0.],\n",
       "          [1., 2.]]]),\n",
       "  38: 3,\n",
       "  39: (6, 2, 2),\n",
       "  40: <memory at 0x7f6d3a3786d8>,\n",
       "  42: True,\n",
       "  43: 8,\n",
       "  44: 3,\n",
       "  45: array([[[1., 0.],\n",
       "          [0., 1.]],\n",
       "  \n",
       "         [[0., 0.],\n",
       "          [1., 0.]],\n",
       "  \n",
       "         [[0., 1.],\n",
       "          [0., 0.]],\n",
       "  \n",
       "         [[0., 1.],\n",
       "          [2., 0.]],\n",
       "  \n",
       "         [[1., 2.],\n",
       "          [0., 1.]],\n",
       "  \n",
       "         [[2., 0.],\n",
       "          [1., 2.]]]),\n",
       "  46: <function memoryview.tobytes()>,\n",
       "  47: b'\\x00\\x00\\x00\\x00\\x00\\x00\\xf0?\\x00\\x00\\x00\\x00\\x00\\x00\\x00\\x00\\x00\\x00\\x00\\x00\\x00\\x00\\x00\\x00\\x00\\x00\\x00\\x00\\x00\\x00\\xf0?\\x00\\x00\\x00\\x00\\x00\\x00\\x00\\x00\\x00\\x00\\x00\\x00\\x00\\x00\\x00\\x00\\x00\\x00\\x00\\x00\\x00\\x00\\xf0?\\x00\\x00\\x00\\x00\\x00\\x00\\x00\\x00\\x00\\x00\\x00\\x00\\x00\\x00\\x00\\x00\\x00\\x00\\x00\\x00\\x00\\x00\\xf0?\\x00\\x00\\x00\\x00\\x00\\x00\\x00\\x00\\x00\\x00\\x00\\x00\\x00\\x00\\x00\\x00\\x00\\x00\\x00\\x00\\x00\\x00\\x00\\x00\\x00\\x00\\x00\\x00\\x00\\x00\\xf0?\\x00\\x00\\x00\\x00\\x00\\x00\\x00@\\x00\\x00\\x00\\x00\\x00\\x00\\x00\\x00\\x00\\x00\\x00\\x00\\x00\\x00\\xf0?\\x00\\x00\\x00\\x00\\x00\\x00\\x00@\\x00\\x00\\x00\\x00\\x00\\x00\\x00\\x00\\x00\\x00\\x00\\x00\\x00\\x00\\xf0?\\x00\\x00\\x00\\x00\\x00\\x00\\x00@\\x00\\x00\\x00\\x00\\x00\\x00\\x00\\x00\\x00\\x00\\x00\\x00\\x00\\x00\\xf0?\\x00\\x00\\x00\\x00\\x00\\x00\\x00@',\n",
       "  48: (32, 16, 8),\n",
       "  49: array([[[1., 0.],\n",
       "          [0., 1.]],\n",
       "  \n",
       "         [[0., 0.],\n",
       "          [1., 0.]],\n",
       "  \n",
       "         [[0., 1.],\n",
       "          [0., 0.]],\n",
       "  \n",
       "         [[0., 1.],\n",
       "          [2., 0.]],\n",
       "  \n",
       "         [[1., 2.],\n",
       "          [0., 1.]],\n",
       "  \n",
       "         [[2., 0.],\n",
       "          [1., 2.]]]),\n",
       "  50: (6, 2, 2),\n",
       "  51: array([[4., 4.],\n",
       "         [4., 4.]]),\n",
       "  52: array([[1., 1.],\n",
       "         [1., 0.],\n",
       "         [0., 1.],\n",
       "         [2., 1.],\n",
       "         [1., 3.],\n",
       "         [3., 2.]]),\n",
       "  53: array([[1., 1.],\n",
       "         [0., 1.],\n",
       "         [1., 0.],\n",
       "         [1., 2.],\n",
       "         [3., 1.],\n",
       "         [2., 3.]]),\n",
       "  54: (6, 2, 2),\n",
       "  55: <function ndarray.item>,\n",
       "  57: 0.0,\n",
       "  58: 0.0,\n",
       "  59: 0.0,\n",
       "  60: 1.0,\n",
       "  61: array([[[1., 0.],\n",
       "          [0., 1.]],\n",
       "  \n",
       "         [[0., 0.],\n",
       "          [1., 0.]],\n",
       "  \n",
       "         [[0., 1.],\n",
       "          [0., 0.]],\n",
       "  \n",
       "         [[0., 1.],\n",
       "          [2., 0.]],\n",
       "  \n",
       "         [[1., 2.],\n",
       "          [0., 1.]],\n",
       "  \n",
       "         [[2., 0.],\n",
       "          [1., 2.]]]),\n",
       "  62: 2.0,\n",
       "  64: 8,\n",
       "  66: 24,\n",
       "  69: 'float64',\n",
       "  70: (),\n",
       "  71: 'float64',\n",
       "  72: array([1, 2, 3, 4]),\n",
       "  73: 1,\n",
       "  74: array([1, 2, 3, 4]),\n",
       "  75: 1,\n",
       "  76: (1, 10),\n",
       "  77: (4,),\n",
       "  78: (1, 10, (4,)),\n",
       "  80: array([[[2, 0, 1],\n",
       "          [1, 2, 3],\n",
       "          [1, 0, 1]],\n",
       "  \n",
       "         [[2, 0, 1],\n",
       "          [1, 2, 3],\n",
       "          [1, 0, 1]],\n",
       "  \n",
       "         [[2, 0, 1],\n",
       "          [1, 2, 3],\n",
       "          [1, 0, 1]]]),\n",
       "  82: array([[[2, 0, 1],\n",
       "          [1, 2, 3],\n",
       "          [1, 0, 1]],\n",
       "  \n",
       "         [[2, 0, 1],\n",
       "          [1, 2, 3],\n",
       "          [1, 0, 1]],\n",
       "  \n",
       "         [[2, 0, 1],\n",
       "          [1, 2, 3],\n",
       "          [1, 0, 1]]]),\n",
       "  83: (3, 3, 3),\n",
       "  84: 3,\n",
       "  85: array([[6, 0, 3],\n",
       "         [3, 6, 9],\n",
       "         [3, 0, 3]]),\n",
       "  86: array([[4, 2, 5],\n",
       "         [4, 2, 5],\n",
       "         [4, 2, 5]]),\n",
       "  87: array([[3, 6, 2],\n",
       "         [3, 6, 2],\n",
       "         [3, 6, 2]]),\n",
       "  89: array([[[2, 0, 1, 1],\n",
       "          [1, 2, 3, 1],\n",
       "          [1, 0, 1, 1]],\n",
       "  \n",
       "         [[2, 0, 1, 1],\n",
       "          [1, 2, 3, 1],\n",
       "          [1, 0, 1, 1]],\n",
       "  \n",
       "         [[2, 0, 1, 1],\n",
       "          [1, 2, 3, 1],\n",
       "          [1, 0, 1, 1]]]),\n",
       "  91: array([[[2, 0, 1, 1],\n",
       "          [1, 2, 3, 1],\n",
       "          [1, 0, 1, 1]],\n",
       "  \n",
       "         [[2, 0, 1, 1],\n",
       "          [1, 2, 3, 1],\n",
       "          [1, 0, 1, 1]]]),\n",
       "  92: (2, 3, 4),\n",
       "  93: 3,\n",
       "  94: array([[4, 0, 2, 2],\n",
       "         [2, 4, 6, 2],\n",
       "         [2, 0, 2, 2]]),\n",
       "  95: array([[4, 0, 2, 2],\n",
       "         [2, 4, 6, 2],\n",
       "         [2, 0, 2, 2]]),\n",
       "  96: array([[4, 2, 5, 3],\n",
       "         [4, 2, 5, 3]]),\n",
       "  97: array([[4, 0, 2, 2],\n",
       "         [2, 4, 6, 2],\n",
       "         [2, 0, 2, 2]]),\n",
       "  98: array([[4, 2, 5, 3],\n",
       "         [4, 2, 5, 3]]),\n",
       "  99: array([[4, 7, 3],\n",
       "         [4, 7, 3]]),\n",
       "  101: array([2, 3, 4]),\n",
       "  102: dtype('int64'),\n",
       "  103: dtype('float64'),\n",
       "  104: dtype('float64'),\n",
       "  113: array([0, 1, 2]),\n",
       "  114: array([0., 1., 2.]),\n",
       "  115: array([3.  , 3.03, 3.06, 3.09, ..., 9.9 , 9.93, 9.96, 9.99]),\n",
       "  116: array([3. , 3.5, 4. , 4.5, 5. , 5.5, 6. , 6.5, 7. , 7.5, 8. , 8.5, 9. , 9.5]),\n",
       "  117: 3.141592653589793,\n",
       "  118: <function numpy.lib.function_base.piecewise(x, condlist, funclist, *args, **kw)>,\n",
       "  119: array([0.  , 0.25, 0.5 , 0.75, 1.  , 1.25, 1.5 , 1.75, 2.  ]),\n",
       "  120: array([0]),\n",
       "  121: array([0.      , 0.222222, 0.444444, 0.666667, 0.888889, 1.111111, 1.333333, 1.555556, 1.777778]),\n",
       "  123: array([0.      , 0.222222, 0.444444, 0.666667, 0.888889, 1.111111, 1.333333, 1.555556, 1.777778]),\n",
       "  124: array([0.      , 0.333333, 0.666667, 1.      , 1.333333, 1.666667]),\n",
       "  125: array([0.      , 0.222222, 0.444444, 0.666667, 0.888889, 1.111111, 1.333333, 1.555556, 1.777778]),\n",
       "  126: array([[0.      , 0.333333, 0.666667],\n",
       "         [1.      , 1.333333, 1.666667]]),\n",
       "  127: array([[0.      , 0.333333, 0.666667],\n",
       "         [1.      , 1.333333, 1.666667]]),\n",
       "  128: array([[0.      , 0.333333, 0.666667],\n",
       "         [1.      , 1.333333, 1.666667]]),\n",
       "  129: array([[0.      , 0.333333, 0.666667],\n",
       "         [1.      , 1.333333, 1.666667]]),\n",
       "  130: array([[                  0, 4599676419421066581, 4604180019048437077],\n",
       "         [4607182418800017408, 4608683618675807573, 4610184818551597738]]),\n",
       "  131: array([[1.415294e+161, 9.166518e-072, 3.886643e+097],\n",
       "         [3.211427e-322, 4.680780e-310, 6.922229e-310]]),\n",
       "  132: array([[1.415294e+161, 9.166518e-072, 3.886643e+097],\n",
       "         [3.211427e-322, 4.680780e-310, 6.922229e-310]]),\n",
       "  133: array([[[1, 1, 1, 1],\n",
       "          [1, 1, 1, 1],\n",
       "          [1, 1, 1, 1]],\n",
       "  \n",
       "         [[1, 1, 1, 1],\n",
       "          [1, 1, 1, 1],\n",
       "          [1, 1, 1, 1]]], dtype=int16),\n",
       "  134: array([[[0, 0, 0, 0],\n",
       "          [0, 0, 0, 0],\n",
       "          [0, 0, 0, 0]],\n",
       "  \n",
       "         [[0, 0, 0, 0],\n",
       "          [0, 0, 0, 0],\n",
       "          [0, 0, 0, 0]]], dtype=int16),\n",
       "  135: array([[[3, 3, 3, 3],\n",
       "          [3, 3, 3, 3],\n",
       "          [3, 3, 3, 3]],\n",
       "  \n",
       "         [[3, 3, 3, 3],\n",
       "          [3, 3, 3, 3],\n",
       "          [3, 3, 3, 3]]], dtype=int16),\n",
       "  137: array([0.      , 0.063467, 0.126933, 0.1904  , ..., 6.092786, 6.156252, 6.219719, 6.283185]),\n",
       "  139: array([0.      , 0.698132, 1.396263, 2.094395, 2.792527, 3.490659, 4.18879 , 4.886922, 5.585054, 6.283185]),\n",
       "  145: [<matplotlib.lines.Line2D at 0x7f6cd0f4cda0>],\n",
       "  146: [<matplotlib.lines.Line2D at 0x7f6cd0eb6080>],\n",
       "  147: [<matplotlib.lines.Line2D at 0x7f6cd0e44f60>],\n",
       "  149: [<matplotlib.lines.Line2D at 0x7f6cd0c38a20>],\n",
       "  150: [<matplotlib.lines.Line2D at 0x7f6cd0ba2128>],\n",
       "  151: [<matplotlib.lines.Line2D at 0x7f6cd0b7d6d8>],\n",
       "  152: [<matplotlib.lines.Line2D at 0x7f6cd0adac88>],\n",
       "  153: [<matplotlib.lines.Line2D at 0x7f6cd0ac4278>],\n",
       "  154: [<matplotlib.lines.Line2D at 0x7f6cd0a1e828>],\n",
       "  157: [<matplotlib.lines.Line2D at 0x7f6cd09fce48>],\n",
       "  158: dict_keys(['builtins', 'sys', '_frozen_importlib', '_imp', '_warnings', '_thread', '_weakref', '_frozen_importlib_external', '_io', 'marshal', 'posix', 'zipimport', 'encodings', 'codecs', '_codecs', 'encodings.aliases', 'encodings.utf_8', '_signal', '__main__', 'encodings.latin_1', 'io', 'abc', '_weakrefset', '_bootlocale', '_locale', 'site', 'os', 'errno', 'stat', '_stat', 'posixpath', 'genericpath', 'os.path', '_collections_abc', '_sitebuiltins', 'sysconfig', '_sysconfigdata_m_linux_x86_64-linux-gnu', 'types', 'functools', '_functools', 'collections', 'operator', '_operator', 'keyword', 'heapq', '_heapq', 'itertools', 'reprlib', '_collections', 'weakref', 'collections.abc', 'importlib', 'importlib._bootstrap', 'importlib._bootstrap_external', 'warnings', 'importlib.util', 'importlib.abc', 'importlib.machinery', 'contextlib', 'backports', 'google', 'mpl_toolkits', 'sphinxcontrib', 'runpy', 'pkgutil', 'ipykernel', 'ipykernel._version', 'ipykernel.connect', '__future__', 'json', 'json.decoder', 're', 'enum', 'sre_compile', '_sre', 'sre_parse', 'sre_constants', 'copyreg', 'json.scanner', '_json', 'json.encoder', 'subprocess', 'time', 'signal', '_posixsubprocess', 'select', 'selectors', 'math', 'threading', 'traceback', 'linecache', 'tokenize', 'token', 'IPython', 'IPython.core', 'IPython.core.getipython', 'IPython.core.release', 'IPython.core.application', 'atexit', 'copy', 'glob', 'fnmatch', 'logging', 'string', '_string', 'shutil', 'zlib', 'bz2', '_compression', '_bz2', 'lzma', '_lzma', 'pwd', 'grp', 'traitlets', 'traitlets.traitlets', 'inspect', 'ast', '_ast', 'dis', 'opcode', '_opcode', 'six', 'struct', '_struct', 'traitlets.utils', 'traitlets.utils.getargspec', 'traitlets.utils.importstring', 'ipython_genutils', 'ipython_genutils._version', 'ipython_genutils.py3compat', 'ipython_genutils.encoding', 'locale', 'platform', 'traitlets.utils.sentinel', 'traitlets.utils.bunch', 'traitlets._version', 'traitlets.config', 'traitlets.config.application', 'decorator', 'traitlets.config.configurable', 'traitlets.config.loader', 'argparse', 'textwrap', 'gettext', 'ipython_genutils.path', 'random', 'hashlib', '_hashlib', '_blake2', '_sha3', 'bisect', '_bisect', '_random', 'ipython_genutils.text', 'ipython_genutils.importstring', 'IPython.core.crashhandler', 'pprint', 'IPython.core.ultratb', 'pydoc', 'urllib', 'urllib.parse', 'IPython.core.debugger', 'bdb', 'IPython.utils', 'IPython.utils.PyColorize', 'IPython.utils.coloransi', 'IPython.utils.ipstruct', 'IPython.utils.colorable', 'pygments', 'pygments.util', 'IPython.utils.py3compat', 'IPython.utils.encoding', 'IPython.core.excolors', 'IPython.testing', 'IPython.testing.skipdoctest', 'pdb', 'cmd', 'code', 'codeop', 'IPython.core.display_trap', 'IPython.utils.openpy', 'IPython.utils.path', 'IPython.utils.process', 'IPython.utils._process_posix', 'pexpect', 'pexpect.exceptions', 'pexpect.utils', 'pexpect.expect', 'pexpect.pty_spawn', 'pty', 'tty', 'termios', 'ptyprocess', 'ptyprocess.ptyprocess', 'fcntl', 'resource', 'ptyprocess.util', 'pexpect.spawnbase', 'pexpect.run', 'IPython.utils._process_common', 'shlex', 'IPython.utils.decorators', 'IPython.utils.data', 'IPython.utils.terminal', 'IPython.utils.sysinfo', 'IPython.utils._sysinfo', 'IPython.core.profiledir', 'IPython.paths', 'tempfile', 'IPython.utils.importstring', 'IPython.terminal', 'IPython.terminal.embed', 'IPython.core.compilerop', 'IPython.core.magic_arguments', 'IPython.core.error', 'IPython.utils.text', 'pathlib', 'ntpath', 'IPython.core.magic', 'getopt', 'IPython.core.oinspect', 'IPython.core.page', 'IPython.core.display', 'binascii', 'mimetypes', 'IPython.lib', 'IPython.lib.security', 'getpass', 'IPython.lib.pretty', 'datetime', '_datetime', 'IPython.utils.signatures', 'IPython.utils.dir2', 'IPython.utils.wildcard', 'pygments.lexers', 'pygments.lexers._mapping', 'pygments.modeline', 'pygments.plugin', 'pygments.lexers.python', 'pygments.lexer', 'pygments.filter', 'pygments.filters', 'pygments.token', 'pygments.regexopt', 'pygments.unistring', 'pygments.formatters', 'pygments.formatters._mapping', 'pygments.formatters.html', 'pygments.formatter', 'pygments.styles', 'IPython.core.inputsplitter', 'IPython.core.inputtransformer', 'IPython.core.splitinput', 'IPython.utils.tokenize2', 'IPython.core.interactiveshell', 'pickleshare', 'pickle', '_compat_pickle', '_pickle', 'IPython.core.prefilter', 'IPython.core.autocall', 'IPython.core.macro', 'IPython.core.alias', 'IPython.core.builtin_trap', 'IPython.core.events', 'backcall', 'backcall.backcall', 'IPython.core.displayhook', 'IPython.core.displaypub', 'IPython.core.extensions', 'IPython.core.formatters', 'IPython.utils.sentinel', 'IPython.core.history', 'sqlite3', 'sqlite3.dbapi2', '_sqlite3', 'IPython.core.logger', 'IPython.core.payload', 'IPython.core.usage', 'IPython.display', 'IPython.lib.display', 'html', 'html.entities', 'IPython.utils.io', 'IPython.utils.capture', 'IPython.utils.strdispatch', 'IPython.core.hooks', 'IPython.utils.syspathcontext', 'IPython.utils.tempdir', 'typing', 'typing.io', 'typing.re', 'IPython.utils.contexts', 'IPython.terminal.interactiveshell', 'prompt_toolkit', 'prompt_toolkit.interface', 'prompt_toolkit.application', 'prompt_toolkit.buffer', 'prompt_toolkit.auto_suggest', 'prompt_toolkit.filters', 'prompt_toolkit.filters.base', 'prompt_toolkit.utils', 'wcwidth', 'wcwidth.wcwidth', 'wcwidth.table_wide', 'wcwidth.table_zero', 'six.moves', 'prompt_toolkit.filters.cli', 'prompt_toolkit.enums', 'prompt_toolkit.key_binding', 'prompt_toolkit.key_binding.vi_state', 'prompt_toolkit.cache', 'prompt_toolkit.filters.types', 'prompt_toolkit.filters.utils', 'prompt_toolkit.clipboard', 'prompt_toolkit.clipboard.base', 'prompt_toolkit.selection', 'prompt_toolkit.clipboard.in_memory', 'prompt_toolkit.completion', 'prompt_toolkit.document', 'prompt_toolkit.history', 'prompt_toolkit.search_state', 'prompt_toolkit.validation', 'prompt_toolkit.buffer_mapping', 'prompt_toolkit.key_binding.bindings', 'prompt_toolkit.key_binding.bindings.basic', 'prompt_toolkit.keys', 'prompt_toolkit.layout', 'prompt_toolkit.layout.containers', 'prompt_toolkit.layout.controls', 'prompt_toolkit.mouse_events', 'prompt_toolkit.token', 'prompt_toolkit.layout.lexers', 'prompt_toolkit.layout.utils', 'prompt_toolkit.layout.processors', 'prompt_toolkit.reactive', 'prompt_toolkit.layout.screen', 'prompt_toolkit.layout.dimension', 'prompt_toolkit.layout.margins', 'prompt_toolkit.renderer', 'prompt_toolkit.layout.mouse_handlers', 'prompt_toolkit.output', 'prompt_toolkit.styles', 'prompt_toolkit.styles.base', 'prompt_toolkit.styles.defaults', 'prompt_toolkit.styles.from_dict', 'prompt_toolkit.styles.utils', 'prompt_toolkit.styles.from_pygments', 'pygments.style', 'pygments.styles.default', 'prompt_toolkit.key_binding.bindings.named_commands', 'prompt_toolkit.key_binding.bindings.completion', 'prompt_toolkit.key_binding.registry', 'prompt_toolkit.key_binding.input_processor', 'prompt_toolkit.key_binding.bindings.emacs', 'prompt_toolkit.key_binding.bindings.scroll', 'prompt_toolkit.key_binding.bindings.vi', 'prompt_toolkit.key_binding.digraphs', 'prompt_toolkit.key_binding.defaults', 'prompt_toolkit.eventloop', 'prompt_toolkit.eventloop.base', 'prompt_toolkit.eventloop.callbacks', 'prompt_toolkit.input', 'prompt_toolkit.terminal', 'prompt_toolkit.terminal.vt100_input', 'prompt_toolkit.shortcuts', 'prompt_toolkit.layout.menus', 'prompt_toolkit.layout.prompt', 'prompt_toolkit.layout.toolbars', 'prompt_toolkit.terminal.vt100_output', 'array', 'prompt_toolkit.key_binding.manager', 'IPython.terminal.debugger', 'IPython.core.completer', 'unicodedata', 'IPython.core.latex_symbols', 'IPython.utils.generics', 'simplegeneric', 'jedi', 'jedi.api', 'parso', 'parso.parser', 'parso.tree', 'parso._compatibility', 'parso.pgen2', 'parso.pgen2.parse', 'parso.python', 'parso.python.tokenize', 'parso.python.token', 'parso.utils', 'parso.grammar', 'parso.pgen2.pgen', 'parso.pgen2.grammar', 'parso.python.diff', 'difflib', 'parso.python.parser', 'parso.python.tree', 'parso.python.prefix', 'parso.cache', 'gc', 'parso.python.errors', 'parso.normalizer', 'parso.python.pep8', 'jedi._compatibility', 'queue', 'jedi.parser_utils', 'jedi.debug', 'colorama', 'colorama.initialise', 'colorama.ansitowin32', 'colorama.ansi', 'colorama.winterm', 'colorama.win32', 'ctypes', '_ctypes', 'ctypes._endian', 'jedi.settings', 'jedi.cache', 'jedi.api.classes', 'jedi.evaluate', 'jedi.evaluate.utils', 'jedi.evaluate.imports', 'jedi.evaluate.sys_path', 'jedi.evaluate.cache', 'jedi.evaluate.base_context', 'jedi.common', 'jedi.common.context', 'jedi.evaluate.helpers', 'jedi.evaluate.compiled', 'jedi.evaluate.compiled.context', 'jedi.evaluate.filters', 'jedi.evaluate.flow_analysis', 'jedi.evaluate.recursion', 'jedi.evaluate.lazy_context', 'jedi.evaluate.compiled.access', 'jedi.evaluate.compiled.getattr_static', 'jedi.evaluate.compiled.fake', 'jedi.common.utils', 'jedi.evaluate.analysis', 'jedi.evaluate.context', 'jedi.evaluate.context.module', 'jedi.evaluate.context.klass', 'jedi.evaluate.context.function', 'jedi.evaluate.docstrings', 'jedi.evaluate.pep0484', 'jedi.evaluate.arguments', 'jedi.evaluate.context.iterable', 'jedi.evaluate.param', 'jedi.evaluate.context.asynchronous', 'jedi.evaluate.parser_cache', 'jedi.evaluate.context.instance', 'jedi.evaluate.syntax_tree', 'jedi.evaluate.finder', 'jedi.api.keywords', 'pydoc_data', 'pydoc_data.topics', 'jedi.api.interpreter', 'jedi.evaluate.compiled.mixed', 'jedi.api.helpers', 'jedi.api.completion', 'jedi.api.environment', 'filecmp', 'distutils', 'distutils.spawn', 'distutils.errors', 'distutils.debug', 'distutils.log', 'jedi.evaluate.compiled.subprocess', 'socket', '_socket', 'jedi.evaluate.compiled.subprocess.functions', 'jedi.api.exceptions', 'jedi.api.project', 'jedi.evaluate.usages', 'IPython.terminal.ptutils', 'IPython.terminal.shortcuts', 'IPython.terminal.magics', 'IPython.lib.clipboard', 'IPython.terminal.pt_inputhooks', 'IPython.terminal.prompts', 'IPython.terminal.ipapp', 'IPython.core.magics', 'IPython.core.magics.auto', 'IPython.core.magics.basic', 'IPython.core.magics.code', 'IPython.core.magics.config', 'IPython.core.magics.display', 'IPython.core.magics.execution', 'timeit', 'cProfile', '_lsprof', 'profile', 'optparse', 'pstats', 'IPython.utils.module_paths', 'imp', 'IPython.utils.timing', 'IPython.core.magics.extension', 'IPython.core.magics.history', 'IPython.core.magics.logging', 'IPython.core.magics.namespace', 'IPython.core.magics.osm', 'IPython.core.magics.pylab', 'IPython.core.pylabtools', 'IPython.core.magics.script', 'IPython.lib.backgroundjobs', 'IPython.core.shellapp', 'IPython.extensions', 'IPython.extensions.storemagic', 'IPython.utils.frame', 'jupyter_client', 'jupyter_client._version', 'jupyter_client.connect', 'zmq', 'zmq.backend', 'zmq.backend.select', 'zmq.backend.cython', 'cython_runtime', 'zmq.backend.cython.constants', '_cython_0_27_3', 'zmq.backend.cython.error', 'zmq.utils', 'zmq.utils.strtypes', 'zmq.backend.cython.message', 'zmq.error', 'zmq.backend.cython.context', 'zmq.backend.cython.socket', 'zmq.backend.cython.utils', 'zmq.backend.cython._poll', 'zmq.backend.cython._version', 'zmq.backend.cython._device', 'zmq.sugar', 'zmq.sugar.constants', 'zmq.utils.constant_names', 'zmq.sugar.context', 'zmq.sugar.attrsettr', 'zmq.sugar.socket', 'zmq.sugar.poll', 'zmq.sugar.frame', 'zmq.sugar.tracker', 'zmq.sugar.version', 'zmq.sugar.stopwatch', 'jupyter_client.localinterfaces', 'jupyter_core', 'jupyter_core.version', 'jupyter_core.paths', 'jupyter_client.launcher', 'traitlets.log', 'jupyter_client.client', 'jupyter_client.channels', 'jupyter_client.channelsabc', 'jupyter_client.clientabc', 'jupyter_client.manager', 'jupyter_client.kernelspec', 'jupyter_client.managerabc', 'jupyter_client.blocking', 'jupyter_client.blocking.client', 'jupyter_client.blocking.channels', 'jupyter_client.multikernelmanager', 'uuid', 'ctypes.util', 'ipykernel.kernelapp', 'tornado', 'tornado.ioloop', 'numbers', 'tornado.concurrent', 'tornado.log', 'logging.handlers', 'tornado.escape', 'tornado.util', 'curses', '_curses', 'tornado.stack_context', 'concurrent', 'concurrent.futures', 'concurrent.futures._base', 'concurrent.futures.process', 'multiprocessing', 'multiprocessing.context', 'multiprocessing.process', 'multiprocessing.reduction', '__mp_main__', 'multiprocessing.connection', '_multiprocessing', 'multiprocessing.util', 'concurrent.futures.thread', 'asyncio', 'asyncio.base_events', 'asyncio.compat', 'asyncio.coroutines', 'asyncio.constants', 'asyncio.events', 'asyncio.base_futures', 'asyncio.log', 'asyncio.futures', 'asyncio.base_tasks', '_asyncio', 'asyncio.tasks', 'asyncio.locks', 'asyncio.protocols', 'asyncio.queues', 'asyncio.streams', 'asyncio.subprocess', 'asyncio.transports', 'asyncio.unix_events', 'asyncio.base_subprocess', 'asyncio.selector_events', 'ssl', 'ipaddress', '_ssl', 'base64', 'asyncio.sslproto', 'tornado.platform', 'tornado.platform.auto', 'tornado.platform.posix', 'tornado.platform.common', 'tornado.platform.interface', 'zmq.eventloop', 'zmq.eventloop.ioloop', 'tornado.platform.asyncio', 'tornado.gen', 'zmq.eventloop.zmqstream', 'zmq.utils.jsonapi', 'ipykernel.iostream', 'jupyter_client.session', 'hmac', 'jupyter_client.jsonutil', 'dateutil', 'dateutil._version', 'dateutil.parser', 'dateutil.parser._parser', 'calendar', 'decimal', '_decimal', 'dateutil.relativedelta', 'dateutil._common', 'dateutil.tz', 'dateutil.tz.tz', 'dateutil.tz._common', 'dateutil.tz._factories', 'dateutil.parser.isoparser', '_strptime', 'jupyter_client.adapter', 'ipykernel.heartbeat', 'ipykernel.ipkernel', 'IPython.utils.tokenutil', 'ipykernel.comm', 'ipykernel.comm.manager', 'ipykernel.comm.comm', 'ipykernel.kernelbase', 'ipykernel.jsonutil', 'ipykernel.zmqshell', 'IPython.core.payloadpage', 'ipykernel.displayhook', 'ipykernel.parentpoller', 'faulthandler', 'ipykernel.datapub', 'ipykernel.serialize', 'ipykernel.pickleutil', 'ipyparallel', 'ipyparallel._version', 'ipyparallel.serialize', 'ipyparallel.serialize.canning', 'ipyparallel.serialize.codeutil', 'ipyparallel.serialize.serialize', 'ipyparallel.client', 'ipyparallel.client.asyncresult', 'ipyparallel.error', 'ipyparallel.util', 'zmq.log', 'zmq.log.handlers', 'distutils.version', 'ipyparallel.client.futures', 'ipyparallel.client.client', 'ipyparallel.client.view', 'ipyparallel.controller', 'ipyparallel.controller.dependency', 'ipyparallel.client.map', 'ipyparallel.client.remotefunction', 'IPython.core.completerlib', 'storemagic', 'ipywidgets', 'ipywidgets._version', 'ipywidgets.widgets', 'ipywidgets.widgets.widget', 'ipywidgets.widgets.domwidget', 'ipywidgets.widgets.trait_types', 'ipywidgets.widgets.widget_layout', 'ipywidgets.widgets.widget_style', 'ipywidgets.widgets.valuewidget', 'ipywidgets.widgets.widget_core', 'ipywidgets.widgets.widget_bool', 'ipywidgets.widgets.widget_description', 'ipywidgets.widgets.widget_button', 'ipywidgets.widgets.widget_box', 'ipywidgets.widgets.docutils', 'ipywidgets.widgets.widget_float', 'ipywidgets.widgets.widget_int', 'ipywidgets.widgets.widget_image', 'ipywidgets.widgets.widget_color', 'ipywidgets.widgets.widget_date', 'ipywidgets.widgets.widget_output', 'ipywidgets.widgets.widget_selection', 'ipywidgets.widgets.widget_selectioncontainer', 'ipywidgets.widgets.widget_string', 'ipywidgets.widgets.widget_controller', 'ipywidgets.widgets.interaction', 'ipywidgets.widgets.widget_link', 'numpy', 'numpy._globals', 'numpy.__config__', 'numpy.version', 'numpy._import_tools', 'numpy.add_newdocs', 'numpy.lib', 'numpy.lib.info', 'numpy.lib.type_check', 'numpy.core', 'numpy.core.info', 'numpy.core.multiarray', 'numpy.core.umath', 'numpy.core._internal', 'numpy.compat', 'numpy.compat._inspect', 'numpy.compat.py3k', 'numpy.core.numerictypes', 'numpy.core.numeric', 'numpy.core.fromnumeric', 'numpy.core._methods', 'numpy.core.arrayprint', 'numpy.core.defchararray', 'numpy.core.records', 'numpy.core.memmap', 'numpy.core.function_base', 'numpy.core.machar', 'numpy.core.getlimits', 'numpy.core.shape_base', 'numpy.core.einsumfunc', 'numpy.testing', 'unittest', 'unittest.result', 'unittest.util', 'unittest.case', 'unittest.suite', 'unittest.loader', 'unittest.main', 'unittest.runner', 'unittest.signals', 'numpy.testing._private', 'numpy.testing._private.utils', 'numpy.lib.utils', 'numpy.testing._private.decorators', 'numpy.testing._private.nosetester', 'numpy.testing._private.pytesttester', 'numpy.lib.ufunclike', 'numpy.lib.index_tricks', 'numpy.lib.function_base', 'numpy.lib.twodim_base', 'numpy.lib.histograms', 'numpy.matrixlib', 'numpy.matrixlib.defmatrix', 'numpy.linalg', 'numpy.linalg.info', 'numpy.linalg.linalg', 'numpy.linalg.lapack_lite', 'numpy.linalg._umath_linalg', 'numpy.lib.stride_tricks', 'numpy.lib.mixins', 'numpy.lib.nanfunctions', 'numpy.lib.shape_base', 'numpy.lib.scimath', 'numpy.lib.polynomial', 'numpy.lib.arraysetops', 'numpy.lib.npyio', 'numpy.lib.format', 'numpy.lib._datasource', 'numpy.lib._iotools', 'numpy.lib.financial', 'numpy.lib.arrayterator', 'numpy.lib.arraypad', 'numpy.lib._version', 'numpy.core._multiarray_tests', 'numpy._distributor_init', 'numpy._mklinit', 'numpy.fft', 'numpy.fft.info', 'numpy.fft.fftpack', 'numpy.fft.fftpack_lite', 'numpy.fft.helper', 'mkl_fft', '_cython_0_28_5', 'mkl_fft._pydfti', 'mkl_fft._version', 'mkl_fft._numpy_fft', 'numpy.polynomial', 'numpy.polynomial.polynomial', 'numpy.polynomial.polyutils', 'numpy.polynomial._polybase', 'numpy.polynomial.chebyshev', 'numpy.polynomial.legendre', 'numpy.polynomial.hermite', 'numpy.polynomial.hermite_e', 'numpy.polynomial.laguerre', 'numpy.random', 'numpy.random.info', 'numpy.random.mtrand', 'mtrand', 'numpy.ctypeslib', 'numpy.ma', 'numpy.ma.core', 'numpy.ma.extras', 'fastai', 'fastai.version', 'fastai.core', 'fastai.imports', 'fastai.imports.core', 'csv', '_csv', 'gzip', 'yaml', 'yaml.error', 'yaml.tokens', 'yaml.events', 'yaml.nodes', 'yaml.loader', 'yaml.reader', 'yaml.scanner', 'yaml.parser', 'yaml.composer', 'yaml.constructor', 'yaml.resolver', 'yaml.dumper', 'yaml.emitter', 'yaml.serializer', 'yaml.representer', 'yaml.cyaml', '_yaml', 'matplotlib', 'urllib.request', 'email', 'http', 'http.client', 'email.parser', 'email.feedparser', 'email.errors', 'email._policybase', 'email.header', 'email.quoprimime', 'email.base64mime', 'email.charset', 'email.encoders', 'quopri', 'email.utils', 'email._parseaddr', 'email.message', 'uu', 'email._encoded_words', 'email.iterators', 'urllib.error', 'urllib.response', 'matplotlib.cbook', 'matplotlib.cbook.deprecation', 'matplotlib.rcsetup', 'matplotlib.fontconfig_pattern', 'pyparsing', 'matplotlib.colors', 'matplotlib._color_data', 'cycler', 'matplotlib._version', 'matplotlib.pyplot', 'matplotlib.colorbar', 'matplotlib.artist', 'matplotlib.docstring', 'matplotlib.path', 'matplotlib._path', 'matplotlib.transforms', 'matplotlib.collections', 'matplotlib.cm', 'matplotlib._cm', 'matplotlib._cm_listed', 'matplotlib.lines', 'matplotlib.markers', 'matplotlib.contour', 'matplotlib._contour', 'matplotlib.ticker', 'matplotlib.font_manager', 'matplotlib.afm', 'matplotlib._mathtext_data', 'matplotlib.ft2font', 'matplotlib.text', 'matplotlib.patches', 'matplotlib.bezier', 'matplotlib.textpath', 'matplotlib.dviread', 'matplotlib.mathtext', 'matplotlib._png', 'matplotlib.texmanager', 'matplotlib.blocking_input', 'matplotlib.gridspec', 'matplotlib._pylab_helpers', 'matplotlib.tight_layout', 'matplotlib._layoutbox', 'kiwisolver', 'matplotlib._constrained_layout', 'matplotlib.legend', 'matplotlib.offsetbox', 'matplotlib.image', 'matplotlib.backend_bases', 'matplotlib.backend_tools', 'matplotlib.tight_bbox', 'matplotlib.widgets', 'PIL', 'PIL._version', 'PIL.Image', 'PIL._util', 'PIL.ImageMode', 'PIL._binary', 'PIL._imaging', 'cffi', 'cffi.api', 'cffi.lock', 'cffi.error', 'cffi.model', 'matplotlib._image', 'matplotlib.container', 'matplotlib.legend_handler', 'matplotlib.style', 'matplotlib.style.core', 'matplotlib.figure', 'matplotlib.backends', 'matplotlib.axes', 'matplotlib.axes._subplots', 'matplotlib.axes._axes', 'matplotlib.category', 'matplotlib.units', 'matplotlib.dates', 'dateutil.rrule', 'matplotlib.mlab', 'matplotlib.quiver', 'matplotlib.stackplot', 'matplotlib.streamplot', 'matplotlib.table', 'matplotlib.tri', 'matplotlib.tri.triangulation', 'matplotlib._tri', 'matplotlib._qhull', 'matplotlib.tri.tricontour', 'matplotlib.tri.tritools', 'matplotlib.tri.trifinder', 'matplotlib.tri.triinterpolate', 'matplotlib.tri.trirefine', 'matplotlib.tri.tripcolor', 'matplotlib.tri.triplot', 'matplotlib.axes._base', 'matplotlib.axis', 'matplotlib.scale', 'matplotlib.spines', 'matplotlib.projections', 'matplotlib.projections.geo', 'matplotlib.projections.polar', 'ipykernel.pylab', 'ipykernel.pylab.backend_inline', 'matplotlib.backends.backend_agg', 'matplotlib.backends._backend_agg', 'ipykernel.pylab.config', 'pandas', 'pytz', 'pytz.exceptions', 'pytz.lazy', 'pytz.tzinfo', 'pytz.tzfile', 'pandas.compat', 'pandas.compat.chainmap', 'pandas.compat.numpy', 'pandas._libs', 'pandas._libs.tslibs', 'pandas._libs.tslibs.conversion', '_cython_0_28_2', 'pandas._libs.tslibs.nattype', 'pandas._libs.tslibs.np_datetime', 'pandas._libs.tslibs.timedeltas', 'pandas._libs.tslibs.offsets', 'pandas._libs.tslibs.ccalendar', 'pandas._libs.tslibs.strptime', 'pandas._libs.tslibs.timezones', 'pandas._libs.tslibs.parsing', 'pandas._libs.tslibs.period', 'pandas._libs.tslibs.frequencies', 'pandas._libs.tslibs.timestamps', 'pandas._libs.tslibs.fields', 'pandas._libs.tslibs.resolution', 'pandas._libs.hashtable', 'pandas._libs.missing', 'pandas._libs.lib', 'fractions', 'pandas._libs.tslib', 'pandas.core', 'pandas.core.config_init', 'pandas.core.config', 'pandas.io', 'pandas.io.formats', 'pandas.io.formats.printing', 'pandas.core.dtypes', 'pandas.core.dtypes.inference', 'pandas.io.formats.console', 'pandas.io.formats.terminal', 'pandas.core.api', 'pandas.core.arrays', 'pandas.core.arrays.array_', 'pandas.core.dtypes.common', 'pandas._libs.algos', 'pandas.core.dtypes.dtypes', 'pandas._libs.interval', 'pandas.core.dtypes.generic', 'pandas.core.dtypes.base', 'pandas.errors', 'pandas.core.arrays.base', 'pandas.compat.numpy.function', 'pandas.util', 'pandas.util._decorators', 'pandas._libs.properties', 'pandas.core.util', 'pandas.core.util.hashing', 'pandas._libs.hashing', 'pandas.core.dtypes.cast', 'pandas.core.dtypes.missing', 'pandas.util._validators', 'pandas.core.ops', 'pandas._libs.ops', 'pandas.core.common', 'pandas.core.missing', 'pandas.core.arrays.categorical', 'pandas.core.accessor', 'pandas.core.algorithms', 'pandas.core.base', 'pandas.core.nanops', 'bottleneck', 'bottleneck.reduce', 'bottleneck.nonreduce', 'bottleneck.nonreduce_axis', 'bottleneck.move', 'bottleneck.slow', 'bottleneck.slow.reduce', 'bottleneck.slow.nonreduce', 'bottleneck.slow.nonreduce_axis', 'bottleneck.slow.move', 'bottleneck.version', 'bottleneck.benchmark', 'bottleneck.benchmark.bench', 'bottleneck.benchmark.autotimeit', 'bottleneck.benchmark.bench_detailed', 'bottleneck.tests', 'bottleneck.tests.util', 'pandas.tseries', 'pandas.tseries.offsets', 'dateutil.easter', 'pandas.core.tools', 'pandas.core.tools.datetimes', 'pandas.core.sorting', 'pandas.core.arrays.datetimes', 'pandas.core.arrays.datetimelike', 'pandas.tseries.frequencies', 'pandas.core.arrays._ranges', 'pandas.core.arrays.interval', 'pandas.util._doctools', 'pandas.core.indexes', 'pandas.core.indexes.base', 'pandas._libs.index', 'pandas._libs.join', 'pandas.core.dtypes.concat', 'pandas.core.indexes.frozen', 'pandas.core.strings', 'pandas.core.arrays.period', 'pandas.core.arrays.timedeltas', 'pandas.core.arrays.integer', 'pandas.core.tools.numeric', 'pandas.core.arrays.sparse', 'pandas._libs.sparse', 'pandas.core.arrays.numpy_', 'pandas.core.groupby', 'pandas.core.groupby.groupby', 'pandas._libs.groupby', 'pandas.core.frame', 'pandas.core.generic', 'pandas.core.index', 'pandas.core.indexes.api', 'pandas.core.indexes.category', 'pandas.core.indexes.datetimes', 'pandas.core.indexes.datetimelike', 'pandas.core.tools.timedeltas', 'pandas.core.indexes.numeric', 'pandas.core.indexes.interval', 'pandas.util._exceptions', 'pandas.core.indexes.multi', 'pandas.core.indexes.timedeltas', 'pandas.core.indexes.period', 'pandas.core.indexes.range', 'pandas.core.indexing', 'pandas._libs.indexing', 'pandas.core.internals', 'pandas.core.internals.blocks', 'pandas._libs.internals', 'pandas.core.internals.arrays', 'pandas.core.internals.managers', 'pandas.core.internals.concat', 'pandas.io.formats.format', 'pandas.io.common', 'mmap', 'zipfile', 'pandas.core.internals.construction', 'pandas.core.series', 'pandas.core.indexes.accessors', 'pandas.plotting', 'pandas.plotting._misc', 'pandas.plotting._style', 'pandas.plotting._tools', 'pandas.plotting._core', 'pandas.plotting._compat', 'pandas.plotting._converter', 'pandas.core.window', 'pandas._libs.window', 'pandas._libs.skiplist', 'pandas.core.groupby.base', 'pandas.core.groupby.generic', 'pandas.core.panel', 'pandas.core.reshape', 'pandas.core.reshape.util', 'pandas.core.groupby.grouper', 'pandas.core.groupby.ops', 'pandas._libs.reduction', 'pandas.core.reshape.reshape', 'pandas._libs.reshape', 'pandas.core.sparse', 'pandas.core.sparse.api', 'pandas.core.sparse.frame', 'pandas.core.sparse.series', 'pandas.core.sparse.scipy_sparse', 'pandas.tseries.api', 'pandas.core.computation', 'pandas.core.computation.api', 'pandas.core.computation.eval', 'pandas.core.computation.engines', 'pandas.core.computation.align', 'pandas.core.computation.common', 'pandas.core.computation.ops', 'pandas.core.computation.scope', 'pandas.core.reshape.api', 'pandas.core.reshape.concat', 'pandas.core.reshape.melt', 'pandas.core.reshape.merge', 'pandas.core.reshape.pivot', 'pandas.core.reshape.tile', 'pandas.util._print_versions', 'pandas.io.api', 'pandas.io.clipboards', 'pandas.io.excel', 'pandas._libs.json', 'pandas.io.parsers', 'pandas._libs.parsers', 'pandas.io.date_converters', 'pandas.io.feather_format', 'pandas.io.gbq', 'pandas.io.html', 'pandas.io.json', 'pandas.io.json.json', 'pandas.io.json.normalize', 'pandas._libs.writers', 'pandas.io.json.table_schema', 'pandas.api', 'pandas.api.types', 'pandas.core.dtypes.api', 'pandas.api.extensions', 'pandas.io.packers', 'pandas.util._move', 'pandas.io.msgpack', 'pandas.io.msgpack.exceptions', 'pandas.io.msgpack._version', 'pandas.io.msgpack._packer', 'pandas.io.msgpack._unpacker', 'pandas.io.parquet', 'pandas.io.pickle', 'pandas.compat.pickle_compat', 'pandas.io.pytables', 'pandas.core.computation.pytables', 'pandas.core.computation.expr', 'pandas.io.sas', 'pandas.io.sas.sasreader', 'pandas.io.sql', 'pandas.io.stata', 'pandas.util._tester', 'pandas.testing', 'pandas.util.testing', 'pandas._libs.testing', 'pandas.arrays', 'pandas._version', 'scipy', 'scipy._distributor_init', 'scipy.__config__', 'scipy.version', 'scipy._lib', 'scipy._lib._testutils', 'scipy._lib._version', 'scipy._lib.six', 'scipy._lib._ccallback', 'scipy._lib._ccallback_c', 'scipy.stats', 'scipy.stats.stats', 'scipy.special', 'scipy.special.sf_error', 'scipy.special._ufuncs', 'scipy.special._ufuncs_cxx', 'scipy.special.basic', 'scipy.special.specfun', 'scipy.special.orthogonal', 'scipy.linalg', 'scipy.linalg.linalg_version', 'scipy.linalg.misc', 'scipy.linalg.blas', 'scipy.linalg._fblas', 'scipy.linalg.lapack', 'scipy.linalg._flapack', 'scipy._lib._util', 'scipy.linalg.basic', 'scipy.linalg.flinalg', 'scipy.linalg._flinalg', 'scipy.linalg.decomp', 'scipy.linalg.decomp_svd', 'scipy.linalg._solve_toeplitz', 'scipy.linalg.decomp_lu', 'scipy.linalg._decomp_ldl', 'scipy.linalg.decomp_cholesky', 'scipy.linalg.decomp_qr', 'scipy.linalg._decomp_qz', 'scipy.linalg.decomp_schur', 'scipy.linalg._decomp_polar', 'scipy.linalg.matfuncs', 'scipy.linalg.special_matrices', 'scipy.linalg._expm_frechet', 'scipy.linalg._matfuncs_sqrtm', 'scipy.linalg._solvers', 'scipy.linalg._procrustes', 'scipy.linalg._decomp_update', 'scipy.linalg.cython_blas', 'scipy.linalg.cython_lapack', 'scipy.linalg._sketches', 'numpy.dual', 'scipy.special._comb', 'scipy.special._logsumexp', 'scipy.special.spfun_stats', 'scipy.special._ellip_harm', 'scipy.special._ellip_harm_2', 'scipy.special.lambertw', 'scipy.special._spherical_bessel', 'scipy.stats.distributions', 'scipy.stats._distn_infrastructure', 'scipy.misc', 'scipy.misc.doccer', 'scipy.misc.common', 'scipy.interpolate', 'scipy.interpolate.interpolate', 'scipy.interpolate.fitpack', 'scipy.interpolate._fitpack_impl', 'scipy.interpolate._fitpack', 'scipy.interpolate.dfitpack', 'scipy.interpolate._bsplines', 'scipy.interpolate._bspl', 'scipy.interpolate.polyint', 'scipy.interpolate._ppoly', 'scipy.interpolate.fitpack2', 'scipy.interpolate.interpnd', 'scipy.spatial', 'scipy.spatial.kdtree', 'scipy.sparse', 'scipy.sparse.base', 'scipy._lib._numpy_compat', 'scipy.sparse.sputils', 'scipy.sparse.csr', 'scipy.sparse._sparsetools', 'scipy.sparse.compressed', 'scipy.sparse.data', 'scipy.sparse.dia', 'scipy.sparse.csc', 'scipy.sparse.lil', 'scipy.sparse._csparsetools', 'scipy.sparse.dok', 'scipy.sparse.coo', 'scipy.sparse.bsr', 'scipy.sparse.construct', 'scipy.sparse.extract', 'scipy.sparse._matrix_io', 'scipy.sparse.csgraph', 'scipy.sparse.csgraph._laplacian', 'scipy.sparse.csgraph._shortest_path', 'scipy.sparse.csgraph._validation', 'scipy.sparse.csgraph._tools', 'scipy.sparse.csgraph._traversal', 'scipy.sparse.csgraph._min_spanning_tree', 'scipy.sparse.csgraph._reordering', 'scipy.spatial.ckdtree', 'scipy.spatial.qhull', 'scipy._lib.messagestream', 'scipy.spatial._spherical_voronoi', 'numpy.matlib', 'scipy.spatial._voronoi', 'scipy.spatial.distance', 'scipy.spatial._distance_wrap', 'scipy.spatial._hausdorff', 'scipy.spatial._plotutils', 'scipy._lib.decorator', 'scipy.spatial._procrustes', 'scipy.interpolate.rbf', 'scipy.interpolate._cubic', 'scipy.interpolate.ndgriddata', 'scipy.interpolate._pade', 'scipy.misc.pilutil', 'PIL.ImageFilter', 'scipy.stats._distr_params', 'scipy.optimize', 'scipy.optimize.optimize', 'scipy.optimize.linesearch', 'scipy.optimize.minpack2', 'scipy.optimize._minimize', 'scipy.sparse.linalg', 'scipy.sparse.linalg.isolve', 'scipy.sparse.linalg.isolve.iterative', 'scipy.sparse.linalg.isolve._iterative', 'scipy.sparse.linalg.interface', 'scipy.sparse.linalg.isolve.utils', 'scipy._lib._threadsafety', 'scipy.sparse.linalg.isolve.minres', 'scipy.sparse.linalg.isolve.lgmres', 'scipy.sparse.linalg.isolve._gcrotmk', 'scipy.sparse.linalg.isolve.lsqr', 'scipy.sparse.linalg.isolve.lsmr', 'scipy.sparse.linalg.dsolve', 'scipy.sparse.linalg.dsolve.linsolve', 'scipy.sparse.linalg.dsolve._superlu', 'scipy.sparse.linalg.dsolve._add_newdocs', 'scipy.sparse.linalg.eigen', 'scipy.sparse.linalg.eigen.arpack', 'scipy.sparse.linalg.eigen.arpack.arpack', 'scipy.sparse.linalg.eigen.arpack._arpack', 'scipy.sparse.linalg.eigen.lobpcg', 'scipy.sparse.linalg.eigen.lobpcg.lobpcg', 'scipy.sparse.linalg.matfuncs', 'scipy.sparse.linalg._onenormest', 'scipy.sparse.linalg._norm', 'scipy.sparse.linalg._expm_multiply', 'scipy.optimize._trustregion_dogleg', 'scipy.optimize._trustregion', 'scipy.optimize._trustregion_ncg', 'scipy.optimize._trustregion_krylov', 'scipy.optimize._trlib', 'scipy.optimize._trlib._trlib', 'scipy.optimize._trustregion_exact', 'scipy.optimize._trustregion_constr', 'scipy.optimize._trustregion_constr.minimize_trustregion_constr', 'scipy.optimize._differentiable_functions', 'scipy.optimize._numdiff', 'scipy.optimize._group_columns', 'scipy.optimize._hessian_update_strategy', 'scipy.optimize._constraints', 'scipy.optimize._trustregion_constr.equality_constrained_sqp', 'scipy.optimize._trustregion_constr.projections', 'scipy.optimize._trustregion_constr.qp_subproblem', 'scipy.optimize._trustregion_constr.canonical_constraint', 'scipy.optimize._trustregion_constr.tr_interior_point', 'scipy.optimize._trustregion_constr.report', 'scipy.optimize.lbfgsb', 'scipy.optimize._lbfgsb', 'scipy.optimize.tnc', 'scipy.optimize.moduleTNC', 'scipy.optimize.cobyla', 'scipy.optimize._cobyla', 'scipy.optimize.slsqp', 'scipy.optimize._slsqp', 'scipy.optimize._root', 'scipy.optimize.minpack', 'scipy.optimize._minpack', 'scipy.optimize._lsq', 'scipy.optimize._lsq.least_squares', 'scipy.optimize._lsq.trf', 'scipy.optimize._lsq.common', 'scipy.optimize._lsq.dogbox', 'scipy.optimize._lsq.lsq_linear', 'scipy.optimize._lsq.trf_linear', 'scipy.optimize._lsq.givens_elimination', 'scipy.optimize._lsq.bvls', 'scipy.optimize._spectral', 'scipy.optimize.nonlin', 'scipy.optimize.zeros', 'scipy.optimize._zeros', 'scipy.optimize.nnls', 'scipy.optimize._nnls', 'scipy.optimize._basinhopping', 'scipy.optimize._linprog', 'scipy.optimize._linprog_ip', 'scipy.optimize._remove_redundancy', 'scipy.optimize._hungarian', 'scipy.optimize._differentialevolution', 'scipy.integrate', 'scipy.integrate.quadrature', 'scipy.integrate.odepack', 'scipy.integrate._odepack', 'scipy.integrate.quadpack', 'scipy.integrate._quadpack', 'scipy.integrate._ode', 'scipy.integrate.vode', 'scipy.integrate._dop', 'scipy.integrate.lsoda', 'scipy.integrate._bvp', 'scipy.integrate._ivp', 'scipy.integrate._ivp.ivp', 'scipy.integrate._ivp.bdf', 'scipy.integrate._ivp.common', 'scipy.integrate._ivp.base', 'scipy.integrate._ivp.radau', 'scipy.integrate._ivp.rk', 'scipy.integrate._ivp.lsoda', 'scipy.stats._constants', 'scipy.stats._continuous_distns', 'scipy.stats._stats', 'scipy.stats._tukeylambda_stats', 'scipy.stats._discrete_distns', 'scipy.stats.mstats_basic', 'scipy.stats._stats_mstats_common', 'scipy.stats.morestats', 'scipy.stats.statlib', 'scipy.stats.contingency', 'scipy.stats._binned_statistic', 'scipy.stats.kde', 'scipy.stats.mvn', 'scipy.stats.mstats', 'scipy.stats.mstats_extras', 'scipy.stats._multivariate', 'requests', 'urllib3', 'urllib3.connectionpool', 'urllib3.exceptions', 'urllib3.packages', 'urllib3.packages.ssl_match_hostname', 'urllib3.packages.six', 'urllib3.packages.six.moves', 'urllib3.packages.six.moves.http_client', 'urllib3.connection', 'urllib3.util', 'urllib3.util.connection', 'urllib3.util.wait', 'urllib3.util.selectors', 'urllib3.util.request', 'urllib3.util.response', 'urllib3.util.ssl_', 'urllib3.util.timeout', 'urllib3.util.retry', 'urllib3.util.url', 'urllib3._collections', 'urllib3.request', 'urllib3.filepost', 'urllib3.fields', 'urllib3.packages.six.moves.urllib', 'urllib3.packages.six.moves.urllib.parse', 'urllib3.response', 'urllib3.poolmanager', 'chardet', 'chardet.compat', 'chardet.universaldetector', 'chardet.charsetgroupprober', 'chardet.enums', 'chardet.charsetprober', 'chardet.escprober', 'chardet.codingstatemachine', 'chardet.escsm', 'chardet.latin1prober', 'chardet.mbcsgroupprober', 'chardet.utf8prober', 'chardet.mbcssm', 'chardet.sjisprober', 'chardet.mbcharsetprober', 'chardet.chardistribution', 'chardet.euctwfreq', 'chardet.euckrfreq', 'chardet.gb2312freq', 'chardet.big5freq', 'chardet.jisfreq', 'chardet.jpcntx', 'chardet.eucjpprober', 'chardet.gb2312prober', 'chardet.euckrprober', 'chardet.cp949prober', 'chardet.big5prober', 'chardet.euctwprober', 'chardet.sbcsgroupprober', 'chardet.sbcharsetprober', 'chardet.langcyrillicmodel', 'chardet.langgreekmodel', 'chardet.langbulgarianmodel', 'chardet.langthaimodel', 'chardet.langhebrewmodel', 'chardet.hebrewprober', 'chardet.langturkishmodel', 'chardet.version', 'requests.exceptions', 'urllib3.contrib', 'urllib3.contrib.pyopenssl', 'OpenSSL', 'OpenSSL.crypto', 'cryptography', 'cryptography.__about__', 'cryptography.x509', 'cryptography.x509.certificate_transparency', 'cryptography.x509.base', 'cryptography.utils', 'cryptography.hazmat', 'cryptography.hazmat.primitives', 'cryptography.hazmat.primitives.asymmetric', 'cryptography.hazmat.primitives.asymmetric.dsa', 'cryptography.hazmat.primitives.asymmetric.ec', 'cryptography.hazmat._oid', 'cryptography.hazmat.primitives.asymmetric.rsa', 'cryptography.exceptions', 'cryptography.hazmat.backends', 'cryptography.hazmat.backends.interfaces', 'cryptography.x509.extensions', 'asn1crypto', 'asn1crypto.version', 'asn1crypto.keys', 'asn1crypto._elliptic_curve', 'asn1crypto._int', 'asn1crypto.util', 'asn1crypto._errors', 'asn1crypto._iri', 'encodings.idna', 'stringprep', 'asn1crypto._types', 'asn1crypto._ordereddict', 'asn1crypto._ffi', 'asn1crypto._perf', 'asn1crypto._perf._big_num_ctypes', 'asn1crypto.algos', 'asn1crypto.core', 'asn1crypto._teletex_codec', 'asn1crypto.parser', 'cryptography.hazmat.primitives.constant_time', 'cryptography.hazmat.bindings', '_cffi_backend', '_constant_time.lib', '_constant_time', 'cryptography.hazmat.bindings._constant_time', 'cryptography.hazmat.primitives.serialization', 'cryptography.hazmat.primitives.serialization.base', 'cryptography.hazmat.primitives.serialization.ssh', 'cryptography.hazmat.primitives.asymmetric.ed25519', 'cryptography.x509.general_name', 'cryptography.x509.name', 'cryptography.x509.oid', 'cryptography.hazmat.primitives.hashes', 'OpenSSL._util', 'cryptography.hazmat.bindings.openssl', 'cryptography.hazmat.bindings.openssl.binding', '_openssl.lib', '_openssl', 'cryptography.hazmat.bindings._openssl', 'cryptography.hazmat.bindings.openssl._conditional', 'OpenSSL.SSL', 'OpenSSL.version', 'cryptography.hazmat.backends.openssl', 'cryptography.hazmat.backends.openssl.backend', 'cryptography.hazmat.backends.openssl.aead', 'cryptography.hazmat.backends.openssl.ciphers', 'cryptography.hazmat.primitives.ciphers', 'cryptography.hazmat.primitives.ciphers.base', 'cryptography.hazmat.primitives.ciphers.modes', 'cryptography.hazmat.backends.openssl.cmac', 'cryptography.hazmat.primitives.mac', 'cryptography.hazmat.backends.openssl.decode_asn1', 'cryptography.hazmat.backends.openssl.dh', 'cryptography.hazmat.primitives.asymmetric.dh', 'cryptography.hazmat.backends.openssl.dsa', 'cryptography.hazmat.backends.openssl.utils', 'cryptography.hazmat.primitives.asymmetric.utils', 'cryptography.hazmat.backends.openssl.ec', 'cryptography.hazmat.backends.openssl.ed25519', 'cryptography.hazmat.backends.openssl.ed448', 'cryptography.hazmat.primitives.asymmetric.ed448', 'cryptography.hazmat.backends.openssl.encode_asn1', 'cryptography.hazmat.backends.openssl.hashes', 'cryptography.hazmat.backends.openssl.hmac', 'cryptography.hazmat.backends.openssl.ocsp', 'cryptography.hazmat.backends.openssl.x509', 'cryptography.x509.ocsp', 'cryptography.hazmat.backends.openssl.rsa', 'cryptography.hazmat.primitives.asymmetric.padding', 'cryptography.hazmat.backends.openssl.x25519', 'cryptography.hazmat.primitives.asymmetric.x25519', 'cryptography.hazmat.backends.openssl.x448', 'cryptography.hazmat.primitives.asymmetric.x448', 'cryptography.hazmat.primitives.ciphers.algorithms', 'cryptography.hazmat.primitives.kdf', 'cryptography.hazmat.primitives.kdf.scrypt', 'urllib3.packages.backports', 'urllib3.packages.backports.makefile', 'requests.__version__', 'requests.utils', 'cgi', 'requests.certs', 'certifi', 'certifi.core', 'requests._internal_utils', 'requests.compat', 'http.cookiejar', 'http.cookies', 'requests.cookies', 'requests.structures', 'requests.packages', 'requests.packages.urllib3', 'requests.packages.urllib3.connectionpool', 'requests.packages.urllib3.exceptions', 'requests.packages.urllib3.packages', 'requests.packages.urllib3.packages.ssl_match_hostname', 'requests.packages.urllib3.packages.six', 'requests.packages.urllib3.packages.six.moves', 'requests.packages.urllib3.packages.six.moves.http_client', 'requests.packages.urllib3.connection', 'requests.packages.urllib3.util', 'requests.packages.urllib3.util.connection', 'requests.packages.urllib3.util.wait', 'requests.packages.urllib3.util.selectors', 'requests.packages.urllib3.util.request', 'requests.packages.urllib3.util.response', 'requests.packages.urllib3.util.ssl_', 'requests.packages.urllib3.util.timeout', 'requests.packages.urllib3.util.retry', 'requests.packages.urllib3.util.url', 'requests.packages.urllib3._collections', 'requests.packages.urllib3.request', 'requests.packages.urllib3.filepost', 'requests.packages.urllib3.fields', 'requests.packages.urllib3.packages.six.moves.urllib', 'requests.packages.urllib3.packages.six.moves.urllib.parse', 'requests.packages.urllib3.response', 'requests.packages.urllib3.poolmanager', 'requests.packages.urllib3.contrib', 'requests.packages.urllib3.contrib.pyopenssl', 'requests.packages.urllib3.packages.backports', 'requests.packages.urllib3.packages.backports.makefile', 'idna', 'idna.package_data', 'idna.core', 'idna.idnadata', 'idna.intranges', 'requests.packages.idna', 'requests.packages.idna.package_data', 'requests.packages.idna.core', 'requests.packages.idna.idnadata', 'requests.packages.idna.intranges', 'requests.packages.chardet', 'requests.packages.chardet.compat', 'requests.packages.chardet.universaldetector', 'requests.packages.chardet.charsetgroupprober', 'requests.packages.chardet.enums', 'requests.packages.chardet.charsetprober', 'requests.packages.chardet.escprober', 'requests.packages.chardet.codingstatemachine', 'requests.packages.chardet.escsm', 'requests.packages.chardet.latin1prober', 'requests.packages.chardet.mbcsgroupprober', 'requests.packages.chardet.utf8prober', 'requests.packages.chardet.mbcssm', 'requests.packages.chardet.sjisprober', 'requests.packages.chardet.mbcharsetprober', 'requests.packages.chardet.chardistribution', 'requests.packages.chardet.euctwfreq', 'requests.packages.chardet.euckrfreq', 'requests.packages.chardet.gb2312freq', 'requests.packages.chardet.big5freq', 'requests.packages.chardet.jisfreq', 'requests.packages.chardet.jpcntx', 'requests.packages.chardet.eucjpprober', 'requests.packages.chardet.gb2312prober', 'requests.packages.chardet.euckrprober', 'requests.packages.chardet.cp949prober', 'requests.packages.chardet.big5prober', 'requests.packages.chardet.euctwprober', 'requests.packages.chardet.sbcsgroupprober', 'requests.packages.chardet.sbcharsetprober', 'requests.packages.chardet.langcyrillicmodel', 'requests.packages.chardet.langgreekmodel', 'requests.packages.chardet.langbulgarianmodel', 'requests.packages.chardet.langthaimodel', 'requests.packages.chardet.langhebrewmodel', 'requests.packages.chardet.hebrewprober', 'requests.packages.chardet.langturkishmodel', 'requests.packages.chardet.version', 'requests.models', 'requests.hooks', 'requests.auth', 'requests.status_codes', 'requests.api', 'requests.sessions', 'requests.adapters', 'urllib3.contrib.socks', 'socks', 'tarfile', 'dataclasses', 'matplotlib.patheffects', 'fastprogress', 'fastprogress.fastprogress', 'fastprogress.version', 'pkg_resources', 'plistlib', 'xml', 'xml.parsers', 'xml.parsers.expat', 'pyexpat.errors', 'pyexpat.model', 'pyexpat', 'xml.parsers.expat.model', 'xml.parsers.expat.errors', 'pkg_resources.extern', 'pkg_resources._vendor', 'pkg_resources.extern.six', 'pkg_resources._vendor.six', 'pkg_resources.extern.six.moves', 'pkg_resources._vendor.six.moves', 'pkg_resources.py31compat', 'pkg_resources.extern.appdirs', 'pkg_resources._vendor.packaging.__about__', 'pkg_resources.extern.packaging', 'pkg_resources.extern.packaging.version', 'pkg_resources.extern.packaging._structures', 'pkg_resources.extern.packaging.specifiers', 'pkg_resources.extern.packaging._compat', 'pkg_resources.extern.packaging.requirements', 'pkg_resources.extern.pyparsing', 'pkg_resources.extern.six.moves.urllib', 'pkg_resources.extern.packaging.markers', 'fastai.imports.torch', 'torch', 'torch._utils', 'torch._utils_internal', 'torch.version', 'torch._six', 'torch._nvrtc', 'torch._C._onnx', 'torch._C._jit_tree_views', 'torch._C._jit', 'torch._C', 'torch.random', 'torch.serialization', 'torch._tensor_str', 'torch.tensor', 'torch.utils', 'torch.utils.hooks', 'torch.storage', 'torch.cuda', 'torch.cuda._utils', 'torch.cuda.random', 'torch.cuda.sparse', 'torch.cuda.profiler', 'torch.cuda.nvtx', 'torch.cuda.streams', 'torch.sparse', 'torch.functional', 'torch.nn', 'torch.nn.modules', 'torch.nn.modules.module', 'torch.nn.backends', 'torch.nn.backends.thnn', 'torch.nn.backends.backend', 'torch.nn._functions', 'torch.nn._functions.thnn', 'torch.nn._functions.thnn.auto', 'torch._thnn', 'torch._thnn.utils', 'torch.autograd', 'torch.autograd.variable', 'torch.autograd.function', 'torch.autograd.gradcheck', 'torch.testing', 'torch.autograd.grad_mode', 'torch.autograd.anomaly_mode', 'torch.autograd.profiler', 'torch.nn._functions.thnn.auto_double_backwards', 'torch.nn._functions.thnn.auto_symbolic', 'torch.autograd._functions', 'torch.autograd._functions.tensor', 'torch.autograd._functions.utils', 'torch.nn._functions.thnn.normalization', 'torch.nn._functions.thnn.fold', 'torch.nn._functions.thnn.sparse', 'torch.nn.parameter', 'torch.nn.modules.linear', 'torch.nn.functional', 'torch.nn._reduction', 'torch._jit_internal', 'torch.nn.modules.utils', 'torch.nn._functions.vision', 'torch.backends', 'torch.backends.cudnn', 'torch.nn.grad', 'torch.nn._VF', 'torch.nn.init', 'torch.nn.modules.conv', 'torch.nn.modules.activation', 'torch.nn.modules.loss', 'torch.nn.modules.container', 'torch.nn.modules.pooling', 'torch.nn.modules.batchnorm', 'torch.nn.modules.instancenorm', 'torch.nn.modules.normalization', 'torch.nn.modules.dropout', 'torch.nn.modules.padding', 'torch.nn.modules.sparse', 'torch.nn.modules.rnn', 'torch.nn.utils', 'torch.nn.utils.rnn', 'torch.nn.utils.clip_grad', 'torch.nn.utils.weight_norm', 'torch.nn.utils.convert_parameters', 'torch.nn.utils.spectral_norm', 'torch.nn.modules.pixelshuffle', 'torch.nn.modules.upsampling', 'torch.nn.modules.distance', 'torch.nn.modules.fold', 'torch.nn.modules.adaptive', 'torch.nn.parallel', 'torch.nn.parallel.parallel_apply', 'torch.nn.parallel.replicate', 'torch.cuda.comm', 'torch.cuda.nccl', 'torch.nn.parallel.data_parallel', 'torch.nn.parallel.scatter_gather', 'torch.nn.parallel._functions', 'torch.nn.parallel.distributed', 'torch.distributed', 'torch.distributed.distributed_c10d', 'torch.distributed.rendezvous', 'torch.nn.parallel.distributed_cpu', 'torch.nn.parallel.deprecated', 'torch.nn.parallel.deprecated.distributed', 'torch.distributed.deprecated', 'torch.nn.parallel.deprecated.distributed_cpu', 'torch.optim', 'torch.optim.adadelta', 'torch.optim.optimizer', 'torch.optim.adagrad', 'torch.optim.adam', 'torch.optim.sparse_adam', 'torch.optim.adamax', 'torch.optim.asgd', 'torch.optim.sgd', 'torch.optim.rprop', 'torch.optim.rmsprop', 'torch.optim.lbfgs', 'torch.optim.lr_scheduler', 'torch.multiprocessing', 'torch.multiprocessing.reductions', 'multiprocessing.resource_sharer', 'torch.multiprocessing.spawn', 'torch.utils.backcompat', 'torch.onnx', 'torch.jit', 'torch.jit.frontend', 'torch.jit.annotations', 'torch.distributions', 'torch.distributions.bernoulli', 'torch.distributions.constraints', 'torch.distributions.exp_family', 'torch.distributions.distribution', 'torch.distributions.utils', 'torch.distributions.beta', 'torch.distributions.dirichlet', 'torch.distributions.binomial', 'torch.distributions.categorical', 'torch.distributions.cauchy', 'torch.distributions.chi2', 'torch.distributions.gamma', 'torch.distributions.constraint_registry', 'torch.distributions.transforms', 'torch.distributions.exponential', 'torch.distributions.fishersnedecor', 'torch.distributions.geometric', 'torch.distributions.gumbel', 'torch.distributions.uniform', 'torch.distributions.transformed_distribution', 'torch.distributions.half_cauchy', 'torch.distributions.half_normal', 'torch.distributions.normal', 'torch.distributions.independent', 'torch.distributions.kl', 'torch.distributions.laplace', 'torch.distributions.logistic_normal', 'torch.distributions.lowrank_multivariate_normal', 'torch.distributions.multivariate_normal', 'torch.distributions.one_hot_categorical', 'torch.distributions.pareto', 'torch.distributions.poisson', 'torch.distributions.log_normal', 'torch.distributions.multinomial', 'torch.distributions.negative_binomial', 'torch.distributions.relaxed_bernoulli', 'torch.distributions.relaxed_categorical', 'torch.distributions.studentT', 'torch.distributions.weibull', 'torch.backends.cuda', 'torch.backends.mkl', 'torch._torch_docs', 'torch._tensor_docs', 'torch._storage_docs', 'torch._ops', 'torch.utils.data', 'torch.utils.data.sampler', 'torch.utils.data.distributed', 'torch.utils.data.dataset', 'torch.utils.data.dataloader']),\n",
       "  160: <module 'os' from '/home/bala/anaconda3/lib/python3.6/os.py'>,\n",
       "  161: pathlib.Path,\n",
       "  163: [PosixPath('.git'),\n",
       "   PosixPath('.gitignore'),\n",
       "   PosixPath('.ipynb_checkpoints'),\n",
       "   PosixPath('00-Installation.ipynb'),\n",
       "   PosixPath('01_NumpyLecture.ipynb'),\n",
       "   PosixPath('02_Numpy_LiveCoding_Reference.ipynb'),\n",
       "   PosixPath('03_Numpy_UserGuide.ipynb'),\n",
       "   PosixPath('CP01.ipynb'),\n",
       "   PosixPath('README.md'),\n",
       "   PosixPath('tmp')],\n",
       "  165: <module 'shutil' from '/home/bala/anaconda3/lib/python3.6/shutil.py'>},\n",
       " 'get_ipython': <bound method InteractiveShell.get_ipython of <ipykernel.zmqshell.ZMQInteractiveShell object at 0x7f6d4b271b70>>,\n",
       " 'exit': <IPython.core.autocall.ZMQExitAutocall at 0x7f6d481cd518>,\n",
       " 'quit': <IPython.core.autocall.ZMQExitAutocall at 0x7f6d481cd518>,\n",
       " '_': <module 'shutil' from '/home/bala/anaconda3/lib/python3.6/shutil.py'>,\n",
       " '__': [PosixPath('.git'),\n",
       "  PosixPath('.gitignore'),\n",
       "  PosixPath('.ipynb_checkpoints'),\n",
       "  PosixPath('00-Installation.ipynb'),\n",
       "  PosixPath('01_NumpyLecture.ipynb'),\n",
       "  PosixPath('02_Numpy_LiveCoding_Reference.ipynb'),\n",
       "  PosixPath('03_Numpy_UserGuide.ipynb'),\n",
       "  PosixPath('CP01.ipynb'),\n",
       "  PosixPath('README.md'),\n",
       "  PosixPath('tmp')],\n",
       " '___': pathlib.Path,\n",
       " '_i': 'shutil',\n",
       " '_ii': 'google',\n",
       " '_iii': 'a.ls()',\n",
       " '_i1': 'c = []\\nfor i in range(len(a)):\\n    c.append(a[i]*b[i])',\n",
       " 'c': array([1, 2, 3, 0]),\n",
       " '_i2': 'a= [1,2,3,4]\\nb= [1,1,1,1]\\nc = []\\nfor i in range(len(a)):\\n    c.append(a[i]*b[i])',\n",
       " 'a': PosixPath('.'),\n",
       " 'b': array([[1, 2, 3],\n",
       "        [4, 5, 6]]),\n",
       " 'i': 3,\n",
       " '_i3': 'a= [1,2,3,4]\\nb= [1,1,1,1]\\nc = []\\nfor i in range(len(a)):\\n    c.append(a[i]*b[i])\\nc',\n",
       " '_3': [1, 2, 3, 4],\n",
       " '_i4': 'a= [1,2,3,4]\\nb= [1,1,1,0]\\nc = []\\nfor i in range(len(a)):\\n    c.append(a[i]*b[i])\\nc',\n",
       " '_4': [1, 2, 3, 0],\n",
       " '_i5': 'a= [[1,2,3,4]]\\nb= [[1,1,1,0]]\\n\\nrows = 1\\ncolumns = 4\\n\\nfor (i = 0; i < rows; i++): {\\n  for (j = 0; j < columns; j++): {\\n    c[i][j] = a[i][j]*b[i][j];\\n  }\\n}',\n",
       " '_i6': 'a= np.array([1,2,3,4])\\nb= np.array([1,1,1,0])\\n\\nc = a * b\\nc',\n",
       " '_i7': 'import numpy as np',\n",
       " 'np': <module 'numpy' from '/home/bala/anaconda3/lib/python3.6/site-packages/numpy/__init__.py'>,\n",
       " '_i8': 'import numpy as np\\na= np.array([1,2,3,4])\\nb= np.array([1,1,1,0])\\n\\nc = a * b\\nc',\n",
       " '_8': array([1, 2, 3, 0]),\n",
       " '_i9': '#In NumPy dimensions are called axes.',\n",
       " '_i10': '#NumPy’s main object is the homogeneous multidimensional array.\\n#In NumPy dimensions are called axes.',\n",
       " '_i11': 'x = np.array([\\n    [ 1., 0., 0.],\\n    [ 0., 1., 2.]\\n])',\n",
       " 'x': array([0.      , 0.063467, 0.126933, 0.1904  , ..., 6.092786, 6.156252, 6.219719, 6.283185]),\n",
       " '_i12': 'x',\n",
       " '_12': array([[1., 0., 0.],\n",
       "        [0., 1., 2.]]),\n",
       " '_i13': 'x.shape',\n",
       " '_13': (2, 3),\n",
       " '_i14': 'x.sum(axis=0)',\n",
       " '_14': array([1., 1., 2.]),\n",
       " '_i15': 'x.sum(axis=1)',\n",
       " '_15': array([1., 3.]),\n",
       " '_i16': 'x.shape',\n",
       " '_16': (2, 3),\n",
       " '_i17': 'x.ndim',\n",
       " '_17': 2,\n",
       " '_i18': 'np.vstack([x,x])\\n# np.hstack',\n",
       " '_18': array([[1., 0., 0.],\n",
       "        [0., 1., 2.],\n",
       "        [1., 0., 0.],\n",
       "        [0., 1., 2.]]),\n",
       " '_i19': 'np.hstack([x,x])',\n",
       " '_19': array([[1., 0., 0., 1., 0., 0.],\n",
       "        [0., 1., 2., 0., 1., 2.]]),\n",
       " '_i20': 'x1 = np.vstack([x,x])\\nx1.shape',\n",
       " 'x1': array([[1., 0., 0.],\n",
       "        [0., 1., 2.],\n",
       "        [1., 0., 0.],\n",
       "        [0., 1., 2.]]),\n",
       " '_20': (4, 3),\n",
       " '_i21': 'x1 = np.vstack([x,x])\\nx1.shape\\nx1.ndim',\n",
       " '_21': 2,\n",
       " '_i22': 'x1 = np.vstack([x,x])\\nx1.shape, x1.ndim',\n",
       " '_22': ((4, 3), 2),\n",
       " '_i23': 'x1 = np.vstack([x,x])\\n\"x1.shape\", x1.shape, x1.ndim',\n",
       " '_23': ('x1.shape', (4, 3), 2),\n",
       " '_i24': 'x1 = np.vstack([x,x])\\n\"x1.shape = \", x1.shape, \"x1.ndim = \", x1.ndim',\n",
       " '_24': ('x1.shape = ', (4, 3), 'x1.ndim = ', 2),\n",
       " '_i25': 'np.hstack([x,x,x,x])',\n",
       " '_25': array([[1., 0., 0., 1., 0., 0., 1., 0., 0., 1., 0., 0.],\n",
       "        [0., 1., 2., 0., 1., 2., 0., 1., 2., 0., 1., 2.]]),\n",
       " '_i26': 'x2 = np.hstack([x,x,x,x])\\nx2',\n",
       " 'x2': array([[1., 0., 0., 1., 0., 0., 1., 0., 0., 1., 0., 0.],\n",
       "        [0., 1., 2., 0., 1., 2., 0., 1., 2., 0., 1., 2.]]),\n",
       " '_26': array([[1., 0., 0., 1., 0., 0., 1., 0., 0., 1., 0., 0.],\n",
       "        [0., 1., 2., 0., 1., 2., 0., 1., 2., 0., 1., 2.]]),\n",
       " '_i27': 'x2 = np.hstack([x,x,x,x])\\nx2.reshape(shape=(2,-1))',\n",
       " '_i28': 'x2 = np.hstack([x,x,x,x])\\nx2.reshape(shape=(2,None))',\n",
       " '_i29': 'x2 = np.hstack([x,x,x,x])\\nx2.reshape((2,-1))',\n",
       " '_29': array([[1., 0., 0., 1., 0., 0., 1., 0., 0., 1., 0., 0.],\n",
       "        [0., 1., 2., 0., 1., 2., 0., 1., 2., 0., 1., 2.]]),\n",
       " '_i30': 'x2 = np.hstack([x,x,x,x])\\nx2.reshape(shape=(2,-1))',\n",
       " '_i31': 'x2 = np.hstack([x,x,x,x])\\nx2.reshape((2,-1))',\n",
       " '_31': array([[1., 0., 0., 1., 0., 0., 1., 0., 0., 1., 0., 0.],\n",
       "        [0., 1., 2., 0., 1., 2., 0., 1., 2., 0., 1., 2.]]),\n",
       " '_i32': 'x2 = np.hstack([x,x,x,x])\\nx2.reshape((3,-1))',\n",
       " '_32': array([[1., 0., 0., 1., 0., 0., 1., 0.],\n",
       "        [0., 1., 0., 0., 0., 1., 2., 0.],\n",
       "        [1., 2., 0., 1., 2., 0., 1., 2.]]),\n",
       " '_i33': 'x2 = np.hstack([x,x,x,x])\\nx2.reshape((4,-1))',\n",
       " '_33': array([[1., 0., 0., 1., 0., 0.],\n",
       "        [1., 0., 0., 1., 0., 0.],\n",
       "        [0., 1., 2., 0., 1., 2.],\n",
       "        [0., 1., 2., 0., 1., 2.]]),\n",
       " '_i34': 'x2 = np.hstack([x,x,x,x])\\nx2.reshape((5,-1))',\n",
       " '_i35': 'x2 = np.hstack([x,x,x,x])\\nx2.reshape((6,-1))',\n",
       " '_35': array([[1., 0., 0., 1.],\n",
       "        [0., 0., 1., 0.],\n",
       "        [0., 1., 0., 0.],\n",
       "        [0., 1., 2., 0.],\n",
       "        [1., 2., 0., 1.],\n",
       "        [2., 0., 1., 2.]]),\n",
       " '_i36': 'x2 = np.hstack([x,x,x,x])\\nx2.reshape((6,2,-1))',\n",
       " '_36': array([[[1., 0.],\n",
       "         [0., 1.]],\n",
       " \n",
       "        [[0., 0.],\n",
       "         [1., 0.]],\n",
       " \n",
       "        [[0., 1.],\n",
       "         [0., 0.]],\n",
       " \n",
       "        [[0., 1.],\n",
       "         [2., 0.]],\n",
       " \n",
       "        [[1., 2.],\n",
       "         [0., 1.]],\n",
       " \n",
       "        [[2., 0.],\n",
       "         [1., 2.]]]),\n",
       " '_i37': 'x2 = np.hstack([x,x,x,x])\\nx3 = x2.reshape((6,2,-1))\\nx3',\n",
       " 'x3': array([[[1., 0.],\n",
       "         [0., 1.]],\n",
       " \n",
       "        [[0., 0.],\n",
       "         [1., 0.]],\n",
       " \n",
       "        [[0., 1.],\n",
       "         [0., 0.]],\n",
       " \n",
       "        [[0., 1.],\n",
       "         [2., 0.]],\n",
       " \n",
       "        [[1., 2.],\n",
       "         [0., 1.]],\n",
       " \n",
       "        [[2., 0.],\n",
       "         [1., 2.]]]),\n",
       " '_37': array([[[1., 0.],\n",
       "         [0., 1.]],\n",
       " \n",
       "        [[0., 0.],\n",
       "         [1., 0.]],\n",
       " \n",
       "        [[0., 1.],\n",
       "         [0., 0.]],\n",
       " \n",
       "        [[0., 1.],\n",
       "         [2., 0.]],\n",
       " \n",
       "        [[1., 2.],\n",
       "         [0., 1.]],\n",
       " \n",
       "        [[2., 0.],\n",
       "         [1., 2.]]]),\n",
       " '_i38': 'x3.ndim',\n",
       " '_38': 3,\n",
       " '_i39': 'x3.shape',\n",
       " '_39': (6, 2, 2),\n",
       " '_i40': 'x3.data',\n",
       " '_40': <memory at 0x7f6d3a3786d8>,\n",
       " '_i41': 'x3.data()',\n",
       " '_i42': 'x3.data.c_contiguous',\n",
       " '_42': True,\n",
       " '_i43': 'x3.data.itemsize',\n",
       " '_43': 8,\n",
       " '_i44': 'x3.data.ndim',\n",
       " '_44': 3,\n",
       " '_i45': 'x3.data.obj',\n",
       " '_45': array([[[1., 0.],\n",
       "         [0., 1.]],\n",
       " \n",
       "        [[0., 0.],\n",
       "         [1., 0.]],\n",
       " \n",
       "        [[0., 1.],\n",
       "         [0., 0.]],\n",
       " \n",
       "        [[0., 1.],\n",
       "         [2., 0.]],\n",
       " \n",
       "        [[1., 2.],\n",
       "         [0., 1.]],\n",
       " \n",
       "        [[2., 0.],\n",
       "         [1., 2.]]]),\n",
       " '_i46': 'x3.data.tobytes',\n",
       " '_46': <function memoryview.tobytes()>,\n",
       " '_i47': 'x3.data.tobytes()',\n",
       " '_47': b'\\x00\\x00\\x00\\x00\\x00\\x00\\xf0?\\x00\\x00\\x00\\x00\\x00\\x00\\x00\\x00\\x00\\x00\\x00\\x00\\x00\\x00\\x00\\x00\\x00\\x00\\x00\\x00\\x00\\x00\\xf0?\\x00\\x00\\x00\\x00\\x00\\x00\\x00\\x00\\x00\\x00\\x00\\x00\\x00\\x00\\x00\\x00\\x00\\x00\\x00\\x00\\x00\\x00\\xf0?\\x00\\x00\\x00\\x00\\x00\\x00\\x00\\x00\\x00\\x00\\x00\\x00\\x00\\x00\\x00\\x00\\x00\\x00\\x00\\x00\\x00\\x00\\xf0?\\x00\\x00\\x00\\x00\\x00\\x00\\x00\\x00\\x00\\x00\\x00\\x00\\x00\\x00\\x00\\x00\\x00\\x00\\x00\\x00\\x00\\x00\\x00\\x00\\x00\\x00\\x00\\x00\\x00\\x00\\xf0?\\x00\\x00\\x00\\x00\\x00\\x00\\x00@\\x00\\x00\\x00\\x00\\x00\\x00\\x00\\x00\\x00\\x00\\x00\\x00\\x00\\x00\\xf0?\\x00\\x00\\x00\\x00\\x00\\x00\\x00@\\x00\\x00\\x00\\x00\\x00\\x00\\x00\\x00\\x00\\x00\\x00\\x00\\x00\\x00\\xf0?\\x00\\x00\\x00\\x00\\x00\\x00\\x00@\\x00\\x00\\x00\\x00\\x00\\x00\\x00\\x00\\x00\\x00\\x00\\x00\\x00\\x00\\xf0?\\x00\\x00\\x00\\x00\\x00\\x00\\x00@',\n",
       " '_i48': 'x3.data.strides',\n",
       " '_48': (32, 16, 8),\n",
       " '_i49': 'x3',\n",
       " '_49': array([[[1., 0.],\n",
       "         [0., 1.]],\n",
       " \n",
       "        [[0., 0.],\n",
       "         [1., 0.]],\n",
       " \n",
       "        [[0., 1.],\n",
       "         [0., 0.]],\n",
       " \n",
       "        [[0., 1.],\n",
       "         [2., 0.]],\n",
       " \n",
       "        [[1., 2.],\n",
       "         [0., 1.]],\n",
       " \n",
       "        [[2., 0.],\n",
       "         [1., 2.]]]),\n",
       " '_i50': 'x3.shape',\n",
       " '_50': (6, 2, 2),\n",
       " '_i51': 'x3.sum(axis=0)',\n",
       " '_51': array([[4., 4.],\n",
       "        [4., 4.]]),\n",
       " '_i52': 'x3.sum(axis=1)',\n",
       " '_52': array([[1., 1.],\n",
       "        [1., 0.],\n",
       "        [0., 1.],\n",
       "        [2., 1.],\n",
       "        [1., 3.],\n",
       "        [3., 2.]]),\n",
       " '_i53': 'x3.sum(axis=2)',\n",
       " '_53': array([[1., 1.],\n",
       "        [0., 1.],\n",
       "        [1., 0.],\n",
       "        [1., 2.],\n",
       "        [3., 1.],\n",
       "        [2., 3.]]),\n",
       " '_i54': 'x3.shape',\n",
       " '_54': (6, 2, 2),\n",
       " '_i55': 'x3.item',\n",
       " '_55': <function ndarray.item>,\n",
       " '_i56': 'x3.item()',\n",
       " '_i57': 'x3.item(1)',\n",
       " '_57': 0.0,\n",
       " '_i58': 'x3.item(2)',\n",
       " '_58': 0.0,\n",
       " '_i59': 'x3.item(10)',\n",
       " '_59': 0.0,\n",
       " '_i60': 'x3.item(3)',\n",
       " '_60': 1.0,\n",
       " '_i61': 'x3',\n",
       " '_61': array([[[1., 0.],\n",
       "         [0., 1.]],\n",
       " \n",
       "        [[0., 0.],\n",
       "         [1., 0.]],\n",
       " \n",
       "        [[0., 1.],\n",
       "         [0., 0.]],\n",
       " \n",
       "        [[0., 1.],\n",
       "         [2., 0.]],\n",
       " \n",
       "        [[1., 2.],\n",
       "         [0., 1.]],\n",
       " \n",
       "        [[2., 0.],\n",
       "         [1., 2.]]]),\n",
       " '_i62': 'x3.item(-1)',\n",
       " '_62': 2.0,\n",
       " '_i63': 'x3.itemsize()',\n",
       " '_i64': 'x3.itemsize',\n",
       " '_64': 8,\n",
       " '_i65': 'x2.size()',\n",
       " '_i66': 'x2.size',\n",
       " '_66': 24,\n",
       " '_i67': 'x3.dtype.names',\n",
       " '_i68': 'x3.dtype.names',\n",
       " '_i69': 'x3.dtype.name',\n",
       " '_69': 'float64',\n",
       " '_i70': 'x3.dtype.shape',\n",
       " '_70': (),\n",
       " '_i71': 'x3.dtype.name',\n",
       " '_71': 'float64',\n",
       " '_i72': 'a',\n",
       " '_72': array([1, 2, 3, 4]),\n",
       " '_i73': 'a.ndim',\n",
       " '_73': 1,\n",
       " '_i74': 'a',\n",
       " '_74': array([1, 2, 3, 4]),\n",
       " '_i75': 'a.ndim',\n",
       " '_75': 1,\n",
       " '_i76': 'a.ndim, a.sum(axis=0)',\n",
       " '_76': (1, 10),\n",
       " '_i77': 'a.ndim, a.sum(axis=0)\\na.shape',\n",
       " '_77': (4,),\n",
       " '_i78': 'a.ndim, a.sum(axis=0), a.shape',\n",
       " '_78': (1, 10, (4,)),\n",
       " '_i79': 'c1= np.array([\\n    [2,0,1],\\n    [1,2,3],\\n    [1,0,1]\\n])',\n",
       " 'c1': array([[2, 0, 1, 1],\n",
       "        [1, 2, 3, 1],\n",
       "        [1, 0, 1, 1]]),\n",
       " '_i80': 'c1= np.array([\\n    [2,0,1],\\n    [1,2,3],\\n    [1,0,1]\\n])\\nnp.stack((c1,c1,c1))',\n",
       " '_80': array([[[2, 0, 1],\n",
       "         [1, 2, 3],\n",
       "         [1, 0, 1]],\n",
       " \n",
       "        [[2, 0, 1],\n",
       "         [1, 2, 3],\n",
       "         [1, 0, 1]],\n",
       " \n",
       "        [[2, 0, 1],\n",
       "         [1, 2, 3],\n",
       "         [1, 0, 1]]]),\n",
       " '_i81': 'c1= np.array([\\n    [2,0,1],\\n    [1,2,3],\\n    [1,0,1]\\n])\\nc_3d = np.stack((c1,c1,c1))',\n",
       " 'c_3d': array([[[2, 0, 1, 1],\n",
       "         [1, 2, 3, 1],\n",
       "         [1, 0, 1, 1]],\n",
       " \n",
       "        [[2, 0, 1, 1],\n",
       "         [1, 2, 3, 1],\n",
       "         [1, 0, 1, 1]]]),\n",
       " '_i82': 'c_3d',\n",
       " '_82': array([[[2, 0, 1],\n",
       "         [1, 2, 3],\n",
       "         [1, 0, 1]],\n",
       " \n",
       "        [[2, 0, 1],\n",
       "         [1, 2, 3],\n",
       "         [1, 0, 1]],\n",
       " \n",
       "        [[2, 0, 1],\n",
       "         [1, 2, 3],\n",
       "         [1, 0, 1]]]),\n",
       " '_i83': 'c_3d.shape',\n",
       " '_83': (3, 3, 3),\n",
       " '_i84': 'c_3d.ndim',\n",
       " '_84': 3,\n",
       " '_i85': 'c_3d.sum(axis=0)',\n",
       " '_85': array([[6, 0, 3],\n",
       "        [3, 6, 9],\n",
       "        [3, 0, 3]]),\n",
       " '_i86': 'c_3d.sum(axis=1)',\n",
       " '_86': array([[4, 2, 5],\n",
       "        [4, 2, 5],\n",
       "        [4, 2, 5]]),\n",
       " '_i87': 'c_3d.sum(axis=2)',\n",
       " '_87': array([[3, 6, 2],\n",
       "        [3, 6, 2],\n",
       "        [3, 6, 2]]),\n",
       " '_i88': 'c1= np.array([\\n    [2,0,1,1],\\n    [1,2,3,1],\\n    [1,0,1,1]\\n])\\nc_3d = np.stack((c1,c1,c1))',\n",
       " '_i89': 'c_3d',\n",
       " '_89': array([[[2, 0, 1, 1],\n",
       "         [1, 2, 3, 1],\n",
       "         [1, 0, 1, 1]],\n",
       " \n",
       "        [[2, 0, 1, 1],\n",
       "         [1, 2, 3, 1],\n",
       "         [1, 0, 1, 1]],\n",
       " \n",
       "        [[2, 0, 1, 1],\n",
       "         [1, 2, 3, 1],\n",
       "         [1, 0, 1, 1]]]),\n",
       " '_i90': 'c1= np.array([\\n    [2,0,1,1],\\n    [1,2,3,1],\\n    [1,0,1,1]\\n])\\nc_3d = np.stack((c1,c1))',\n",
       " '_i91': 'c_3d',\n",
       " '_91': array([[[2, 0, 1, 1],\n",
       "         [1, 2, 3, 1],\n",
       "         [1, 0, 1, 1]],\n",
       " \n",
       "        [[2, 0, 1, 1],\n",
       "         [1, 2, 3, 1],\n",
       "         [1, 0, 1, 1]]]),\n",
       " '_i92': 'c_3d.shape',\n",
       " '_92': (2, 3, 4),\n",
       " '_i93': 'c_3d.ndim',\n",
       " '_93': 3,\n",
       " '_i94': 'c_3d.sum(axis=0)',\n",
       " '_94': array([[4, 0, 2, 2],\n",
       "        [2, 4, 6, 2],\n",
       "        [2, 0, 2, 2]]),\n",
       " '_i95': 'c_3d.sum(axis=0)',\n",
       " '_95': array([[4, 0, 2, 2],\n",
       "        [2, 4, 6, 2],\n",
       "        [2, 0, 2, 2]]),\n",
       " '_i96': 'c_3d.sum(axis=1)',\n",
       " '_96': array([[4, 2, 5, 3],\n",
       "        [4, 2, 5, 3]]),\n",
       " '_i97': 'c_3d.sum(axis=0)',\n",
       " '_97': array([[4, 0, 2, 2],\n",
       "        [2, 4, 6, 2],\n",
       "        [2, 0, 2, 2]]),\n",
       " '_i98': 'c_3d.sum(axis=1)',\n",
       " '_98': array([[4, 2, 5, 3],\n",
       "        [4, 2, 5, 3]]),\n",
       " '_i99': 'c_3d.sum(axis=2)',\n",
       " '_99': array([[4, 7, 3],\n",
       "        [4, 7, 3]]),\n",
       " '_i100': 'a = np.array([2,3,4])',\n",
       " '_i101': 'a',\n",
       " '_101': array([2, 3, 4]),\n",
       " '_i102': 'a.dtype',\n",
       " '_102': dtype('int64'),\n",
       " '_i103': 'b = np.array([1.2, 3.5, 5.1])\\nb.dtype',\n",
       " '_103': dtype('float64'),\n",
       " '_i104': 'b = np.array([(1.5,2,3), (4,5,6)])\\nb.dtype',\n",
       " '_104': dtype('float64'),\n",
       " '_i105': 'b = np.array([(1.5,2,3), (4,5,6)])\\nprint(b.dtype)\\nprint(b.ndim)',\n",
       " '_i106': 'b = np.array([(1.5,2,3), (4,5,6)])\\nprint(b.dtype)\\nprint(b.ndim)\\nprint(b.shape)',\n",
       " '_i107': '# Controll the dtype\\nb = np.array([(1.5,2,3), (4,5,6)], dtype=int)\\nprint(b.dtype)\\nprint(b.ndim)\\nprint(b.shape)',\n",
       " '_i108': '# Controll the dtype\\nb = np.array([(1.5,2,3), (4,5,6)], dtype=int64)\\nprint(b.dtype)\\nprint(b.ndim)\\nprint(b.shape)',\n",
       " '_i109': '# Controll the dtype\\nb = np.array([(1.5,2,3), (4,5,6)], dtype=OBJECT)\\nprint(b.dtype)\\nprint(b.ndim)\\nprint(b.shape)',\n",
       " '_i110': '# Controll the dtype\\nb = np.array([(1.5,2,3), (4,5,6)], dtype=object)\\nprint(b.dtype)\\nprint(b.ndim)\\nprint(b.shape)',\n",
       " '_i111': '# Controll the dtype\\nb = np.array([(1.5,2,3), (4,5,6)], dtype=np.int64)\\nprint(b.dtype)\\nprint(b.ndim)\\nprint(b.shape)',\n",
       " '_i112': 'help(np.arange)',\n",
       " '_i113': 'np.arange(3)',\n",
       " '_113': array([0, 1, 2]),\n",
       " '_i114': 'np.arange(3.0)',\n",
       " '_114': array([0., 1., 2.]),\n",
       " '_i115': 'np.arange(3,10, 0.03)',\n",
       " '_115': array([3.  , 3.03, 3.06, 3.09, ..., 9.9 , 9.93, 9.96, 9.99]),\n",
       " '_i116': 'np.arange(3,10, 0.5)',\n",
       " '_116': array([3. , 3.5, 4. , 4.5, 5. , 5.5, 6. , 6.5, 7. , 7.5, 8. , 8.5, 9. , 9.5]),\n",
       " '_i117': 'np.pi',\n",
       " '_117': 3.141592653589793,\n",
       " '_i118': 'np.piecewise',\n",
       " '_118': <function numpy.lib.function_base.piecewise(x, condlist, funclist, *args, **kw)>,\n",
       " '_i119': 'np.linspace( 0, 2, 9 )',\n",
       " '_119': array([0.  , 0.25, 0.5 , 0.75, 1.  , 1.25, 1.5 , 1.75, 2.  ]),\n",
       " '_i120': 'np.arange( 0, 2, 9 )',\n",
       " '_120': array([0]),\n",
       " '_i121': 'np.arange( 0, 2, (2-0)/9 )',\n",
       " '_121': array([0.      , 0.222222, 0.444444, 0.666667, 0.888889, 1.111111, 1.333333, 1.555556, 1.777778]),\n",
       " '_i122': 'np.arange( 0, 2, (2-0)//9 )',\n",
       " '_i123': 'np.arange( 0, 2, (2-0)/9 )',\n",
       " '_123': array([0.      , 0.222222, 0.444444, 0.666667, 0.888889, 1.111111, 1.333333, 1.555556, 1.777778]),\n",
       " '_i124': 'np.arange( 0, 2, (2+1-0)/9 )',\n",
       " '_124': array([0.      , 0.333333, 0.666667, 1.      , 1.333333, 1.666667]),\n",
       " '_i125': 'np.arange( 0, 2, (2-0)/9 )',\n",
       " '_125': array([0.      , 0.222222, 0.444444, 0.666667, 0.888889, 1.111111, 1.333333, 1.555556, 1.777778]),\n",
       " '_i126': 'np.empty( (2,3) )',\n",
       " '_126': array([[0.      , 0.333333, 0.666667],\n",
       "        [1.      , 1.333333, 1.666667]]),\n",
       " '_i127': 'np.empty( (2,3) )',\n",
       " '_127': array([[0.      , 0.333333, 0.666667],\n",
       "        [1.      , 1.333333, 1.666667]]),\n",
       " '_i128': 'np.empty( (2,3) )',\n",
       " '_128': array([[0.      , 0.333333, 0.666667],\n",
       "        [1.      , 1.333333, 1.666667]]),\n",
       " '_i129': 'np.empty( (2,3) )',\n",
       " '_129': array([[0.      , 0.333333, 0.666667],\n",
       "        [1.      , 1.333333, 1.666667]]),\n",
       " '_i130': 'np.empty( (2,3) , int)',\n",
       " '_130': array([[                  0, 4599676419421066581, 4604180019048437077],\n",
       "        [4607182418800017408, 4608683618675807573, 4610184818551597738]]),\n",
       " '_i131': 'np.empty( (2,3))',\n",
       " '_131': array([[1.415294e+161, 9.166518e-072, 3.886643e+097],\n",
       "        [3.211427e-322, 4.680780e-310, 6.922229e-310]]),\n",
       " '_i132': 'np.empty( (2,3) )',\n",
       " '_132': array([[1.415294e+161, 9.166518e-072, 3.886643e+097],\n",
       "        [3.211427e-322, 4.680780e-310, 6.922229e-310]]),\n",
       " '_i133': 'np.ones( (2,3,4), dtype=np.int16 )      ',\n",
       " '_133': array([[[1, 1, 1, 1],\n",
       "         [1, 1, 1, 1],\n",
       "         [1, 1, 1, 1]],\n",
       " \n",
       "        [[1, 1, 1, 1],\n",
       "         [1, 1, 1, 1],\n",
       "         [1, 1, 1, 1]]], dtype=int16),\n",
       " '_i134': 'np.zeros( (2,3,4), dtype=np.int16 )      ',\n",
       " '_134': array([[[0, 0, 0, 0],\n",
       "         [0, 0, 0, 0],\n",
       "         [0, 0, 0, 0]],\n",
       " \n",
       "        [[0, 0, 0, 0],\n",
       "         [0, 0, 0, 0],\n",
       "         [0, 0, 0, 0]]], dtype=int16),\n",
       " '_i135': 'np.full( (2,3,4), 3, dtype=np.int16 )      ',\n",
       " '_135': array([[[3, 3, 3, 3],\n",
       "         [3, 3, 3, 3],\n",
       "         [3, 3, 3, 3]],\n",
       " \n",
       "        [[3, 3, 3, 3],\n",
       "         [3, 3, 3, 3],\n",
       "         [3, 3, 3, 3]]], dtype=int16),\n",
       " '_i136': ' x = np.linspace( 0, 2*np.pi, 100 )',\n",
       " '_i137': 'x',\n",
       " '_137': array([0.      , 0.063467, 0.126933, 0.1904  , ..., 6.092786, 6.156252, 6.219719, 6.283185]),\n",
       " '_i138': ' x = np.linspace( 0, 2*np.pi, 10 )',\n",
       " '_i139': 'x',\n",
       " '_139': array([0.      , 0.698132, 1.396263, 2.094395, 2.792527, 3.490659, 4.18879 , 4.886922, 5.585054, 6.283185]),\n",
       " '_i140': 'y = np.sin(x)',\n",
       " 'y': array([ 0.000000e+00,  6.342392e-02,  1.265925e-01,  1.892512e-01, ..., -1.892512e-01, -1.265925e-01, -6.342392e-02,\n",
       "        -2.449294e-16]),\n",
       " '_i141': 'from fastai import *',\n",
       " 'version': <module 'fastai.version' from '/home/bala/anaconda3/lib/python3.6/site-packages/fastai/version.py'>,\n",
       " '_i142': 'from fastai.core import *',\n",
       " 'csv': <module 'csv' from '/home/bala/anaconda3/lib/python3.6/csv.py'>,\n",
       " 'gc': <module 'gc' (built-in)>,\n",
       " 'gzip': <module 'gzip' from '/home/bala/anaconda3/lib/python3.6/gzip.py'>,\n",
       " 'os': <module 'os' from '/home/bala/anaconda3/lib/python3.6/os.py'>,\n",
       " 'pickle': <module 'pickle' from '/home/bala/anaconda3/lib/python3.6/pickle.py'>,\n",
       " 'shutil': <module 'shutil' from '/home/bala/anaconda3/lib/python3.6/shutil.py'>,\n",
       " 'sys': <module 'sys' (built-in)>,\n",
       " 'warnings': <module 'warnings' from '/home/bala/anaconda3/lib/python3.6/warnings.py'>,\n",
       " 'yaml': <module 'yaml' from '/home/bala/anaconda3/lib/python3.6/site-packages/yaml/__init__.py'>,\n",
       " 'io': <module 'io' from '/home/bala/anaconda3/lib/python3.6/io.py'>,\n",
       " 'subprocess': <module 'subprocess' from '/home/bala/anaconda3/lib/python3.6/subprocess.py'>,\n",
       " 'math': <module 'math' from '/home/bala/anaconda3/lib/python3.6/lib-dynload/math.cpython-36m-x86_64-linux-gnu.so'>,\n",
       " 'plt': <module 'matplotlib.pyplot' from '/home/bala/anaconda3/lib/python3.6/site-packages/matplotlib/pyplot.py'>,\n",
       " 'pd': <module 'pandas' from '/home/bala/anaconda3/lib/python3.6/site-packages/pandas/__init__.py'>,\n",
       " 'random': <module 'random' from '/home/bala/anaconda3/lib/python3.6/random.py'>,\n",
       " 'scipy': <module 'scipy' from '/home/bala/anaconda3/lib/python3.6/site-packages/scipy/__init__.py'>,\n",
       " 'abc': <module 'collections.abc' from '/home/bala/anaconda3/lib/python3.6/collections/abc.py'>,\n",
       " 'collections': <module 'collections' from '/home/bala/anaconda3/lib/python3.6/collections/__init__.py'>,\n",
       " 'hashlib': <module 'hashlib' from '/home/bala/anaconda3/lib/python3.6/hashlib.py'>,\n",
       " 'itertools': <module 'itertools' (built-in)>,\n",
       " 'json': <module 'json' from '/home/bala/anaconda3/lib/python3.6/json/__init__.py'>,\n",
       " 'operator': <module 'operator' from '/home/bala/anaconda3/lib/python3.6/operator.py'>,\n",
       " 'pathlib': <module 'pathlib' from '/home/bala/anaconda3/lib/python3.6/pathlib.py'>,\n",
       " 'mimetypes': <module 'mimetypes' from '/home/bala/anaconda3/lib/python3.6/mimetypes.py'>,\n",
       " 'inspect': <module 'inspect' from '/home/bala/anaconda3/lib/python3.6/inspect.py'>,\n",
       " 'typing': <module 'typing' from '/home/bala/anaconda3/lib/python3.6/typing.py'>,\n",
       " 'functools': <module 'functools' from '/home/bala/anaconda3/lib/python3.6/functools.py'>,\n",
       " 'importlib': <module 'importlib' from '/home/bala/anaconda3/lib/python3.6/importlib/__init__.py'>,\n",
       " 'weakref': <module 'weakref' from '/home/bala/anaconda3/lib/python3.6/weakref.py'>,\n",
       " 'html': <module 'html' from '/home/bala/anaconda3/lib/python3.6/html/__init__.py'>,\n",
       " 're': <module 're' from '/home/bala/anaconda3/lib/python3.6/re.py'>,\n",
       " 'requests': <module 'requests' from '/home/bala/anaconda3/lib/python3.6/site-packages/requests/__init__.py'>,\n",
       " 'tarfile': <module 'tarfile' from '/home/bala/anaconda3/lib/python3.6/tarfile.py'>,\n",
       " 'numbers': <module 'numbers' from '/home/bala/anaconda3/lib/python3.6/numbers.py'>,\n",
       " 'tempfile': <module 'tempfile' from '/home/bala/anaconda3/lib/python3.6/tempfile.py'>,\n",
       " 'abstractmethod': <function abc.abstractmethod(funcobj)>,\n",
       " 'abstractproperty': abc.abstractproperty,\n",
       " 'Counter': collections.Counter,\n",
       " 'defaultdict': collections.defaultdict,\n",
       " 'Iterable': collections.abc.Iterable,\n",
       " 'namedtuple': <function collections.namedtuple(typename, field_names, *, verbose=False, rename=False, module=None)>,\n",
       " 'OrderedDict': collections.OrderedDict,\n",
       " 'concurrent': <module 'concurrent' from '/home/bala/anaconda3/lib/python3.6/concurrent/__init__.py'>,\n",
       " 'ProcessPoolExecutor': concurrent.futures.process.ProcessPoolExecutor,\n",
       " 'ThreadPoolExecutor': concurrent.futures.thread.ThreadPoolExecutor,\n",
       " 'copy': <function copy.copy(x)>,\n",
       " 'deepcopy': <function copy.deepcopy(x, memo=None, _nil=[])>,\n",
       " 'dataclass': <function dataclasses.dataclass(_cls=None, *, init=True, repr=True, eq=True, order=False, unsafe_hash=False, frozen=False)>,\n",
       " 'field': <function dataclasses.field(*, default=<dataclasses._MISSING_TYPE object at 0x7f6d1154fd30>, default_factory=<dataclasses._MISSING_TYPE object at 0x7f6d1154fd30>, init=True, repr=True, hash=None, compare=True, metadata=None)>,\n",
       " 'InitVar': dataclasses.InitVar,\n",
       " 'Enum': <enum 'Enum'>,\n",
       " 'IntEnum': <enum 'IntEnum'>,\n",
       " 'partial': functools.partial,\n",
       " 'reduce': <function _functools.reduce>,\n",
       " 'set_trace': <function pdb.set_trace()>,\n",
       " 'patches': <module 'matplotlib.patches' from '/home/bala/anaconda3/lib/python3.6/site-packages/matplotlib/patches.py'>,\n",
       " 'patheffects': <module 'matplotlib.patheffects' from '/home/bala/anaconda3/lib/python3.6/site-packages/matplotlib/patheffects.py'>,\n",
       " 'array': <function fastai.core.array(a, dtype:type=None, **kwargs) -> numpy.ndarray>,\n",
       " 'cos': <ufunc 'cos'>,\n",
       " 'exp': <ufunc 'exp'>,\n",
       " 'log': <ufunc 'log'>,\n",
       " 'sin': <ufunc 'sin'>,\n",
       " 'tan': <ufunc 'tan'>,\n",
       " 'tanh': <ufunc 'tanh'>,\n",
       " 'attrgetter': operator.attrgetter,\n",
       " 'itemgetter': operator.itemgetter,\n",
       " 'Path': pathlib.Path,\n",
       " 'warn': <function _warnings.warn>,\n",
       " 'contextmanager': <function contextlib.contextmanager(func)>,\n",
       " 'MasterBar': fastprogress.fastprogress.MasterBar,\n",
       " 'ProgressBar': fastprogress.fastprogress.ProgressBar,\n",
       " 'Patch': matplotlib.patches.Patch,\n",
       " 'Series': pandas.core.series.Series,\n",
       " 'DataFrame': pandas.core.frame.DataFrame,\n",
       " 'BufferedWriter': _io.BufferedWriter,\n",
       " 'BytesIO': _io.BytesIO,\n",
       " 'pkg_resources': <module 'pkg_resources' from '/home/bala/anaconda3/lib/python3.6/site-packages/pkg_resources/__init__.py'>,\n",
       " 'master_bar': fastprogress.fastprogress.NBMasterBar,\n",
       " 'progress_bar': fastprogress.fastprogress.NBProgressBar,\n",
       " 'Number': numbers.Number,\n",
       " 'Any': typing.Any,\n",
       " 'AnyStr': ~AnyStr,\n",
       " 'Callable': typing.Callable,\n",
       " 'Collection': typing.Collection,\n",
       " 'Dict': typing.Dict,\n",
       " 'Hashable': collections.abc.Hashable,\n",
       " 'Iterator': typing.Iterator,\n",
       " 'List': typing.List,\n",
       " 'Mapping': typing.Mapping,\n",
       " 'NewType': <function typing.NewType(name, tp)>,\n",
       " 'Optional': typing.Optional,\n",
       " 'Sequence': typing.Sequence,\n",
       " 'Tuple': typing.Tuple,\n",
       " 'TypeVar': typing.TypeVar,\n",
       " 'Union': typing.Union,\n",
       " 'SimpleNamespace': types.SimpleNamespace,\n",
       " 'try_import': <function fastai.imports.core.try_import(module)>,\n",
       " 'have_min_pkg_version': <function fastai.imports.core.have_min_pkg_version(package, version)>,\n",
       " 'AnnealFunc': typing.Callable[[numbers.Number, numbers.Number, float], numbers.Number],\n",
       " 'ArgStar': typing.Collection[typing.Any],\n",
       " 'BatchSamples': typing.Collection[typing.Tuple[typing.Collection[int], int]],\n",
       " 'DataFrameOrChunks': typing.Union[pandas.core.frame.DataFrame, pandas.io.parsers.TextFileReader],\n",
       " 'FilePathList': typing.Collection[pathlib.Path],\n",
       " 'Floats': typing.Union[float, typing.Collection[float]],\n",
       " 'ImgLabel': str,\n",
       " 'ImgLabels': typing.Collection[str],\n",
       " 'IntsOrStrs': typing.Union[int, typing.Collection[int], str, typing.Collection[str]],\n",
       " 'KeyFunc': typing.Callable[[int], int],\n",
       " 'KWArgs': typing.Dict[str, typing.Any],\n",
       " 'ListOrItem': typing.Union[typing.Collection[typing.Any], int, float, str],\n",
       " 'ListRules': typing.Collection[typing.Callable[[str], str]],\n",
       " 'ListSizes': typing.Collection[typing.Tuple[int, int]],\n",
       " 'NPArrayableList': typing.Collection[typing.Union[numpy.ndarray, list]],\n",
       " 'NPArrayList': typing.Collection[numpy.ndarray],\n",
       " 'NPArrayMask': numpy.ndarray,\n",
       " 'NPImage': numpy.ndarray,\n",
       " 'OptDataFrame': typing.Union[pandas.core.frame.DataFrame, NoneType],\n",
       " 'OptListOrItem': typing.Union[typing.Collection[typing.Any], int, float, str, NoneType],\n",
       " 'OptRange': typing.Union[typing.Tuple[float, float], NoneType],\n",
       " 'OptStrTuple': typing.Union[typing.Tuple[str, str], NoneType],\n",
       " 'OptStats': typing.Union[typing.Tuple[numpy.ndarray, numpy.ndarray], NoneType],\n",
       " 'PathOrStr': typing.Union[pathlib.Path, str],\n",
       " 'PathLikeOrBinaryStream': typing.Union[pathlib.Path, str, _io.BufferedWriter, _io.BytesIO],\n",
       " 'PBar': typing.Union[fastprogress.fastprogress.MasterBar, fastprogress.fastprogress.ProgressBar],\n",
       " 'Point': typing.Tuple[float, float],\n",
       " 'Points': typing.Collection[typing.Tuple[float, float]],\n",
       " 'Sizes': typing.List[typing.List[int]],\n",
       " 'SplitArrayList': typing.List[typing.Tuple[numpy.ndarray, numpy.ndarray]],\n",
       " 'StartOptEnd': typing.Union[float, typing.Tuple[float, float]],\n",
       " 'StrList': typing.Collection[str],\n",
       " 'Tokens': typing.Collection[typing.Collection[str]],\n",
       " 'OptStrList': typing.Union[typing.Collection[str], NoneType],\n",
       " 'num_cpus': <function fastai.core.num_cpus() -> int>,\n",
       " 'defaults': namespace(cmap='viridis', cpus=12, return_fig=False, silent=False),\n",
       " 'is_listy': <function fastai.core.is_listy(x:Any) -> bool>,\n",
       " 'is_tuple': <function fastai.core.is_tuple(x:Any) -> bool>,\n",
       " 'is_dict': <function fastai.core.is_dict(x:Any) -> bool>,\n",
       " 'is_pathlike': <function fastai.core.is_pathlike(x:Any) -> bool>,\n",
       " 'noop': <function fastai.core.noop(x)>,\n",
       " 'chunks': <function fastai.core.chunks(l:Collection, n:int) -> collections.abc.Iterable>,\n",
       " 'to_int': <function fastai.core.to_int(b:Any) -> Union[int, List[int]]>,\n",
       " 'ifnone': <function fastai.core.ifnone(a:Any, b:Any) -> Any>,\n",
       " 'is1d': <function fastai.core.is1d(a:Collection) -> bool>,\n",
       " 'uniqueify': <function fastai.core.uniqueify(x:pandas.core.series.Series, sort:bool=False) -> List>,\n",
       " 'idx_dict': <function fastai.core.idx_dict(a)>,\n",
       " 'find_classes': <function fastai.core.find_classes(folder:pathlib.Path) -> Collection[pathlib.Path]>,\n",
       " 'arrays_split': <function fastai.core.arrays_split(mask:numpy.ndarray, *arrs:Collection[Union[numpy.ndarray, list]]) -> List[Tuple[numpy.ndarray, numpy.ndarray]]>,\n",
       " 'random_split': <function fastai.core.random_split(valid_pct:float, *arrs:Collection[Union[numpy.ndarray, list]]) -> List[Tuple[numpy.ndarray, numpy.ndarray]]>,\n",
       " 'listify': <function fastai.core.listify(p:Union[Collection[Any], int, float, str, NoneType]=None, q:Union[Collection[Any], int, float, str, NoneType]=None)>,\n",
       " 'camel2snake': <function fastai.core.camel2snake(name:str) -> str>,\n",
       " 'even_mults': <function fastai.core.even_mults(start:float, stop:float, n:int) -> numpy.ndarray>,\n",
       " 'extract_kwargs': <function fastai.core.extract_kwargs(names:Collection[str], kwargs:Dict[str, Any])>,\n",
       " 'partition': <function fastai.core.partition(a:Collection, sz:int) -> List[Collection]>,\n",
       " 'partition_by_cores': <function fastai.core.partition_by_cores(a:Collection, n_cpus:int) -> List[Collection]>,\n",
       " 'series2cat': <function fastai.core.series2cat(df:pandas.core.frame.DataFrame, *col_names)>,\n",
       " 'TfmList': typing.Union[typing.Callable, typing.Collection[typing.Callable]],\n",
       " 'ItemBase': fastai.core.ItemBase,\n",
       " 'recurse_eq': <function fastai.core.recurse_eq(arr1, arr2)>,\n",
       " 'download_url': <function fastai.core.download_url(url:str, dest:str, overwrite:bool=False, pbar:fastprogress.fastprogress.ProgressBar=None, show_progress=True, chunk_size=1048576, timeout=4, retries=5) -> None>,\n",
       " 'range_of': <function fastai.core.range_of(x)>,\n",
       " 'arange_of': <function fastai.core.arange_of(x)>,\n",
       " 'join_path': <function fastai.core.join_path(fname:Union[pathlib.Path, str], path:Union[pathlib.Path, str]='.') -> pathlib.Path>,\n",
       " 'join_paths': <function fastai.core.join_paths(fnames:Collection[pathlib.Path], path:Union[pathlib.Path, str]='.') -> Collection[pathlib.Path]>,\n",
       " 'loadtxt_str': <function fastai.core.loadtxt_str(path:Union[pathlib.Path, str]) -> numpy.ndarray>,\n",
       " 'save_texts': <function fastai.core.save_texts(fname:Union[pathlib.Path, str], texts:Collection[str])>,\n",
       " 'df_names_to_idx': <function fastai.core.df_names_to_idx(names:Union[int, Collection[int], str, Collection[str]], df:pandas.core.frame.DataFrame)>,\n",
       " 'one_hot': <function fastai.core.one_hot(x:Collection[int], c:int)>,\n",
       " 'index_row': <function fastai.core.index_row(a:Collection, idxs:Collection[int]) -> Any>,\n",
       " 'func_args': <function fastai.core.func_args(func) -> bool>,\n",
       " 'has_arg': <function fastai.core.has_arg(func, arg) -> bool>,\n",
       " 'split_kwargs_by_func': <function fastai.core.split_kwargs_by_func(kwargs, func)>,\n",
       " 'EmptyLabel': fastai.core.EmptyLabel,\n",
       " 'Category': fastai.core.Category,\n",
       " 'MultiCategory': fastai.core.MultiCategory,\n",
       " 'FloatItem': fastai.core.FloatItem,\n",
       " 'text2html_table': <function fastai.core.text2html_table(items:Collection[Collection[str]]) -> str>,\n",
       " 'parallel': <function fastai.core.parallel(func, arr:Collection, max_workers:int=None)>,\n",
       " 'subplots': <function fastai.core.subplots(rows:int, cols:int, imgsize:int=4, figsize:Union[Tuple[int, int], NoneType]=None, title=None, **kwargs)>,\n",
       " 'show_some': <function fastai.core.show_some(items:Collection, n_max:int=5, sep:str=',')>,\n",
       " 'get_tmp_file': <function fastai.core.get_tmp_file(dir=None)>,\n",
       " 'compose': <function fastai.core.compose(funcs:List[Callable]) -> Callable>,\n",
       " 'PrettyString': fastai.core.PrettyString,\n",
       " 'float_or_x': <function fastai.core.float_or_x(x)>,\n",
       " '_i143': 'plt.show(x,y)',\n",
       " '_i144': 'plt.plt(x,y)',\n",
       " '_i145': 'plt.plot(x,y)',\n",
       " '_145': [<matplotlib.lines.Line2D at 0x7f6cd0f4cda0>],\n",
       " '_i146': 'plt.plot(x)',\n",
       " '_146': [<matplotlib.lines.Line2D at 0x7f6cd0eb6080>],\n",
       " '_i147': 'plt.plot(y)',\n",
       " '_147': [<matplotlib.lines.Line2D at 0x7f6cd0e44f60>],\n",
       " '_i148': 'plt.plot(y, linestyle=\"o\")',\n",
       " '_i149': 'plt.plot(y, \"-ok\")',\n",
       " '_149': [<matplotlib.lines.Line2D at 0x7f6cd0c38a20>],\n",
       " '_i150': 'plt.plot(y, \"-or\")',\n",
       " '_150': [<matplotlib.lines.Line2D at 0x7f6cd0ba2128>],\n",
       " '_i151': 'plt.plot(y, \"-r\")',\n",
       " '_151': [<matplotlib.lines.Line2D at 0x7f6cd0b7d6d8>],\n",
       " '_i152': 'plt.plot(y, \"-or\")',\n",
       " '_152': [<matplotlib.lines.Line2D at 0x7f6cd0adac88>],\n",
       " '_i153': 'plt.plot(y, \"or\")',\n",
       " '_153': [<matplotlib.lines.Line2D at 0x7f6cd0ac4278>],\n",
       " '_i154': 'plt.plot(y, \"-or\")',\n",
       " '_154': [<matplotlib.lines.Line2D at 0x7f6cd0a1e828>],\n",
       " '_i155': 'x = np.linspace( 0, 2*np.pi, 100 )',\n",
       " '_i156': 'y = np.sin(x)',\n",
       " '_i157': 'plt.plot(y, \"-or\")',\n",
       " '_157': [<matplotlib.lines.Line2D at 0x7f6cd09fce48>],\n",
       " '_i158': 'import sys\\nsys.modules.keys()',\n",
       " '_158': dict_keys(['builtins', 'sys', '_frozen_importlib', '_imp', '_warnings', '_thread', '_weakref', '_frozen_importlib_external', '_io', 'marshal', 'posix', 'zipimport', 'encodings', 'codecs', '_codecs', 'encodings.aliases', 'encodings.utf_8', '_signal', '__main__', 'encodings.latin_1', 'io', 'abc', '_weakrefset', '_bootlocale', '_locale', 'site', 'os', 'errno', 'stat', '_stat', 'posixpath', 'genericpath', 'os.path', '_collections_abc', '_sitebuiltins', 'sysconfig', '_sysconfigdata_m_linux_x86_64-linux-gnu', 'types', 'functools', '_functools', 'collections', 'operator', '_operator', 'keyword', 'heapq', '_heapq', 'itertools', 'reprlib', '_collections', 'weakref', 'collections.abc', 'importlib', 'importlib._bootstrap', 'importlib._bootstrap_external', 'warnings', 'importlib.util', 'importlib.abc', 'importlib.machinery', 'contextlib', 'backports', 'google', 'mpl_toolkits', 'sphinxcontrib', 'runpy', 'pkgutil', 'ipykernel', 'ipykernel._version', 'ipykernel.connect', '__future__', 'json', 'json.decoder', 're', 'enum', 'sre_compile', '_sre', 'sre_parse', 'sre_constants', 'copyreg', 'json.scanner', '_json', 'json.encoder', 'subprocess', 'time', 'signal', '_posixsubprocess', 'select', 'selectors', 'math', 'threading', 'traceback', 'linecache', 'tokenize', 'token', 'IPython', 'IPython.core', 'IPython.core.getipython', 'IPython.core.release', 'IPython.core.application', 'atexit', 'copy', 'glob', 'fnmatch', 'logging', 'string', '_string', 'shutil', 'zlib', 'bz2', '_compression', '_bz2', 'lzma', '_lzma', 'pwd', 'grp', 'traitlets', 'traitlets.traitlets', 'inspect', 'ast', '_ast', 'dis', 'opcode', '_opcode', 'six', 'struct', '_struct', 'traitlets.utils', 'traitlets.utils.getargspec', 'traitlets.utils.importstring', 'ipython_genutils', 'ipython_genutils._version', 'ipython_genutils.py3compat', 'ipython_genutils.encoding', 'locale', 'platform', 'traitlets.utils.sentinel', 'traitlets.utils.bunch', 'traitlets._version', 'traitlets.config', 'traitlets.config.application', 'decorator', 'traitlets.config.configurable', 'traitlets.config.loader', 'argparse', 'textwrap', 'gettext', 'ipython_genutils.path', 'random', 'hashlib', '_hashlib', '_blake2', '_sha3', 'bisect', '_bisect', '_random', 'ipython_genutils.text', 'ipython_genutils.importstring', 'IPython.core.crashhandler', 'pprint', 'IPython.core.ultratb', 'pydoc', 'urllib', 'urllib.parse', 'IPython.core.debugger', 'bdb', 'IPython.utils', 'IPython.utils.PyColorize', 'IPython.utils.coloransi', 'IPython.utils.ipstruct', 'IPython.utils.colorable', 'pygments', 'pygments.util', 'IPython.utils.py3compat', 'IPython.utils.encoding', 'IPython.core.excolors', 'IPython.testing', 'IPython.testing.skipdoctest', 'pdb', 'cmd', 'code', 'codeop', 'IPython.core.display_trap', 'IPython.utils.openpy', 'IPython.utils.path', 'IPython.utils.process', 'IPython.utils._process_posix', 'pexpect', 'pexpect.exceptions', 'pexpect.utils', 'pexpect.expect', 'pexpect.pty_spawn', 'pty', 'tty', 'termios', 'ptyprocess', 'ptyprocess.ptyprocess', 'fcntl', 'resource', 'ptyprocess.util', 'pexpect.spawnbase', 'pexpect.run', 'IPython.utils._process_common', 'shlex', 'IPython.utils.decorators', 'IPython.utils.data', 'IPython.utils.terminal', 'IPython.utils.sysinfo', 'IPython.utils._sysinfo', 'IPython.core.profiledir', 'IPython.paths', 'tempfile', 'IPython.utils.importstring', 'IPython.terminal', 'IPython.terminal.embed', 'IPython.core.compilerop', 'IPython.core.magic_arguments', 'IPython.core.error', 'IPython.utils.text', 'pathlib', 'ntpath', 'IPython.core.magic', 'getopt', 'IPython.core.oinspect', 'IPython.core.page', 'IPython.core.display', 'binascii', 'mimetypes', 'IPython.lib', 'IPython.lib.security', 'getpass', 'IPython.lib.pretty', 'datetime', '_datetime', 'IPython.utils.signatures', 'IPython.utils.dir2', 'IPython.utils.wildcard', 'pygments.lexers', 'pygments.lexers._mapping', 'pygments.modeline', 'pygments.plugin', 'pygments.lexers.python', 'pygments.lexer', 'pygments.filter', 'pygments.filters', 'pygments.token', 'pygments.regexopt', 'pygments.unistring', 'pygments.formatters', 'pygments.formatters._mapping', 'pygments.formatters.html', 'pygments.formatter', 'pygments.styles', 'IPython.core.inputsplitter', 'IPython.core.inputtransformer', 'IPython.core.splitinput', 'IPython.utils.tokenize2', 'IPython.core.interactiveshell', 'pickleshare', 'pickle', '_compat_pickle', '_pickle', 'IPython.core.prefilter', 'IPython.core.autocall', 'IPython.core.macro', 'IPython.core.alias', 'IPython.core.builtin_trap', 'IPython.core.events', 'backcall', 'backcall.backcall', 'IPython.core.displayhook', 'IPython.core.displaypub', 'IPython.core.extensions', 'IPython.core.formatters', 'IPython.utils.sentinel', 'IPython.core.history', 'sqlite3', 'sqlite3.dbapi2', '_sqlite3', 'IPython.core.logger', 'IPython.core.payload', 'IPython.core.usage', 'IPython.display', 'IPython.lib.display', 'html', 'html.entities', 'IPython.utils.io', 'IPython.utils.capture', 'IPython.utils.strdispatch', 'IPython.core.hooks', 'IPython.utils.syspathcontext', 'IPython.utils.tempdir', 'typing', 'typing.io', 'typing.re', 'IPython.utils.contexts', 'IPython.terminal.interactiveshell', 'prompt_toolkit', 'prompt_toolkit.interface', 'prompt_toolkit.application', 'prompt_toolkit.buffer', 'prompt_toolkit.auto_suggest', 'prompt_toolkit.filters', 'prompt_toolkit.filters.base', 'prompt_toolkit.utils', 'wcwidth', 'wcwidth.wcwidth', 'wcwidth.table_wide', 'wcwidth.table_zero', 'six.moves', 'prompt_toolkit.filters.cli', 'prompt_toolkit.enums', 'prompt_toolkit.key_binding', 'prompt_toolkit.key_binding.vi_state', 'prompt_toolkit.cache', 'prompt_toolkit.filters.types', 'prompt_toolkit.filters.utils', 'prompt_toolkit.clipboard', 'prompt_toolkit.clipboard.base', 'prompt_toolkit.selection', 'prompt_toolkit.clipboard.in_memory', 'prompt_toolkit.completion', 'prompt_toolkit.document', 'prompt_toolkit.history', 'prompt_toolkit.search_state', 'prompt_toolkit.validation', 'prompt_toolkit.buffer_mapping', 'prompt_toolkit.key_binding.bindings', 'prompt_toolkit.key_binding.bindings.basic', 'prompt_toolkit.keys', 'prompt_toolkit.layout', 'prompt_toolkit.layout.containers', 'prompt_toolkit.layout.controls', 'prompt_toolkit.mouse_events', 'prompt_toolkit.token', 'prompt_toolkit.layout.lexers', 'prompt_toolkit.layout.utils', 'prompt_toolkit.layout.processors', 'prompt_toolkit.reactive', 'prompt_toolkit.layout.screen', 'prompt_toolkit.layout.dimension', 'prompt_toolkit.layout.margins', 'prompt_toolkit.renderer', 'prompt_toolkit.layout.mouse_handlers', 'prompt_toolkit.output', 'prompt_toolkit.styles', 'prompt_toolkit.styles.base', 'prompt_toolkit.styles.defaults', 'prompt_toolkit.styles.from_dict', 'prompt_toolkit.styles.utils', 'prompt_toolkit.styles.from_pygments', 'pygments.style', 'pygments.styles.default', 'prompt_toolkit.key_binding.bindings.named_commands', 'prompt_toolkit.key_binding.bindings.completion', 'prompt_toolkit.key_binding.registry', 'prompt_toolkit.key_binding.input_processor', 'prompt_toolkit.key_binding.bindings.emacs', 'prompt_toolkit.key_binding.bindings.scroll', 'prompt_toolkit.key_binding.bindings.vi', 'prompt_toolkit.key_binding.digraphs', 'prompt_toolkit.key_binding.defaults', 'prompt_toolkit.eventloop', 'prompt_toolkit.eventloop.base', 'prompt_toolkit.eventloop.callbacks', 'prompt_toolkit.input', 'prompt_toolkit.terminal', 'prompt_toolkit.terminal.vt100_input', 'prompt_toolkit.shortcuts', 'prompt_toolkit.layout.menus', 'prompt_toolkit.layout.prompt', 'prompt_toolkit.layout.toolbars', 'prompt_toolkit.terminal.vt100_output', 'array', 'prompt_toolkit.key_binding.manager', 'IPython.terminal.debugger', 'IPython.core.completer', 'unicodedata', 'IPython.core.latex_symbols', 'IPython.utils.generics', 'simplegeneric', 'jedi', 'jedi.api', 'parso', 'parso.parser', 'parso.tree', 'parso._compatibility', 'parso.pgen2', 'parso.pgen2.parse', 'parso.python', 'parso.python.tokenize', 'parso.python.token', 'parso.utils', 'parso.grammar', 'parso.pgen2.pgen', 'parso.pgen2.grammar', 'parso.python.diff', 'difflib', 'parso.python.parser', 'parso.python.tree', 'parso.python.prefix', 'parso.cache', 'gc', 'parso.python.errors', 'parso.normalizer', 'parso.python.pep8', 'jedi._compatibility', 'queue', 'jedi.parser_utils', 'jedi.debug', 'colorama', 'colorama.initialise', 'colorama.ansitowin32', 'colorama.ansi', 'colorama.winterm', 'colorama.win32', 'ctypes', '_ctypes', 'ctypes._endian', 'jedi.settings', 'jedi.cache', 'jedi.api.classes', 'jedi.evaluate', 'jedi.evaluate.utils', 'jedi.evaluate.imports', 'jedi.evaluate.sys_path', 'jedi.evaluate.cache', 'jedi.evaluate.base_context', 'jedi.common', 'jedi.common.context', 'jedi.evaluate.helpers', 'jedi.evaluate.compiled', 'jedi.evaluate.compiled.context', 'jedi.evaluate.filters', 'jedi.evaluate.flow_analysis', 'jedi.evaluate.recursion', 'jedi.evaluate.lazy_context', 'jedi.evaluate.compiled.access', 'jedi.evaluate.compiled.getattr_static', 'jedi.evaluate.compiled.fake', 'jedi.common.utils', 'jedi.evaluate.analysis', 'jedi.evaluate.context', 'jedi.evaluate.context.module', 'jedi.evaluate.context.klass', 'jedi.evaluate.context.function', 'jedi.evaluate.docstrings', 'jedi.evaluate.pep0484', 'jedi.evaluate.arguments', 'jedi.evaluate.context.iterable', 'jedi.evaluate.param', 'jedi.evaluate.context.asynchronous', 'jedi.evaluate.parser_cache', 'jedi.evaluate.context.instance', 'jedi.evaluate.syntax_tree', 'jedi.evaluate.finder', 'jedi.api.keywords', 'pydoc_data', 'pydoc_data.topics', 'jedi.api.interpreter', 'jedi.evaluate.compiled.mixed', 'jedi.api.helpers', 'jedi.api.completion', 'jedi.api.environment', 'filecmp', 'distutils', 'distutils.spawn', 'distutils.errors', 'distutils.debug', 'distutils.log', 'jedi.evaluate.compiled.subprocess', 'socket', '_socket', 'jedi.evaluate.compiled.subprocess.functions', 'jedi.api.exceptions', 'jedi.api.project', 'jedi.evaluate.usages', 'IPython.terminal.ptutils', 'IPython.terminal.shortcuts', 'IPython.terminal.magics', 'IPython.lib.clipboard', 'IPython.terminal.pt_inputhooks', 'IPython.terminal.prompts', 'IPython.terminal.ipapp', 'IPython.core.magics', 'IPython.core.magics.auto', 'IPython.core.magics.basic', 'IPython.core.magics.code', 'IPython.core.magics.config', 'IPython.core.magics.display', 'IPython.core.magics.execution', 'timeit', 'cProfile', '_lsprof', 'profile', 'optparse', 'pstats', 'IPython.utils.module_paths', 'imp', 'IPython.utils.timing', 'IPython.core.magics.extension', 'IPython.core.magics.history', 'IPython.core.magics.logging', 'IPython.core.magics.namespace', 'IPython.core.magics.osm', 'IPython.core.magics.pylab', 'IPython.core.pylabtools', 'IPython.core.magics.script', 'IPython.lib.backgroundjobs', 'IPython.core.shellapp', 'IPython.extensions', 'IPython.extensions.storemagic', 'IPython.utils.frame', 'jupyter_client', 'jupyter_client._version', 'jupyter_client.connect', 'zmq', 'zmq.backend', 'zmq.backend.select', 'zmq.backend.cython', 'cython_runtime', 'zmq.backend.cython.constants', '_cython_0_27_3', 'zmq.backend.cython.error', 'zmq.utils', 'zmq.utils.strtypes', 'zmq.backend.cython.message', 'zmq.error', 'zmq.backend.cython.context', 'zmq.backend.cython.socket', 'zmq.backend.cython.utils', 'zmq.backend.cython._poll', 'zmq.backend.cython._version', 'zmq.backend.cython._device', 'zmq.sugar', 'zmq.sugar.constants', 'zmq.utils.constant_names', 'zmq.sugar.context', 'zmq.sugar.attrsettr', 'zmq.sugar.socket', 'zmq.sugar.poll', 'zmq.sugar.frame', 'zmq.sugar.tracker', 'zmq.sugar.version', 'zmq.sugar.stopwatch', 'jupyter_client.localinterfaces', 'jupyter_core', 'jupyter_core.version', 'jupyter_core.paths', 'jupyter_client.launcher', 'traitlets.log', 'jupyter_client.client', 'jupyter_client.channels', 'jupyter_client.channelsabc', 'jupyter_client.clientabc', 'jupyter_client.manager', 'jupyter_client.kernelspec', 'jupyter_client.managerabc', 'jupyter_client.blocking', 'jupyter_client.blocking.client', 'jupyter_client.blocking.channels', 'jupyter_client.multikernelmanager', 'uuid', 'ctypes.util', 'ipykernel.kernelapp', 'tornado', 'tornado.ioloop', 'numbers', 'tornado.concurrent', 'tornado.log', 'logging.handlers', 'tornado.escape', 'tornado.util', 'curses', '_curses', 'tornado.stack_context', 'concurrent', 'concurrent.futures', 'concurrent.futures._base', 'concurrent.futures.process', 'multiprocessing', 'multiprocessing.context', 'multiprocessing.process', 'multiprocessing.reduction', '__mp_main__', 'multiprocessing.connection', '_multiprocessing', 'multiprocessing.util', 'concurrent.futures.thread', 'asyncio', 'asyncio.base_events', 'asyncio.compat', 'asyncio.coroutines', 'asyncio.constants', 'asyncio.events', 'asyncio.base_futures', 'asyncio.log', 'asyncio.futures', 'asyncio.base_tasks', '_asyncio', 'asyncio.tasks', 'asyncio.locks', 'asyncio.protocols', 'asyncio.queues', 'asyncio.streams', 'asyncio.subprocess', 'asyncio.transports', 'asyncio.unix_events', 'asyncio.base_subprocess', 'asyncio.selector_events', 'ssl', 'ipaddress', '_ssl', 'base64', 'asyncio.sslproto', 'tornado.platform', 'tornado.platform.auto', 'tornado.platform.posix', 'tornado.platform.common', 'tornado.platform.interface', 'zmq.eventloop', 'zmq.eventloop.ioloop', 'tornado.platform.asyncio', 'tornado.gen', 'zmq.eventloop.zmqstream', 'zmq.utils.jsonapi', 'ipykernel.iostream', 'jupyter_client.session', 'hmac', 'jupyter_client.jsonutil', 'dateutil', 'dateutil._version', 'dateutil.parser', 'dateutil.parser._parser', 'calendar', 'decimal', '_decimal', 'dateutil.relativedelta', 'dateutil._common', 'dateutil.tz', 'dateutil.tz.tz', 'dateutil.tz._common', 'dateutil.tz._factories', 'dateutil.parser.isoparser', '_strptime', 'jupyter_client.adapter', 'ipykernel.heartbeat', 'ipykernel.ipkernel', 'IPython.utils.tokenutil', 'ipykernel.comm', 'ipykernel.comm.manager', 'ipykernel.comm.comm', 'ipykernel.kernelbase', 'ipykernel.jsonutil', 'ipykernel.zmqshell', 'IPython.core.payloadpage', 'ipykernel.displayhook', 'ipykernel.parentpoller', 'faulthandler', 'ipykernel.datapub', 'ipykernel.serialize', 'ipykernel.pickleutil', 'ipyparallel', 'ipyparallel._version', 'ipyparallel.serialize', 'ipyparallel.serialize.canning', 'ipyparallel.serialize.codeutil', 'ipyparallel.serialize.serialize', 'ipyparallel.client', 'ipyparallel.client.asyncresult', 'ipyparallel.error', 'ipyparallel.util', 'zmq.log', 'zmq.log.handlers', 'distutils.version', 'ipyparallel.client.futures', 'ipyparallel.client.client', 'ipyparallel.client.view', 'ipyparallel.controller', 'ipyparallel.controller.dependency', 'ipyparallel.client.map', 'ipyparallel.client.remotefunction', 'IPython.core.completerlib', 'storemagic', 'ipywidgets', 'ipywidgets._version', 'ipywidgets.widgets', 'ipywidgets.widgets.widget', 'ipywidgets.widgets.domwidget', 'ipywidgets.widgets.trait_types', 'ipywidgets.widgets.widget_layout', 'ipywidgets.widgets.widget_style', 'ipywidgets.widgets.valuewidget', 'ipywidgets.widgets.widget_core', 'ipywidgets.widgets.widget_bool', 'ipywidgets.widgets.widget_description', 'ipywidgets.widgets.widget_button', 'ipywidgets.widgets.widget_box', 'ipywidgets.widgets.docutils', 'ipywidgets.widgets.widget_float', 'ipywidgets.widgets.widget_int', 'ipywidgets.widgets.widget_image', 'ipywidgets.widgets.widget_color', 'ipywidgets.widgets.widget_date', 'ipywidgets.widgets.widget_output', 'ipywidgets.widgets.widget_selection', 'ipywidgets.widgets.widget_selectioncontainer', 'ipywidgets.widgets.widget_string', 'ipywidgets.widgets.widget_controller', 'ipywidgets.widgets.interaction', 'ipywidgets.widgets.widget_link', 'numpy', 'numpy._globals', 'numpy.__config__', 'numpy.version', 'numpy._import_tools', 'numpy.add_newdocs', 'numpy.lib', 'numpy.lib.info', 'numpy.lib.type_check', 'numpy.core', 'numpy.core.info', 'numpy.core.multiarray', 'numpy.core.umath', 'numpy.core._internal', 'numpy.compat', 'numpy.compat._inspect', 'numpy.compat.py3k', 'numpy.core.numerictypes', 'numpy.core.numeric', 'numpy.core.fromnumeric', 'numpy.core._methods', 'numpy.core.arrayprint', 'numpy.core.defchararray', 'numpy.core.records', 'numpy.core.memmap', 'numpy.core.function_base', 'numpy.core.machar', 'numpy.core.getlimits', 'numpy.core.shape_base', 'numpy.core.einsumfunc', 'numpy.testing', 'unittest', 'unittest.result', 'unittest.util', 'unittest.case', 'unittest.suite', 'unittest.loader', 'unittest.main', 'unittest.runner', 'unittest.signals', 'numpy.testing._private', 'numpy.testing._private.utils', 'numpy.lib.utils', 'numpy.testing._private.decorators', 'numpy.testing._private.nosetester', 'numpy.testing._private.pytesttester', 'numpy.lib.ufunclike', 'numpy.lib.index_tricks', 'numpy.lib.function_base', 'numpy.lib.twodim_base', 'numpy.lib.histograms', 'numpy.matrixlib', 'numpy.matrixlib.defmatrix', 'numpy.linalg', 'numpy.linalg.info', 'numpy.linalg.linalg', 'numpy.linalg.lapack_lite', 'numpy.linalg._umath_linalg', 'numpy.lib.stride_tricks', 'numpy.lib.mixins', 'numpy.lib.nanfunctions', 'numpy.lib.shape_base', 'numpy.lib.scimath', 'numpy.lib.polynomial', 'numpy.lib.arraysetops', 'numpy.lib.npyio', 'numpy.lib.format', 'numpy.lib._datasource', 'numpy.lib._iotools', 'numpy.lib.financial', 'numpy.lib.arrayterator', 'numpy.lib.arraypad', 'numpy.lib._version', 'numpy.core._multiarray_tests', 'numpy._distributor_init', 'numpy._mklinit', 'numpy.fft', 'numpy.fft.info', 'numpy.fft.fftpack', 'numpy.fft.fftpack_lite', 'numpy.fft.helper', 'mkl_fft', '_cython_0_28_5', 'mkl_fft._pydfti', 'mkl_fft._version', 'mkl_fft._numpy_fft', 'numpy.polynomial', 'numpy.polynomial.polynomial', 'numpy.polynomial.polyutils', 'numpy.polynomial._polybase', 'numpy.polynomial.chebyshev', 'numpy.polynomial.legendre', 'numpy.polynomial.hermite', 'numpy.polynomial.hermite_e', 'numpy.polynomial.laguerre', 'numpy.random', 'numpy.random.info', 'numpy.random.mtrand', 'mtrand', 'numpy.ctypeslib', 'numpy.ma', 'numpy.ma.core', 'numpy.ma.extras', 'fastai', 'fastai.version', 'fastai.core', 'fastai.imports', 'fastai.imports.core', 'csv', '_csv', 'gzip', 'yaml', 'yaml.error', 'yaml.tokens', 'yaml.events', 'yaml.nodes', 'yaml.loader', 'yaml.reader', 'yaml.scanner', 'yaml.parser', 'yaml.composer', 'yaml.constructor', 'yaml.resolver', 'yaml.dumper', 'yaml.emitter', 'yaml.serializer', 'yaml.representer', 'yaml.cyaml', '_yaml', 'matplotlib', 'urllib.request', 'email', 'http', 'http.client', 'email.parser', 'email.feedparser', 'email.errors', 'email._policybase', 'email.header', 'email.quoprimime', 'email.base64mime', 'email.charset', 'email.encoders', 'quopri', 'email.utils', 'email._parseaddr', 'email.message', 'uu', 'email._encoded_words', 'email.iterators', 'urllib.error', 'urllib.response', 'matplotlib.cbook', 'matplotlib.cbook.deprecation', 'matplotlib.rcsetup', 'matplotlib.fontconfig_pattern', 'pyparsing', 'matplotlib.colors', 'matplotlib._color_data', 'cycler', 'matplotlib._version', 'matplotlib.pyplot', 'matplotlib.colorbar', 'matplotlib.artist', 'matplotlib.docstring', 'matplotlib.path', 'matplotlib._path', 'matplotlib.transforms', 'matplotlib.collections', 'matplotlib.cm', 'matplotlib._cm', 'matplotlib._cm_listed', 'matplotlib.lines', 'matplotlib.markers', 'matplotlib.contour', 'matplotlib._contour', 'matplotlib.ticker', 'matplotlib.font_manager', 'matplotlib.afm', 'matplotlib._mathtext_data', 'matplotlib.ft2font', 'matplotlib.text', 'matplotlib.patches', 'matplotlib.bezier', 'matplotlib.textpath', 'matplotlib.dviread', 'matplotlib.mathtext', 'matplotlib._png', 'matplotlib.texmanager', 'matplotlib.blocking_input', 'matplotlib.gridspec', 'matplotlib._pylab_helpers', 'matplotlib.tight_layout', 'matplotlib._layoutbox', 'kiwisolver', 'matplotlib._constrained_layout', 'matplotlib.legend', 'matplotlib.offsetbox', 'matplotlib.image', 'matplotlib.backend_bases', 'matplotlib.backend_tools', 'matplotlib.tight_bbox', 'matplotlib.widgets', 'PIL', 'PIL._version', 'PIL.Image', 'PIL._util', 'PIL.ImageMode', 'PIL._binary', 'PIL._imaging', 'cffi', 'cffi.api', 'cffi.lock', 'cffi.error', 'cffi.model', 'matplotlib._image', 'matplotlib.container', 'matplotlib.legend_handler', 'matplotlib.style', 'matplotlib.style.core', 'matplotlib.figure', 'matplotlib.backends', 'matplotlib.axes', 'matplotlib.axes._subplots', 'matplotlib.axes._axes', 'matplotlib.category', 'matplotlib.units', 'matplotlib.dates', 'dateutil.rrule', 'matplotlib.mlab', 'matplotlib.quiver', 'matplotlib.stackplot', 'matplotlib.streamplot', 'matplotlib.table', 'matplotlib.tri', 'matplotlib.tri.triangulation', 'matplotlib._tri', 'matplotlib._qhull', 'matplotlib.tri.tricontour', 'matplotlib.tri.tritools', 'matplotlib.tri.trifinder', 'matplotlib.tri.triinterpolate', 'matplotlib.tri.trirefine', 'matplotlib.tri.tripcolor', 'matplotlib.tri.triplot', 'matplotlib.axes._base', 'matplotlib.axis', 'matplotlib.scale', 'matplotlib.spines', 'matplotlib.projections', 'matplotlib.projections.geo', 'matplotlib.projections.polar', 'ipykernel.pylab', 'ipykernel.pylab.backend_inline', 'matplotlib.backends.backend_agg', 'matplotlib.backends._backend_agg', 'ipykernel.pylab.config', 'pandas', 'pytz', 'pytz.exceptions', 'pytz.lazy', 'pytz.tzinfo', 'pytz.tzfile', 'pandas.compat', 'pandas.compat.chainmap', 'pandas.compat.numpy', 'pandas._libs', 'pandas._libs.tslibs', 'pandas._libs.tslibs.conversion', '_cython_0_28_2', 'pandas._libs.tslibs.nattype', 'pandas._libs.tslibs.np_datetime', 'pandas._libs.tslibs.timedeltas', 'pandas._libs.tslibs.offsets', 'pandas._libs.tslibs.ccalendar', 'pandas._libs.tslibs.strptime', 'pandas._libs.tslibs.timezones', 'pandas._libs.tslibs.parsing', 'pandas._libs.tslibs.period', 'pandas._libs.tslibs.frequencies', 'pandas._libs.tslibs.timestamps', 'pandas._libs.tslibs.fields', 'pandas._libs.tslibs.resolution', 'pandas._libs.hashtable', 'pandas._libs.missing', 'pandas._libs.lib', 'fractions', 'pandas._libs.tslib', 'pandas.core', 'pandas.core.config_init', 'pandas.core.config', 'pandas.io', 'pandas.io.formats', 'pandas.io.formats.printing', 'pandas.core.dtypes', 'pandas.core.dtypes.inference', 'pandas.io.formats.console', 'pandas.io.formats.terminal', 'pandas.core.api', 'pandas.core.arrays', 'pandas.core.arrays.array_', 'pandas.core.dtypes.common', 'pandas._libs.algos', 'pandas.core.dtypes.dtypes', 'pandas._libs.interval', 'pandas.core.dtypes.generic', 'pandas.core.dtypes.base', 'pandas.errors', 'pandas.core.arrays.base', 'pandas.compat.numpy.function', 'pandas.util', 'pandas.util._decorators', 'pandas._libs.properties', 'pandas.core.util', 'pandas.core.util.hashing', 'pandas._libs.hashing', 'pandas.core.dtypes.cast', 'pandas.core.dtypes.missing', 'pandas.util._validators', 'pandas.core.ops', 'pandas._libs.ops', 'pandas.core.common', 'pandas.core.missing', 'pandas.core.arrays.categorical', 'pandas.core.accessor', 'pandas.core.algorithms', 'pandas.core.base', 'pandas.core.nanops', 'bottleneck', 'bottleneck.reduce', 'bottleneck.nonreduce', 'bottleneck.nonreduce_axis', 'bottleneck.move', 'bottleneck.slow', 'bottleneck.slow.reduce', 'bottleneck.slow.nonreduce', 'bottleneck.slow.nonreduce_axis', 'bottleneck.slow.move', 'bottleneck.version', 'bottleneck.benchmark', 'bottleneck.benchmark.bench', 'bottleneck.benchmark.autotimeit', 'bottleneck.benchmark.bench_detailed', 'bottleneck.tests', 'bottleneck.tests.util', 'pandas.tseries', 'pandas.tseries.offsets', 'dateutil.easter', 'pandas.core.tools', 'pandas.core.tools.datetimes', 'pandas.core.sorting', 'pandas.core.arrays.datetimes', 'pandas.core.arrays.datetimelike', 'pandas.tseries.frequencies', 'pandas.core.arrays._ranges', 'pandas.core.arrays.interval', 'pandas.util._doctools', 'pandas.core.indexes', 'pandas.core.indexes.base', 'pandas._libs.index', 'pandas._libs.join', 'pandas.core.dtypes.concat', 'pandas.core.indexes.frozen', 'pandas.core.strings', 'pandas.core.arrays.period', 'pandas.core.arrays.timedeltas', 'pandas.core.arrays.integer', 'pandas.core.tools.numeric', 'pandas.core.arrays.sparse', 'pandas._libs.sparse', 'pandas.core.arrays.numpy_', 'pandas.core.groupby', 'pandas.core.groupby.groupby', 'pandas._libs.groupby', 'pandas.core.frame', 'pandas.core.generic', 'pandas.core.index', 'pandas.core.indexes.api', 'pandas.core.indexes.category', 'pandas.core.indexes.datetimes', 'pandas.core.indexes.datetimelike', 'pandas.core.tools.timedeltas', 'pandas.core.indexes.numeric', 'pandas.core.indexes.interval', 'pandas.util._exceptions', 'pandas.core.indexes.multi', 'pandas.core.indexes.timedeltas', 'pandas.core.indexes.period', 'pandas.core.indexes.range', 'pandas.core.indexing', 'pandas._libs.indexing', 'pandas.core.internals', 'pandas.core.internals.blocks', 'pandas._libs.internals', 'pandas.core.internals.arrays', 'pandas.core.internals.managers', 'pandas.core.internals.concat', 'pandas.io.formats.format', 'pandas.io.common', 'mmap', 'zipfile', 'pandas.core.internals.construction', 'pandas.core.series', 'pandas.core.indexes.accessors', 'pandas.plotting', 'pandas.plotting._misc', 'pandas.plotting._style', 'pandas.plotting._tools', 'pandas.plotting._core', 'pandas.plotting._compat', 'pandas.plotting._converter', 'pandas.core.window', 'pandas._libs.window', 'pandas._libs.skiplist', 'pandas.core.groupby.base', 'pandas.core.groupby.generic', 'pandas.core.panel', 'pandas.core.reshape', 'pandas.core.reshape.util', 'pandas.core.groupby.grouper', 'pandas.core.groupby.ops', 'pandas._libs.reduction', 'pandas.core.reshape.reshape', 'pandas._libs.reshape', 'pandas.core.sparse', 'pandas.core.sparse.api', 'pandas.core.sparse.frame', 'pandas.core.sparse.series', 'pandas.core.sparse.scipy_sparse', 'pandas.tseries.api', 'pandas.core.computation', 'pandas.core.computation.api', 'pandas.core.computation.eval', 'pandas.core.computation.engines', 'pandas.core.computation.align', 'pandas.core.computation.common', 'pandas.core.computation.ops', 'pandas.core.computation.scope', 'pandas.core.reshape.api', 'pandas.core.reshape.concat', 'pandas.core.reshape.melt', 'pandas.core.reshape.merge', 'pandas.core.reshape.pivot', 'pandas.core.reshape.tile', 'pandas.util._print_versions', 'pandas.io.api', 'pandas.io.clipboards', 'pandas.io.excel', 'pandas._libs.json', 'pandas.io.parsers', 'pandas._libs.parsers', 'pandas.io.date_converters', 'pandas.io.feather_format', 'pandas.io.gbq', 'pandas.io.html', 'pandas.io.json', 'pandas.io.json.json', 'pandas.io.json.normalize', 'pandas._libs.writers', 'pandas.io.json.table_schema', 'pandas.api', 'pandas.api.types', 'pandas.core.dtypes.api', 'pandas.api.extensions', 'pandas.io.packers', 'pandas.util._move', 'pandas.io.msgpack', 'pandas.io.msgpack.exceptions', 'pandas.io.msgpack._version', 'pandas.io.msgpack._packer', 'pandas.io.msgpack._unpacker', 'pandas.io.parquet', 'pandas.io.pickle', 'pandas.compat.pickle_compat', 'pandas.io.pytables', 'pandas.core.computation.pytables', 'pandas.core.computation.expr', 'pandas.io.sas', 'pandas.io.sas.sasreader', 'pandas.io.sql', 'pandas.io.stata', 'pandas.util._tester', 'pandas.testing', 'pandas.util.testing', 'pandas._libs.testing', 'pandas.arrays', 'pandas._version', 'scipy', 'scipy._distributor_init', 'scipy.__config__', 'scipy.version', 'scipy._lib', 'scipy._lib._testutils', 'scipy._lib._version', 'scipy._lib.six', 'scipy._lib._ccallback', 'scipy._lib._ccallback_c', 'scipy.stats', 'scipy.stats.stats', 'scipy.special', 'scipy.special.sf_error', 'scipy.special._ufuncs', 'scipy.special._ufuncs_cxx', 'scipy.special.basic', 'scipy.special.specfun', 'scipy.special.orthogonal', 'scipy.linalg', 'scipy.linalg.linalg_version', 'scipy.linalg.misc', 'scipy.linalg.blas', 'scipy.linalg._fblas', 'scipy.linalg.lapack', 'scipy.linalg._flapack', 'scipy._lib._util', 'scipy.linalg.basic', 'scipy.linalg.flinalg', 'scipy.linalg._flinalg', 'scipy.linalg.decomp', 'scipy.linalg.decomp_svd', 'scipy.linalg._solve_toeplitz', 'scipy.linalg.decomp_lu', 'scipy.linalg._decomp_ldl', 'scipy.linalg.decomp_cholesky', 'scipy.linalg.decomp_qr', 'scipy.linalg._decomp_qz', 'scipy.linalg.decomp_schur', 'scipy.linalg._decomp_polar', 'scipy.linalg.matfuncs', 'scipy.linalg.special_matrices', 'scipy.linalg._expm_frechet', 'scipy.linalg._matfuncs_sqrtm', 'scipy.linalg._solvers', 'scipy.linalg._procrustes', 'scipy.linalg._decomp_update', 'scipy.linalg.cython_blas', 'scipy.linalg.cython_lapack', 'scipy.linalg._sketches', 'numpy.dual', 'scipy.special._comb', 'scipy.special._logsumexp', 'scipy.special.spfun_stats', 'scipy.special._ellip_harm', 'scipy.special._ellip_harm_2', 'scipy.special.lambertw', 'scipy.special._spherical_bessel', 'scipy.stats.distributions', 'scipy.stats._distn_infrastructure', 'scipy.misc', 'scipy.misc.doccer', 'scipy.misc.common', 'scipy.interpolate', 'scipy.interpolate.interpolate', 'scipy.interpolate.fitpack', 'scipy.interpolate._fitpack_impl', 'scipy.interpolate._fitpack', 'scipy.interpolate.dfitpack', 'scipy.interpolate._bsplines', 'scipy.interpolate._bspl', 'scipy.interpolate.polyint', 'scipy.interpolate._ppoly', 'scipy.interpolate.fitpack2', 'scipy.interpolate.interpnd', 'scipy.spatial', 'scipy.spatial.kdtree', 'scipy.sparse', 'scipy.sparse.base', 'scipy._lib._numpy_compat', 'scipy.sparse.sputils', 'scipy.sparse.csr', 'scipy.sparse._sparsetools', 'scipy.sparse.compressed', 'scipy.sparse.data', 'scipy.sparse.dia', 'scipy.sparse.csc', 'scipy.sparse.lil', 'scipy.sparse._csparsetools', 'scipy.sparse.dok', 'scipy.sparse.coo', 'scipy.sparse.bsr', 'scipy.sparse.construct', 'scipy.sparse.extract', 'scipy.sparse._matrix_io', 'scipy.sparse.csgraph', 'scipy.sparse.csgraph._laplacian', 'scipy.sparse.csgraph._shortest_path', 'scipy.sparse.csgraph._validation', 'scipy.sparse.csgraph._tools', 'scipy.sparse.csgraph._traversal', 'scipy.sparse.csgraph._min_spanning_tree', 'scipy.sparse.csgraph._reordering', 'scipy.spatial.ckdtree', 'scipy.spatial.qhull', 'scipy._lib.messagestream', 'scipy.spatial._spherical_voronoi', 'numpy.matlib', 'scipy.spatial._voronoi', 'scipy.spatial.distance', 'scipy.spatial._distance_wrap', 'scipy.spatial._hausdorff', 'scipy.spatial._plotutils', 'scipy._lib.decorator', 'scipy.spatial._procrustes', 'scipy.interpolate.rbf', 'scipy.interpolate._cubic', 'scipy.interpolate.ndgriddata', 'scipy.interpolate._pade', 'scipy.misc.pilutil', 'PIL.ImageFilter', 'scipy.stats._distr_params', 'scipy.optimize', 'scipy.optimize.optimize', 'scipy.optimize.linesearch', 'scipy.optimize.minpack2', 'scipy.optimize._minimize', 'scipy.sparse.linalg', 'scipy.sparse.linalg.isolve', 'scipy.sparse.linalg.isolve.iterative', 'scipy.sparse.linalg.isolve._iterative', 'scipy.sparse.linalg.interface', 'scipy.sparse.linalg.isolve.utils', 'scipy._lib._threadsafety', 'scipy.sparse.linalg.isolve.minres', 'scipy.sparse.linalg.isolve.lgmres', 'scipy.sparse.linalg.isolve._gcrotmk', 'scipy.sparse.linalg.isolve.lsqr', 'scipy.sparse.linalg.isolve.lsmr', 'scipy.sparse.linalg.dsolve', 'scipy.sparse.linalg.dsolve.linsolve', 'scipy.sparse.linalg.dsolve._superlu', 'scipy.sparse.linalg.dsolve._add_newdocs', 'scipy.sparse.linalg.eigen', 'scipy.sparse.linalg.eigen.arpack', 'scipy.sparse.linalg.eigen.arpack.arpack', 'scipy.sparse.linalg.eigen.arpack._arpack', 'scipy.sparse.linalg.eigen.lobpcg', 'scipy.sparse.linalg.eigen.lobpcg.lobpcg', 'scipy.sparse.linalg.matfuncs', 'scipy.sparse.linalg._onenormest', 'scipy.sparse.linalg._norm', 'scipy.sparse.linalg._expm_multiply', 'scipy.optimize._trustregion_dogleg', 'scipy.optimize._trustregion', 'scipy.optimize._trustregion_ncg', 'scipy.optimize._trustregion_krylov', 'scipy.optimize._trlib', 'scipy.optimize._trlib._trlib', 'scipy.optimize._trustregion_exact', 'scipy.optimize._trustregion_constr', 'scipy.optimize._trustregion_constr.minimize_trustregion_constr', 'scipy.optimize._differentiable_functions', 'scipy.optimize._numdiff', 'scipy.optimize._group_columns', 'scipy.optimize._hessian_update_strategy', 'scipy.optimize._constraints', 'scipy.optimize._trustregion_constr.equality_constrained_sqp', 'scipy.optimize._trustregion_constr.projections', 'scipy.optimize._trustregion_constr.qp_subproblem', 'scipy.optimize._trustregion_constr.canonical_constraint', 'scipy.optimize._trustregion_constr.tr_interior_point', 'scipy.optimize._trustregion_constr.report', 'scipy.optimize.lbfgsb', 'scipy.optimize._lbfgsb', 'scipy.optimize.tnc', 'scipy.optimize.moduleTNC', 'scipy.optimize.cobyla', 'scipy.optimize._cobyla', 'scipy.optimize.slsqp', 'scipy.optimize._slsqp', 'scipy.optimize._root', 'scipy.optimize.minpack', 'scipy.optimize._minpack', 'scipy.optimize._lsq', 'scipy.optimize._lsq.least_squares', 'scipy.optimize._lsq.trf', 'scipy.optimize._lsq.common', 'scipy.optimize._lsq.dogbox', 'scipy.optimize._lsq.lsq_linear', 'scipy.optimize._lsq.trf_linear', 'scipy.optimize._lsq.givens_elimination', 'scipy.optimize._lsq.bvls', 'scipy.optimize._spectral', 'scipy.optimize.nonlin', 'scipy.optimize.zeros', 'scipy.optimize._zeros', 'scipy.optimize.nnls', 'scipy.optimize._nnls', 'scipy.optimize._basinhopping', 'scipy.optimize._linprog', 'scipy.optimize._linprog_ip', 'scipy.optimize._remove_redundancy', 'scipy.optimize._hungarian', 'scipy.optimize._differentialevolution', 'scipy.integrate', 'scipy.integrate.quadrature', 'scipy.integrate.odepack', 'scipy.integrate._odepack', 'scipy.integrate.quadpack', 'scipy.integrate._quadpack', 'scipy.integrate._ode', 'scipy.integrate.vode', 'scipy.integrate._dop', 'scipy.integrate.lsoda', 'scipy.integrate._bvp', 'scipy.integrate._ivp', 'scipy.integrate._ivp.ivp', 'scipy.integrate._ivp.bdf', 'scipy.integrate._ivp.common', 'scipy.integrate._ivp.base', 'scipy.integrate._ivp.radau', 'scipy.integrate._ivp.rk', 'scipy.integrate._ivp.lsoda', 'scipy.stats._constants', 'scipy.stats._continuous_distns', 'scipy.stats._stats', 'scipy.stats._tukeylambda_stats', 'scipy.stats._discrete_distns', 'scipy.stats.mstats_basic', 'scipy.stats._stats_mstats_common', 'scipy.stats.morestats', 'scipy.stats.statlib', 'scipy.stats.contingency', 'scipy.stats._binned_statistic', 'scipy.stats.kde', 'scipy.stats.mvn', 'scipy.stats.mstats', 'scipy.stats.mstats_extras', 'scipy.stats._multivariate', 'requests', 'urllib3', 'urllib3.connectionpool', 'urllib3.exceptions', 'urllib3.packages', 'urllib3.packages.ssl_match_hostname', 'urllib3.packages.six', 'urllib3.packages.six.moves', 'urllib3.packages.six.moves.http_client', 'urllib3.connection', 'urllib3.util', 'urllib3.util.connection', 'urllib3.util.wait', 'urllib3.util.selectors', 'urllib3.util.request', 'urllib3.util.response', 'urllib3.util.ssl_', 'urllib3.util.timeout', 'urllib3.util.retry', 'urllib3.util.url', 'urllib3._collections', 'urllib3.request', 'urllib3.filepost', 'urllib3.fields', 'urllib3.packages.six.moves.urllib', 'urllib3.packages.six.moves.urllib.parse', 'urllib3.response', 'urllib3.poolmanager', 'chardet', 'chardet.compat', 'chardet.universaldetector', 'chardet.charsetgroupprober', 'chardet.enums', 'chardet.charsetprober', 'chardet.escprober', 'chardet.codingstatemachine', 'chardet.escsm', 'chardet.latin1prober', 'chardet.mbcsgroupprober', 'chardet.utf8prober', 'chardet.mbcssm', 'chardet.sjisprober', 'chardet.mbcharsetprober', 'chardet.chardistribution', 'chardet.euctwfreq', 'chardet.euckrfreq', 'chardet.gb2312freq', 'chardet.big5freq', 'chardet.jisfreq', 'chardet.jpcntx', 'chardet.eucjpprober', 'chardet.gb2312prober', 'chardet.euckrprober', 'chardet.cp949prober', 'chardet.big5prober', 'chardet.euctwprober', 'chardet.sbcsgroupprober', 'chardet.sbcharsetprober', 'chardet.langcyrillicmodel', 'chardet.langgreekmodel', 'chardet.langbulgarianmodel', 'chardet.langthaimodel', 'chardet.langhebrewmodel', 'chardet.hebrewprober', 'chardet.langturkishmodel', 'chardet.version', 'requests.exceptions', 'urllib3.contrib', 'urllib3.contrib.pyopenssl', 'OpenSSL', 'OpenSSL.crypto', 'cryptography', 'cryptography.__about__', 'cryptography.x509', 'cryptography.x509.certificate_transparency', 'cryptography.x509.base', 'cryptography.utils', 'cryptography.hazmat', 'cryptography.hazmat.primitives', 'cryptography.hazmat.primitives.asymmetric', 'cryptography.hazmat.primitives.asymmetric.dsa', 'cryptography.hazmat.primitives.asymmetric.ec', 'cryptography.hazmat._oid', 'cryptography.hazmat.primitives.asymmetric.rsa', 'cryptography.exceptions', 'cryptography.hazmat.backends', 'cryptography.hazmat.backends.interfaces', 'cryptography.x509.extensions', 'asn1crypto', 'asn1crypto.version', 'asn1crypto.keys', 'asn1crypto._elliptic_curve', 'asn1crypto._int', 'asn1crypto.util', 'asn1crypto._errors', 'asn1crypto._iri', 'encodings.idna', 'stringprep', 'asn1crypto._types', 'asn1crypto._ordereddict', 'asn1crypto._ffi', 'asn1crypto._perf', 'asn1crypto._perf._big_num_ctypes', 'asn1crypto.algos', 'asn1crypto.core', 'asn1crypto._teletex_codec', 'asn1crypto.parser', 'cryptography.hazmat.primitives.constant_time', 'cryptography.hazmat.bindings', '_cffi_backend', '_constant_time.lib', '_constant_time', 'cryptography.hazmat.bindings._constant_time', 'cryptography.hazmat.primitives.serialization', 'cryptography.hazmat.primitives.serialization.base', 'cryptography.hazmat.primitives.serialization.ssh', 'cryptography.hazmat.primitives.asymmetric.ed25519', 'cryptography.x509.general_name', 'cryptography.x509.name', 'cryptography.x509.oid', 'cryptography.hazmat.primitives.hashes', 'OpenSSL._util', 'cryptography.hazmat.bindings.openssl', 'cryptography.hazmat.bindings.openssl.binding', '_openssl.lib', '_openssl', 'cryptography.hazmat.bindings._openssl', 'cryptography.hazmat.bindings.openssl._conditional', 'OpenSSL.SSL', 'OpenSSL.version', 'cryptography.hazmat.backends.openssl', 'cryptography.hazmat.backends.openssl.backend', 'cryptography.hazmat.backends.openssl.aead', 'cryptography.hazmat.backends.openssl.ciphers', 'cryptography.hazmat.primitives.ciphers', 'cryptography.hazmat.primitives.ciphers.base', 'cryptography.hazmat.primitives.ciphers.modes', 'cryptography.hazmat.backends.openssl.cmac', 'cryptography.hazmat.primitives.mac', 'cryptography.hazmat.backends.openssl.decode_asn1', 'cryptography.hazmat.backends.openssl.dh', 'cryptography.hazmat.primitives.asymmetric.dh', 'cryptography.hazmat.backends.openssl.dsa', 'cryptography.hazmat.backends.openssl.utils', 'cryptography.hazmat.primitives.asymmetric.utils', 'cryptography.hazmat.backends.openssl.ec', 'cryptography.hazmat.backends.openssl.ed25519', 'cryptography.hazmat.backends.openssl.ed448', 'cryptography.hazmat.primitives.asymmetric.ed448', 'cryptography.hazmat.backends.openssl.encode_asn1', 'cryptography.hazmat.backends.openssl.hashes', 'cryptography.hazmat.backends.openssl.hmac', 'cryptography.hazmat.backends.openssl.ocsp', 'cryptography.hazmat.backends.openssl.x509', 'cryptography.x509.ocsp', 'cryptography.hazmat.backends.openssl.rsa', 'cryptography.hazmat.primitives.asymmetric.padding', 'cryptography.hazmat.backends.openssl.x25519', 'cryptography.hazmat.primitives.asymmetric.x25519', 'cryptography.hazmat.backends.openssl.x448', 'cryptography.hazmat.primitives.asymmetric.x448', 'cryptography.hazmat.primitives.ciphers.algorithms', 'cryptography.hazmat.primitives.kdf', 'cryptography.hazmat.primitives.kdf.scrypt', 'urllib3.packages.backports', 'urllib3.packages.backports.makefile', 'requests.__version__', 'requests.utils', 'cgi', 'requests.certs', 'certifi', 'certifi.core', 'requests._internal_utils', 'requests.compat', 'http.cookiejar', 'http.cookies', 'requests.cookies', 'requests.structures', 'requests.packages', 'requests.packages.urllib3', 'requests.packages.urllib3.connectionpool', 'requests.packages.urllib3.exceptions', 'requests.packages.urllib3.packages', 'requests.packages.urllib3.packages.ssl_match_hostname', 'requests.packages.urllib3.packages.six', 'requests.packages.urllib3.packages.six.moves', 'requests.packages.urllib3.packages.six.moves.http_client', 'requests.packages.urllib3.connection', 'requests.packages.urllib3.util', 'requests.packages.urllib3.util.connection', 'requests.packages.urllib3.util.wait', 'requests.packages.urllib3.util.selectors', 'requests.packages.urllib3.util.request', 'requests.packages.urllib3.util.response', 'requests.packages.urllib3.util.ssl_', 'requests.packages.urllib3.util.timeout', 'requests.packages.urllib3.util.retry', 'requests.packages.urllib3.util.url', 'requests.packages.urllib3._collections', 'requests.packages.urllib3.request', 'requests.packages.urllib3.filepost', 'requests.packages.urllib3.fields', 'requests.packages.urllib3.packages.six.moves.urllib', 'requests.packages.urllib3.packages.six.moves.urllib.parse', 'requests.packages.urllib3.response', 'requests.packages.urllib3.poolmanager', 'requests.packages.urllib3.contrib', 'requests.packages.urllib3.contrib.pyopenssl', 'requests.packages.urllib3.packages.backports', 'requests.packages.urllib3.packages.backports.makefile', 'idna', 'idna.package_data', 'idna.core', 'idna.idnadata', 'idna.intranges', 'requests.packages.idna', 'requests.packages.idna.package_data', 'requests.packages.idna.core', 'requests.packages.idna.idnadata', 'requests.packages.idna.intranges', 'requests.packages.chardet', 'requests.packages.chardet.compat', 'requests.packages.chardet.universaldetector', 'requests.packages.chardet.charsetgroupprober', 'requests.packages.chardet.enums', 'requests.packages.chardet.charsetprober', 'requests.packages.chardet.escprober', 'requests.packages.chardet.codingstatemachine', 'requests.packages.chardet.escsm', 'requests.packages.chardet.latin1prober', 'requests.packages.chardet.mbcsgroupprober', 'requests.packages.chardet.utf8prober', 'requests.packages.chardet.mbcssm', 'requests.packages.chardet.sjisprober', 'requests.packages.chardet.mbcharsetprober', 'requests.packages.chardet.chardistribution', 'requests.packages.chardet.euctwfreq', 'requests.packages.chardet.euckrfreq', 'requests.packages.chardet.gb2312freq', 'requests.packages.chardet.big5freq', 'requests.packages.chardet.jisfreq', 'requests.packages.chardet.jpcntx', 'requests.packages.chardet.eucjpprober', 'requests.packages.chardet.gb2312prober', 'requests.packages.chardet.euckrprober', 'requests.packages.chardet.cp949prober', 'requests.packages.chardet.big5prober', 'requests.packages.chardet.euctwprober', 'requests.packages.chardet.sbcsgroupprober', 'requests.packages.chardet.sbcharsetprober', 'requests.packages.chardet.langcyrillicmodel', 'requests.packages.chardet.langgreekmodel', 'requests.packages.chardet.langbulgarianmodel', 'requests.packages.chardet.langthaimodel', 'requests.packages.chardet.langhebrewmodel', 'requests.packages.chardet.hebrewprober', 'requests.packages.chardet.langturkishmodel', 'requests.packages.chardet.version', 'requests.models', 'requests.hooks', 'requests.auth', 'requests.status_codes', 'requests.api', 'requests.sessions', 'requests.adapters', 'urllib3.contrib.socks', 'socks', 'tarfile', 'dataclasses', 'matplotlib.patheffects', 'fastprogress', 'fastprogress.fastprogress', 'fastprogress.version', 'pkg_resources', 'plistlib', 'xml', 'xml.parsers', 'xml.parsers.expat', 'pyexpat.errors', 'pyexpat.model', 'pyexpat', 'xml.parsers.expat.model', 'xml.parsers.expat.errors', 'pkg_resources.extern', 'pkg_resources._vendor', 'pkg_resources.extern.six', 'pkg_resources._vendor.six', 'pkg_resources.extern.six.moves', 'pkg_resources._vendor.six.moves', 'pkg_resources.py31compat', 'pkg_resources.extern.appdirs', 'pkg_resources._vendor.packaging.__about__', 'pkg_resources.extern.packaging', 'pkg_resources.extern.packaging.version', 'pkg_resources.extern.packaging._structures', 'pkg_resources.extern.packaging.specifiers', 'pkg_resources.extern.packaging._compat', 'pkg_resources.extern.packaging.requirements', 'pkg_resources.extern.pyparsing', 'pkg_resources.extern.six.moves.urllib', 'pkg_resources.extern.packaging.markers', 'fastai.imports.torch', 'torch', 'torch._utils', 'torch._utils_internal', 'torch.version', 'torch._six', 'torch._nvrtc', 'torch._C._onnx', 'torch._C._jit_tree_views', 'torch._C._jit', 'torch._C', 'torch.random', 'torch.serialization', 'torch._tensor_str', 'torch.tensor', 'torch.utils', 'torch.utils.hooks', 'torch.storage', 'torch.cuda', 'torch.cuda._utils', 'torch.cuda.random', 'torch.cuda.sparse', 'torch.cuda.profiler', 'torch.cuda.nvtx', 'torch.cuda.streams', 'torch.sparse', 'torch.functional', 'torch.nn', 'torch.nn.modules', 'torch.nn.modules.module', 'torch.nn.backends', 'torch.nn.backends.thnn', 'torch.nn.backends.backend', 'torch.nn._functions', 'torch.nn._functions.thnn', 'torch.nn._functions.thnn.auto', 'torch._thnn', 'torch._thnn.utils', 'torch.autograd', 'torch.autograd.variable', 'torch.autograd.function', 'torch.autograd.gradcheck', 'torch.testing', 'torch.autograd.grad_mode', 'torch.autograd.anomaly_mode', 'torch.autograd.profiler', 'torch.nn._functions.thnn.auto_double_backwards', 'torch.nn._functions.thnn.auto_symbolic', 'torch.autograd._functions', 'torch.autograd._functions.tensor', 'torch.autograd._functions.utils', 'torch.nn._functions.thnn.normalization', 'torch.nn._functions.thnn.fold', 'torch.nn._functions.thnn.sparse', 'torch.nn.parameter', 'torch.nn.modules.linear', 'torch.nn.functional', 'torch.nn._reduction', 'torch._jit_internal', 'torch.nn.modules.utils', 'torch.nn._functions.vision', 'torch.backends', 'torch.backends.cudnn', 'torch.nn.grad', 'torch.nn._VF', 'torch.nn.init', 'torch.nn.modules.conv', 'torch.nn.modules.activation', 'torch.nn.modules.loss', 'torch.nn.modules.container', 'torch.nn.modules.pooling', 'torch.nn.modules.batchnorm', 'torch.nn.modules.instancenorm', 'torch.nn.modules.normalization', 'torch.nn.modules.dropout', 'torch.nn.modules.padding', 'torch.nn.modules.sparse', 'torch.nn.modules.rnn', 'torch.nn.utils', 'torch.nn.utils.rnn', 'torch.nn.utils.clip_grad', 'torch.nn.utils.weight_norm', 'torch.nn.utils.convert_parameters', 'torch.nn.utils.spectral_norm', 'torch.nn.modules.pixelshuffle', 'torch.nn.modules.upsampling', 'torch.nn.modules.distance', 'torch.nn.modules.fold', 'torch.nn.modules.adaptive', 'torch.nn.parallel', 'torch.nn.parallel.parallel_apply', 'torch.nn.parallel.replicate', 'torch.cuda.comm', 'torch.cuda.nccl', 'torch.nn.parallel.data_parallel', 'torch.nn.parallel.scatter_gather', 'torch.nn.parallel._functions', 'torch.nn.parallel.distributed', 'torch.distributed', 'torch.distributed.distributed_c10d', 'torch.distributed.rendezvous', 'torch.nn.parallel.distributed_cpu', 'torch.nn.parallel.deprecated', 'torch.nn.parallel.deprecated.distributed', 'torch.distributed.deprecated', 'torch.nn.parallel.deprecated.distributed_cpu', 'torch.optim', 'torch.optim.adadelta', 'torch.optim.optimizer', 'torch.optim.adagrad', 'torch.optim.adam', 'torch.optim.sparse_adam', 'torch.optim.adamax', 'torch.optim.asgd', 'torch.optim.sgd', 'torch.optim.rprop', 'torch.optim.rmsprop', 'torch.optim.lbfgs', 'torch.optim.lr_scheduler', 'torch.multiprocessing', 'torch.multiprocessing.reductions', 'multiprocessing.resource_sharer', 'torch.multiprocessing.spawn', 'torch.utils.backcompat', 'torch.onnx', 'torch.jit', 'torch.jit.frontend', 'torch.jit.annotations', 'torch.distributions', 'torch.distributions.bernoulli', 'torch.distributions.constraints', 'torch.distributions.exp_family', 'torch.distributions.distribution', 'torch.distributions.utils', 'torch.distributions.beta', 'torch.distributions.dirichlet', 'torch.distributions.binomial', 'torch.distributions.categorical', 'torch.distributions.cauchy', 'torch.distributions.chi2', 'torch.distributions.gamma', 'torch.distributions.constraint_registry', 'torch.distributions.transforms', 'torch.distributions.exponential', 'torch.distributions.fishersnedecor', 'torch.distributions.geometric', 'torch.distributions.gumbel', 'torch.distributions.uniform', 'torch.distributions.transformed_distribution', 'torch.distributions.half_cauchy', 'torch.distributions.half_normal', 'torch.distributions.normal', 'torch.distributions.independent', 'torch.distributions.kl', 'torch.distributions.laplace', 'torch.distributions.logistic_normal', 'torch.distributions.lowrank_multivariate_normal', 'torch.distributions.multivariate_normal', 'torch.distributions.one_hot_categorical', 'torch.distributions.pareto', 'torch.distributions.poisson', 'torch.distributions.log_normal', 'torch.distributions.multinomial', 'torch.distributions.negative_binomial', 'torch.distributions.relaxed_bernoulli', 'torch.distributions.relaxed_categorical', 'torch.distributions.studentT', 'torch.distributions.weibull', 'torch.backends.cuda', 'torch.backends.mkl', 'torch._torch_docs', 'torch._tensor_docs', 'torch._storage_docs', 'torch._ops', 'torch.utils.data', 'torch.utils.data.sampler', 'torch.utils.data.distributed', 'torch.utils.data.dataset', 'torch.utils.data.dataloader']),\n",
       " '_i159': 'import sys\\nfor k in sys.modules.keys():\\n    print(k)',\n",
       " 'k': 'torch.utils.data.dataloader',\n",
       " '_i160': 'os',\n",
       " '_160': <module 'os' from '/home/bala/anaconda3/lib/python3.6/os.py'>,\n",
       " '_i161': 'Path',\n",
       " '_161': pathlib.Path,\n",
       " '_i162': \"a = Path('.')\",\n",
       " '_i163': 'a.ls()',\n",
       " '_163': [PosixPath('.git'),\n",
       "  PosixPath('.gitignore'),\n",
       "  PosixPath('.ipynb_checkpoints'),\n",
       "  PosixPath('00-Installation.ipynb'),\n",
       "  PosixPath('01_NumpyLecture.ipynb'),\n",
       "  PosixPath('02_Numpy_LiveCoding_Reference.ipynb'),\n",
       "  PosixPath('03_Numpy_UserGuide.ipynb'),\n",
       "  PosixPath('CP01.ipynb'),\n",
       "  PosixPath('README.md'),\n",
       "  PosixPath('tmp')],\n",
       " '_i164': 'google',\n",
       " '_i165': 'shutil',\n",
       " '_165': <module 'shutil' from '/home/bala/anaconda3/lib/python3.6/shutil.py'>,\n",
       " '_i166': 'locals()'}"
      ]
     },
     "execution_count": 166,
     "metadata": {},
     "output_type": "execute_result"
    }
   ],
   "source": [
    "locals()"
   ]
  },
  {
   "cell_type": "code",
   "execution_count": 4,
   "metadata": {},
   "outputs": [],
   "source": [
    "g = globals()"
   ]
  },
  {
   "cell_type": "code",
   "execution_count": 9,
   "metadata": {},
   "outputs": [],
   "source": [
    "l = locals()"
   ]
  },
  {
   "cell_type": "code",
   "execution_count": 14,
   "metadata": {},
   "outputs": [
    {
     "name": "stdout",
     "output_type": "stream",
     "text": [
      "__name__\n",
      "__doc__\n",
      "__package__\n",
      "__loader__\n",
      "__spec__\n",
      "__builtin__\n",
      "__builtins__\n",
      "_ih\n",
      "_oh\n",
      "_dh\n",
      "In\n",
      "Out\n",
      "get_ipython\n",
      "exit\n",
      "quit\n",
      "_\n",
      "__\n",
      "___\n",
      "_i\n",
      "_ii\n",
      "_iii\n",
      "_i1\n",
      "csv\n",
      "gc\n",
      "gzip\n",
      "os\n",
      "pickle\n",
      "shutil\n",
      "sys\n",
      "warnings\n",
      "yaml\n",
      "io\n",
      "subprocess\n",
      "math\n",
      "plt\n",
      "np\n",
      "pd\n",
      "random\n",
      "scipy\n",
      "abc\n",
      "collections\n",
      "hashlib\n",
      "itertools\n",
      "json\n",
      "operator\n",
      "pathlib\n",
      "mimetypes\n",
      "inspect\n",
      "typing\n",
      "functools\n",
      "importlib\n",
      "weakref\n",
      "html\n",
      "re\n",
      "requests\n",
      "tarfile\n",
      "numbers\n",
      "tempfile\n",
      "abstractmethod\n",
      "abstractproperty\n",
      "Counter\n",
      "defaultdict\n",
      "Iterable\n",
      "namedtuple\n",
      "OrderedDict\n",
      "concurrent\n",
      "ProcessPoolExecutor\n",
      "ThreadPoolExecutor\n",
      "copy\n",
      "deepcopy\n",
      "dataclass\n",
      "field\n",
      "InitVar\n",
      "Enum\n",
      "IntEnum\n",
      "partial\n",
      "reduce\n",
      "set_trace\n",
      "patches\n",
      "patheffects\n",
      "array\n",
      "cos\n",
      "exp\n",
      "log\n",
      "sin\n",
      "tan\n",
      "tanh\n",
      "attrgetter\n",
      "itemgetter\n",
      "Path\n",
      "warn\n",
      "contextmanager\n",
      "MasterBar\n",
      "ProgressBar\n",
      "Patch\n",
      "Series\n",
      "DataFrame\n",
      "BufferedWriter\n",
      "BytesIO\n",
      "pkg_resources\n",
      "master_bar\n",
      "progress_bar\n",
      "Number\n",
      "Any\n",
      "AnyStr\n",
      "Callable\n",
      "Collection\n",
      "Dict\n",
      "Hashable\n",
      "Iterator\n",
      "List\n",
      "Mapping\n",
      "NewType\n",
      "Optional\n",
      "Sequence\n",
      "Tuple\n",
      "TypeVar\n",
      "Union\n",
      "SimpleNamespace\n",
      "try_import\n",
      "have_min_pkg_version\n",
      "AnnealFunc\n",
      "ArgStar\n",
      "BatchSamples\n",
      "DataFrameOrChunks\n",
      "FilePathList\n",
      "Floats\n",
      "ImgLabel\n",
      "ImgLabels\n",
      "IntsOrStrs\n",
      "KeyFunc\n",
      "KWArgs\n",
      "ListOrItem\n",
      "ListRules\n",
      "ListSizes\n",
      "NPArrayableList\n",
      "NPArrayList\n",
      "NPArrayMask\n",
      "NPImage\n",
      "OptDataFrame\n",
      "OptListOrItem\n",
      "OptRange\n",
      "OptStrTuple\n",
      "OptStats\n",
      "PathOrStr\n",
      "PathLikeOrBinaryStream\n",
      "PBar\n",
      "Point\n",
      "Points\n",
      "Sizes\n",
      "SplitArrayList\n",
      "StartOptEnd\n",
      "StrList\n",
      "Tokens\n",
      "OptStrList\n",
      "num_cpus\n",
      "defaults\n",
      "is_listy\n",
      "is_tuple\n",
      "is_dict\n",
      "is_pathlike\n",
      "noop\n",
      "chunks\n",
      "to_int\n",
      "ifnone\n",
      "is1d\n",
      "uniqueify\n",
      "idx_dict\n",
      "find_classes\n",
      "arrays_split\n",
      "random_split\n",
      "listify\n",
      "camel2snake\n",
      "even_mults\n",
      "extract_kwargs\n",
      "partition\n",
      "partition_by_cores\n",
      "series2cat\n",
      "TfmList\n",
      "ItemBase\n",
      "recurse_eq\n",
      "download_url\n",
      "range_of\n",
      "arange_of\n",
      "join_path\n",
      "join_paths\n",
      "loadtxt_str\n",
      "save_texts\n",
      "df_names_to_idx\n",
      "one_hot\n",
      "index_row\n",
      "func_args\n",
      "has_arg\n",
      "split_kwargs_by_func\n",
      "EmptyLabel\n",
      "Category\n",
      "MultiCategory\n",
      "FloatItem\n",
      "text2html_table\n",
      "parallel\n",
      "subplots\n",
      "show_some\n",
      "get_tmp_file\n",
      "compose\n",
      "PrettyString\n",
      "float_or_x\n",
      "_i2\n",
      "_2\n",
      "_i3\n",
      "_3\n",
      "_i4\n",
      "g\n",
      "_i5\n",
      "l\n",
      "_i6\n",
      "_i7\n",
      "_i8\n",
      "k\n",
      "v\n",
      "_i9\n",
      "_i10\n",
      "_i11\n",
      "_11\n",
      "_i12\n",
      "_12\n",
      "_i13\n",
      "_13\n",
      "_i14\n"
     ]
    }
   ],
   "source": [
    "for k,v in g.items():\n",
    "    print(k)"
   ]
  },
  {
   "cell_type": "code",
   "execution_count": 13,
   "metadata": {},
   "outputs": [
    {
     "data": {
      "text/plain": [
       "'_i11'"
      ]
     },
     "execution_count": 13,
     "metadata": {},
     "output_type": "execute_result"
    }
   ],
   "source": [
    "_i12"
   ]
  },
  {
   "cell_type": "code",
   "execution_count": 15,
   "metadata": {},
   "outputs": [
    {
     "data": {
      "text/plain": [
       "<module 'numpy.random' from '/home/bala/anaconda3/lib/python3.6/site-packages/numpy/random/__init__.py'>"
      ]
     },
     "execution_count": 15,
     "metadata": {},
     "output_type": "execute_result"
    }
   ],
   "source": [
    "np.random."
   ]
  },
  {
   "cell_type": "code",
   "execution_count": null,
   "metadata": {},
   "outputs": [],
   "source": []
  }
 ],
 "metadata": {
  "kernelspec": {
   "display_name": "Python 3",
   "language": "python",
   "name": "python3"
  },
  "language_info": {
   "codemirror_mode": {
    "name": "ipython",
    "version": 3
   },
   "file_extension": ".py",
   "mimetype": "text/x-python",
   "name": "python",
   "nbconvert_exporter": "python",
   "pygments_lexer": "ipython3",
   "version": "3.6.8"
  }
 },
 "nbformat": 4,
 "nbformat_minor": 2
}
